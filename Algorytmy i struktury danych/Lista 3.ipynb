{
 "cells": [
  {
   "cell_type": "markdown",
   "metadata": {},
   "source": [
    "# Lista 3"
   ]
  },
  {
   "cell_type": "markdown",
   "metadata": {},
   "source": [
    "### Algorytmy i struktury danych"
   ]
  },
  {
   "cell_type": "markdown",
   "metadata": {},
   "source": [
    "#### Urszula Spik i Natalia Jelito"
   ]
  },
  {
   "cell_type": "code",
   "execution_count": 89,
   "metadata": {},
   "outputs": [],
   "source": [
    "import matplotlib.pyplot as plt"
   ]
  },
  {
   "cell_type": "markdown",
   "metadata": {},
   "source": [
    "### Zadanie 1"
   ]
  },
  {
   "cell_type": "markdown",
   "metadata": {},
   "source": [
    "Wzór na prawdopodbieństwo osiągnięcia co najwyżej k sukcesów możemy przekształcić do poniższej postaci\n",
    "$$ P(n,k) = \\sum\\limits_{i=0}^k {n\\choose i} p^i{(1-p)}^{n-i} = \\sum\\limits_{i=0}^k {n\\choose i} {\\left(\\frac{p}{1-p}\\right)}^i{(1-p)}^n$$\n",
    "\n",
    "Można zauważyć, że czynnik $(1-p)^n$ nie zależy od k, co pozwala wyciągnąć go przed sumę\n",
    "$$ P(n,k)={(1-p)}^n\\sum\\limits_{i=0}^k {n\\choose i} {\\left(\\frac{p}{1-p}\\right)}^i  $$ \n",
    "\n",
    "Do obliczenia czynnika $(1-p)^n$ można skorzystać z algorytmu Exponentiation by squaring (algorytm szybkiego potęgowania) o złożoności $O(\\log n)$."
   ]
  },
  {
   "cell_type": "markdown",
   "metadata": {},
   "source": [
    "* Wersja rekurencyjna algorytmu"
   ]
  },
  {
   "cell_type": "code",
   "execution_count": 52,
   "metadata": {},
   "outputs": [],
   "source": [
    "def exp_by_sqr_rec(base: float, power: int):\n",
    "    \"\"\"\n",
    "    Find value of exponential function\n",
    "    in recursive way using exponentiation\n",
    "    by squaring alghoritm.\n",
    "\n",
    "    Args:\n",
    "        base (float): base of exponential function\n",
    "        power (int): power of exponential function\n",
    "\n",
    "    Returns:\n",
    "        (float): Value of exponential function\n",
    "    \"\"\"\n",
    "    if power == 0:\n",
    "        return 1\n",
    "    if not (power % 2) == 0:\n",
    "        return base * (exp_by_sqr_rec(base, (power - 1)/2))**2\n",
    "    return (exp_by_sqr_rec(base, power/2))**2"
   ]
  },
  {
   "cell_type": "markdown",
   "metadata": {},
   "source": [
    "* Wersja iteracyjna algorytmu"
   ]
  },
  {
   "cell_type": "code",
   "execution_count": 54,
   "metadata": {},
   "outputs": [],
   "source": [
    "def exp_by_sqr(base: float, power: int):\n",
    "    \"\"\"\n",
    "    Find value of exponential function\n",
    "    using exponentiation\n",
    "    by squaring alghoritm.\n",
    "\n",
    "    Args:\n",
    "        base (float): base of exponential function\n",
    "        power (int): power of exponential function\n",
    "        \n",
    "    Raises:\n",
    "        TypeError: Power should be an integer.\n",
    "        ValueError: Power should be positive integer.\n",
    "\n",
    "    Returns:\n",
    "        (float): Value of exponential function\n",
    "    \"\"\"\n",
    "    if not isinstance(power, int):\n",
    "        raise TypeError(\"Power should be an integer.\")\n",
    "    if power < 0:\n",
    "        raise ValueError(\"Power should be positive integer.\")\n",
    "    if power == 0:\n",
    "      return 1\n",
    "    y = 1\n",
    "    while power > 1:\n",
    "      if (power % 2) == 0:\n",
    "        base = base * base\n",
    "        power = power / 2\n",
    "      else:\n",
    "        y = base * y\n",
    "        base = base * base\n",
    "        power = (power - 1) / 2\n",
    "    return base * y"
   ]
  },
  {
   "cell_type": "markdown",
   "metadata": {},
   "source": [
    "##### Sprawdzenie"
   ]
  },
  {
   "cell_type": "code",
   "execution_count": 55,
   "metadata": {},
   "outputs": [
    {
     "name": "stdout",
     "output_type": "stream",
     "text": [
      "742 ns ± 101 ns per loop (mean ± std. dev. of 7 runs, 1000000 loops each)\n"
     ]
    }
   ],
   "source": [
    "%%timeit\n",
    "exp_by_sqr(0.5, 4)"
   ]
  },
  {
   "cell_type": "code",
   "execution_count": 56,
   "metadata": {},
   "outputs": [
    {
     "data": {
      "text/plain": [
       "0.0625"
      ]
     },
     "execution_count": 56,
     "metadata": {},
     "output_type": "execute_result"
    }
   ],
   "source": [
    "exp_by_sqr(0.5, 4)"
   ]
  },
  {
   "cell_type": "code",
   "execution_count": 57,
   "metadata": {},
   "outputs": [
    {
     "name": "stdout",
     "output_type": "stream",
     "text": [
      "4.08 µs ± 570 ns per loop (mean ± std. dev. of 7 runs, 100000 loops each)\n"
     ]
    }
   ],
   "source": [
    "%%timeit\n",
    "exp_by_sqr(20, 300)"
   ]
  },
  {
   "cell_type": "code",
   "execution_count": 58,
   "metadata": {},
   "outputs": [
    {
     "name": "stdout",
     "output_type": "stream",
     "text": [
      "1.62 µs ± 353 ns per loop (mean ± std. dev. of 7 runs, 100000 loops each)\n"
     ]
    }
   ],
   "source": [
    "%%timeit\n",
    "exp_by_sqr_rec(0.5, 4)"
   ]
  },
  {
   "cell_type": "code",
   "execution_count": 59,
   "metadata": {},
   "outputs": [
    {
     "data": {
      "text/plain": [
       "0.0625"
      ]
     },
     "execution_count": 59,
     "metadata": {},
     "output_type": "execute_result"
    }
   ],
   "source": [
    "exp_by_sqr_rec(0.5, 4)"
   ]
  },
  {
   "cell_type": "code",
   "execution_count": 60,
   "metadata": {},
   "outputs": [
    {
     "name": "stdout",
     "output_type": "stream",
     "text": [
      "9.8 µs ± 3.25 µs per loop (mean ± std. dev. of 7 runs, 100000 loops each)\n"
     ]
    }
   ],
   "source": [
    "%%timeit\n",
    "exp_by_sqr_rec(20, 300)"
   ]
  },
  {
   "cell_type": "markdown",
   "metadata": {},
   "source": [
    "W głównej funkcji zostanie wykorzystana wersja iteracyjna.\n"
   ]
  },
  {
   "cell_type": "markdown",
   "metadata": {},
   "source": [
    "Dalej, dla symbolu Newtona znana jest tożsamość\n",
    "$$ {n \\choose k} ={\\frac {\\prod _{i=1}^{k}n-i+1}{\\prod _{i=1}^{k}i}} =\\prod _{i=1}^{k} {\\frac {n-i+1}{i}} $$\n"
   ]
  },
  {
   "cell_type": "markdown",
   "metadata": {},
   "source": [
    "Teraz można zauważyć, że kolejne wyrazy naszej sumy są równe wyraz poprzedni pomnożony przez wyrażenie $ {\\frac {n-i+1}{i}} \\cdot {\\frac {p}{p-1}}$"
   ]
  },
  {
   "cell_type": "markdown",
   "metadata": {},
   "source": [
    "Podsumujmy informacje na temat naszego algorytmu potrzebne do wyliczenia liczby mnożeń:\n",
    "1. Wyliczenie stałego współczynnika $const = \\frac{p}{1-p}$ - *1 mnożenie*.\n",
    "2. Przy wyliczaniu następnego wyrazu mnożąc poprzedni przez $ {\\frac {n-i+1}{i}} \\cdot {\\frac {p}{p-1}}$ - *3 mnożenia dla każdego elementu w pętli*\n",
    "3. Dla $i=0$ element naszej sumy po wyciągnięciu czynnik $(1-p)^n$ jest zawsze równy zawsze 1\n",
    "4. Dla $i=1$ w $\\frac{n-i+1}{i}$, dzielenie przez 1 jest niepotrzebne dlatego w tym wypadku mamy - *2 mnożenia*\n",
    "5. Liczba operacji wykonywanych w pętli po uprzednim wyliczeniu składników sumy dla $i=0$ i $i=1$ wynosi $k-1$"
   ]
  },
  {
   "cell_type": "markdown",
   "metadata": {},
   "source": [
    "Ostatecznie nasza liczba mnożeń będzie wyglądać $ 1 + 3(k-1) + 2 = 3k $, a dodając nasze $ 3k $ do liczby mnożeń z algorytmu szybkiego potęgowania otrzymujemy wymaganą ilość mnożeń :)"
   ]
  },
  {
   "cell_type": "code",
   "execution_count": 61,
   "metadata": {},
   "outputs": [],
   "source": [
    "def probability(n: int, k: int, p: float):\n",
    "    \"\"\"\n",
    "    Find the probability of maximum k successes in n trias,\n",
    "    if p is probability of a single success.\n",
    "\n",
    "    Args:\n",
    "        n (int): Number of tries.\n",
    "        k (int): Maximum number of successes.\n",
    "        p (float): Single success probability.\n",
    "\n",
    "    Raises:\n",
    "        ValueError: Value of probability should be in [0, 1]\n",
    "\n",
    "    Returns:\n",
    "        (float): Total probability.\n",
    "    \"\"\"\n",
    "    if p < 0 or p > 1:\n",
    "        raise ValueError(\"Value of probability should be in [0, 1]\")\n",
    "    const = p/(1-p)\n",
    "    prob = exp_by_sqr(1-p, n)\n",
    "    binom = prob * n * const\n",
    "    prob += binom\n",
    "    for i in range(2, k+1):\n",
    "        binom *= (n-i+1)/i*const\n",
    "        prob += binom\n",
    "    return prob"
   ]
  },
  {
   "cell_type": "markdown",
   "metadata": {},
   "source": [
    "#### TEST:"
   ]
  },
  {
   "cell_type": "code",
   "execution_count": 62,
   "metadata": {},
   "outputs": [
    {
     "data": {
      "text/plain": [
       "0.9470278620000003"
      ]
     },
     "execution_count": 62,
     "metadata": {},
     "output_type": "execute_result"
    }
   ],
   "source": [
    "probability(n=9, k=2, p=0.1)"
   ]
  },
  {
   "cell_type": "code",
   "execution_count": 63,
   "metadata": {},
   "outputs": [
    {
     "data": {
      "text/plain": [
       "0.8704000000000001"
      ]
     },
     "execution_count": 63,
     "metadata": {},
     "output_type": "execute_result"
    }
   ],
   "source": [
    "probability(n=4, k=3, p=0.6)"
   ]
  },
  {
   "cell_type": "code",
   "execution_count": 64,
   "metadata": {},
   "outputs": [
    {
     "data": {
      "text/plain": [
       "0.10404917949499576"
      ]
     },
     "execution_count": 64,
     "metadata": {},
     "output_type": "execute_result"
    }
   ],
   "source": [
    "probability(n=10, k=1, p=1/3)"
   ]
  },
  {
   "cell_type": "markdown",
   "metadata": {},
   "source": [
    "Wyniki zgadzają się z tymi wyliczonymi \"ręcznie\" :D"
   ]
  },
  {
   "cell_type": "markdown",
   "metadata": {},
   "source": [
    "### Zadanie 2"
   ]
  },
  {
   "cell_type": "markdown",
   "metadata": {},
   "source": [
    "Żeby obliczyć wartość wielomianu $W(x)=a_0+a_1x+a_2x^2+\\ldots+a_{n-1}x^{n-1}+a_nx^n$ dla zadanego x bezpośrednio, należy wykonnać $1 + 2 + 3 + ... + (n-1) + n = \\frac{n(n+1)}{2}$ mnożeń i $n$ dodawań."
   ]
  },
  {
   "cell_type": "code",
   "execution_count": 65,
   "metadata": {},
   "outputs": [],
   "source": [
    "def polynomial_simple(a: list, x: float):\n",
    "    \"\"\"Calculte the value of polynomial and number of operations\n",
    "    just from definition.\n",
    "\n",
    "    Args:\n",
    "        a (list): list of coefficients\n",
    "        x (float): varible value\n",
    "\n",
    "    Raises:\n",
    "        TypeError: a must be a list and x must be int or float\n",
    "        TypeError: a cannot be empty and all coeffictients must be numbers\n",
    "\n",
    "    Returns:\n",
    "        (tuple): value of polynomial and number of operations\n",
    "    \"\"\"\n",
    "    if isinstance(a, list) and (type(x) in [int, float]):\n",
    "        if all(type(element) in [int,float] for element in a) and a!=[]:\n",
    "            result = sum([a[i] * x ** (i) for i in range(len(a))])\n",
    "            operations =sum([i for i in range(len(a))])\n",
    "        else:\n",
    "            raise TypeError(\"coefficients must be numbers\")\n",
    "    else:\n",
    "        raise TypeError(\"arguments must be a list and a number\")\n",
    "        \n",
    "    return result, operations"
   ]
  },
  {
   "cell_type": "markdown",
   "metadata": {},
   "source": [
    "Weźmy $W(x)=1+2x+3x^2+4x^3$ i $x=2$"
   ]
  },
  {
   "cell_type": "code",
   "execution_count": 66,
   "metadata": {},
   "outputs": [
    {
     "data": {
      "text/plain": [
       "(49, 6)"
      ]
     },
     "execution_count": 66,
     "metadata": {},
     "output_type": "execute_result"
    }
   ],
   "source": [
    "polynomial_simple([1,2,3,4],2)"
   ]
  },
  {
   "cell_type": "code",
   "execution_count": 67,
   "metadata": {},
   "outputs": [
    {
     "name": "stdout",
     "output_type": "stream",
     "text": [
      "4.67 µs ± 953 ns per loop (mean ± std. dev. of 7 runs, 100000 loops each)\n"
     ]
    }
   ],
   "source": [
    "%%timeit\n",
    "polynomial_simple([1,2,3,4],2)"
   ]
  },
  {
   "cell_type": "markdown",
   "metadata": {},
   "source": [
    "Jeśli przekształcimy to wyrażenie i zapiszemy jako $$W(x)=a_0+x(a_1+x(a_2+\\ldots +x(a_{n-1}+xa_n)\\ldots))$$ to wystarczy jedynie $n$ mnożeń i $n$ dodawań. Ten sposób znany jest jako schemat Hornera."
   ]
  },
  {
   "cell_type": "code",
   "execution_count": 68,
   "metadata": {},
   "outputs": [],
   "source": [
    "def polynomial_horner(a:list,x:float):\n",
    "    \"\"\"Calculte the value of polynomial and number of operations\n",
    "    using Horner's method.\n",
    "\n",
    "    Args:\n",
    "        a (list): list of coefficients\n",
    "        x (float): varible value\n",
    "\n",
    "    Raises:\n",
    "        TypeError: a must be a list and x must be int or float\n",
    "        TypeError: a cannot be empty and all coeffictients must be numbers\n",
    "\n",
    "    Returns:\n",
    "        (tuple): value of polynomial and number of operations\n",
    "    \"\"\"\n",
    "    if isinstance(a, list) and (type(x) in [int, float]):\n",
    "        if all(type(element) in [int,float] for element in a) and a!=[]:\n",
    "            result = a[-1]\n",
    "            operations=0\n",
    "            for element in range(-2,-len(a)-1, -1):\n",
    "                result = x * result + a[element]\n",
    "                operations += 1 \n",
    "            return result, operations\n",
    "        else:\n",
    "            raise TypeError(\"coefficients must be numbers\")\n",
    "    else:\n",
    "        raise TypeError(\"arguments must be a list and a number\")"
   ]
  },
  {
   "cell_type": "markdown",
   "metadata": {},
   "source": [
    "Wracając do naszego przykładu $W(x)=1+2x+3x^2+4x^3$ i $x=2$"
   ]
  },
  {
   "cell_type": "code",
   "execution_count": 69,
   "metadata": {},
   "outputs": [
    {
     "data": {
      "text/plain": [
       "(49, 3)"
      ]
     },
     "execution_count": 69,
     "metadata": {},
     "output_type": "execute_result"
    }
   ],
   "source": [
    "polynomial_horner([1,2,3,4],2)"
   ]
  },
  {
   "cell_type": "code",
   "execution_count": 70,
   "metadata": {},
   "outputs": [
    {
     "name": "stdout",
     "output_type": "stream",
     "text": [
      "2.4 µs ± 220 ns per loop (mean ± std. dev. of 7 runs, 100000 loops each)\n"
     ]
    }
   ],
   "source": [
    "%%timeit\n",
    "polynomial_horner([1,2,3,4],2)"
   ]
  },
  {
   "cell_type": "markdown",
   "metadata": {},
   "source": [
    "Sprawdzając dla trochę bardziej złożonego wielomianu np. $W(x)=1+23x+31x^2+4x^3+23x^6+12x^8+35x^{25}$ dla $x=18$"
   ]
  },
  {
   "cell_type": "code",
   "execution_count": 74,
   "metadata": {},
   "outputs": [
    {
     "data": {
      "text/plain": [
       "(843103072383008662537167951116731, 325)"
      ]
     },
     "execution_count": 74,
     "metadata": {},
     "output_type": "execute_result"
    }
   ],
   "source": [
    "polynomial_simple([1,23,31,4,0,0,23,0,12,0,0,0,0,0,0,0,0,0,0,0,0,0,0,0,0,35], 18)"
   ]
  },
  {
   "cell_type": "code",
   "execution_count": 75,
   "metadata": {},
   "outputs": [
    {
     "data": {
      "text/plain": [
       "(843103072383008662537167951116731, 25)"
      ]
     },
     "execution_count": 75,
     "metadata": {},
     "output_type": "execute_result"
    }
   ],
   "source": [
    "polynomial_horner([1,23,31,4,0,0,23,0,12,0,0,0,0,0,0,0,0,0,0,0,0,0,0,0,0,35], 18)"
   ]
  },
  {
   "cell_type": "code",
   "execution_count": 76,
   "metadata": {},
   "outputs": [
    {
     "name": "stdout",
     "output_type": "stream",
     "text": [
      "21.5 µs ± 8.26 µs per loop (mean ± std. dev. of 7 runs, 10000 loops each)\n"
     ]
    }
   ],
   "source": [
    "%%timeit\n",
    "polynomial_simple([1,23,31,4,0,0,23,0,12,0,0,0,0,0,0,0,0,0,0,0,0,0,0,0,0,35], 18)"
   ]
  },
  {
   "cell_type": "code",
   "execution_count": 77,
   "metadata": {},
   "outputs": [
    {
     "name": "stdout",
     "output_type": "stream",
     "text": [
      "13.3 µs ± 2.68 µs per loop (mean ± std. dev. of 7 runs, 100000 loops each)\n"
     ]
    }
   ],
   "source": [
    "%%timeit\n",
    "polynomial_horner([1,23,31,4,0,0,23,0,12,0,0,0,0,0,0,0,0,0,0,0,0,0,0,0,0,35], 18)"
   ]
  },
  {
   "cell_type": "markdown",
   "metadata": {},
   "source": [
    "### Zadanie 3"
   ]
  },
  {
   "cell_type": "markdown",
   "metadata": {},
   "source": [
    "1. Wersja uwzględniająca wszystkie znaki (ale bez spacji i znaku nowej linii)"
   ]
  },
  {
   "cell_type": "code",
   "execution_count": 85,
   "metadata": {},
   "outputs": [],
   "source": [
    "def chars_counter(filename: str):\n",
    "    \"\"\"Count number of characters in text without using if\n",
    "    and count function.\n",
    "\n",
    "    Args:\n",
    "        filename (str): Name of the text file with text\n",
    "        to count character.\n",
    "\n",
    "    Returns:\n",
    "        (dict): dictionary with numbers of characters in text\n",
    "    \"\"\"\n",
    "    file = open(filename, 'r', encoding=\"utf-8\")\n",
    "    text = file.read().lower()\n",
    "    text = text.replace(\" \", \"\").replace(\"\\n\", \"\")\n",
    "    char_dic = dict.fromkeys(set(text), 0)\n",
    "    for i in text:\n",
    "        char_dic[i] += 1\n",
    "    return char_dic"
   ]
  },
  {
   "cell_type": "code",
   "execution_count": 86,
   "metadata": {},
   "outputs": [
    {
     "data": {
      "text/plain": [
       "{'b': 13,\n",
       " 'a': 51,\n",
       " 'y': 32,\n",
       " 'ś': 12,\n",
       " 'ó': 8,\n",
       " '.': 3,\n",
       " 'p': 24,\n",
       " 'ę': 18,\n",
       " 'w': 31,\n",
       " 'l': 10,\n",
       " 'c': 40,\n",
       " 'u': 11,\n",
       " 'ż': 3,\n",
       " ',': 18,\n",
       " 'g': 15,\n",
       " 'n': 43,\n",
       " 'r': 32,\n",
       " '!': 4,\n",
       " '(': 1,\n",
       " 's': 29,\n",
       " ')': 1,\n",
       " 'e': 58,\n",
       " 'j': 18,\n",
       " 'ą': 14,\n",
       " 'f': 1,\n",
       " ';': 2,\n",
       " 'i': 66,\n",
       " 'ć': 4,\n",
       " 'k': 25,\n",
       " 'ń': 3,\n",
       " 'm': 28,\n",
       " 't': 32,\n",
       " 'o': 71,\n",
       " 'ł': 12,\n",
       " 'z': 49,\n",
       " 'd': 30,\n",
       " 'h': 13}"
      ]
     },
     "execution_count": 86,
     "metadata": {},
     "output_type": "execute_result"
    }
   ],
   "source": [
    "wersja1 = chars_counter(\"inwokacja.txt\")\n",
    "wersja1"
   ]
  },
  {
   "cell_type": "markdown",
   "metadata": {},
   "source": [
    "2. Wersja uwzględniająca jedynie litery"
   ]
  },
  {
   "cell_type": "code",
   "execution_count": 90,
   "metadata": {},
   "outputs": [],
   "source": [
    "def letters_counter(filename: str):\n",
    "    \"\"\"Count number of letters in text without using if\n",
    "    and count function.\n",
    "\n",
    "    Args:\n",
    "        filename (str): Name of the text file with text\n",
    "        to count letters.\n",
    "\n",
    "    Returns:\n",
    "        (dict): dictionary with numbers of letters in text\n",
    "    \"\"\"\n",
    "    file = open(filename, 'r', encoding=\"utf-8\")\n",
    "    text = file.read().lower()\n",
    "    text = ''.join(filter(str.isalnum, text))\n",
    "    char_dic = dict.fromkeys(set(text), 0)\n",
    "    for i in text:\n",
    "        char_dic[i] += 1\n",
    "    return char_dic"
   ]
  },
  {
   "cell_type": "code",
   "execution_count": 91,
   "metadata": {},
   "outputs": [
    {
     "data": {
      "text/plain": [
       "{'b': 13,\n",
       " 'a': 51,\n",
       " 'y': 32,\n",
       " 'ś': 12,\n",
       " 'ó': 8,\n",
       " 'p': 24,\n",
       " 'ę': 18,\n",
       " 'w': 31,\n",
       " 'l': 10,\n",
       " 'c': 40,\n",
       " 'u': 11,\n",
       " 'ż': 3,\n",
       " 'g': 15,\n",
       " 'n': 43,\n",
       " 'r': 32,\n",
       " 's': 29,\n",
       " 'e': 58,\n",
       " 'j': 18,\n",
       " 'ą': 14,\n",
       " 'f': 1,\n",
       " 'i': 66,\n",
       " 'ć': 4,\n",
       " 'k': 25,\n",
       " 'ń': 3,\n",
       " 'm': 28,\n",
       " 't': 32,\n",
       " 'o': 71,\n",
       " 'ł': 12,\n",
       " 'z': 49,\n",
       " 'd': 30,\n",
       " 'h': 13}"
      ]
     },
     "execution_count": 91,
     "metadata": {},
     "output_type": "execute_result"
    }
   ],
   "source": [
    "wersja2 = letters_counter(\"inwokacja.txt\")\n",
    "wersja2"
   ]
  },
  {
   "cell_type": "markdown",
   "metadata": {},
   "source": [
    "Prezentacja w postaci wykresu"
   ]
  },
  {
   "cell_type": "code",
   "execution_count": 92,
   "metadata": {},
   "outputs": [],
   "source": [
    "def dict_graph(chars: dict):\n",
    "    \"\"\"Present graph of dictionary with number of letters\n",
    "\n",
    "    Args:\n",
    "        chars (dict): dictionary with number of letters\n",
    "    \"\"\"\n",
    "    chars = dict(sorted(chars.items(), key=lambda items: items[1], reverse=True))\n",
    "    names = list(chars.keys())\n",
    "    values = list(chars.values())\n",
    "    plt.bar(range(len(chars)), values, tick_label=names)\n",
    "    plt.show()"
   ]
  },
  {
   "cell_type": "code",
   "execution_count": 93,
   "metadata": {},
   "outputs": [
    {
     "data": {
      "image/png": "[encoded data removed]",
      "text/plain": [
       "<Figure size 432x288 with 1 Axes>"
      ]
     },
     "metadata": {
      "needs_background": "light"
     },
     "output_type": "display_data"
    }
   ],
   "source": [
    "dict_graph(wersja1)"
   ]
  },
  {
   "cell_type": "code",
   "execution_count": 94,
   "metadata": {},
   "outputs": [
    {
     "data": {
      "image/png": "[encoded data removed]",
      "text/plain": [
       "<Figure size 432x288 with 1 Axes>"
      ]
     },
     "metadata": {
      "needs_background": "light"
     },
     "output_type": "display_data"
    }
   ],
   "source": [
    "dict_graph(wersja2)"
   ]
  }
 ],
 "metadata": {
  "interpreter": {
   "hash": "60e8b59a28ff96e8ce5bbea2106e2b15b74ec6f6342f66b898ad4fa7125f837a"
  },
  "kernelspec": {
   "display_name": "Python 3",
   "language": "python",
   "name": "python3"
  },
  "language_info": {
   "codemirror_mode": {
    "name": "ipython",
    "version": 3
   },
   "file_extension": ".py",
   "mimetype": "text/x-python",
   "name": "python",
   "nbconvert_exporter": "python",
   "pygments_lexer": "ipython3",
   "version": "3.8.5"
  }
 },
 "nbformat": 4,
 "nbformat_minor": 2
}
