{
 "cells": [
  {
   "cell_type": "markdown",
   "metadata": {},
   "source": [
    "# Lista 6"
   ]
  },
  {
   "cell_type": "markdown",
   "metadata": {},
   "source": [
    "### Algorytmy i struktury danych"
   ]
  },
  {
   "cell_type": "markdown",
   "metadata": {},
   "source": [
    "#### Urszula Spik i Natalia Jelito"
   ]
  },
  {
   "cell_type": "code",
   "execution_count": 136,
   "metadata": {},
   "outputs": [],
   "source": [
    "import math\n",
    "from sympy import *\n",
    "import time\n",
    "import random\n",
    "import matplotlib.pyplot as plt\n",
    "import numpy as np\n",
    "from scipy.optimize import curve_fit"
   ]
  },
  {
   "cell_type": "markdown",
   "metadata": {},
   "source": [
    "### <span style=\"color:RosyBrown\"> Zadanie 1 </span>"
   ]
  },
  {
   "cell_type": "markdown",
   "metadata": {},
   "source": [
    "**Treść polecenia**:\n",
    "\n",
    "Stwórz własną klasę implementującą binarne drzewa przeszukiwań. Zadbaj o poprawne przetwarzanie powtarzających się kluczy."
   ]
  },
  {
   "cell_type": "markdown",
   "metadata": {},
   "source": [
    "**Informacje wstępne:**\n",
    "\n",
    "* Poprawne przetwarzanie powtarzających się kluczy - powinny być one kierowane do prawgo poddrzewa.\n",
    "* Implementacja bazuje na kodzie z wykładu 9 i książce podanej jako źródło przykładów z wykładu - *Problem Solving with Algorithms and Data Structures using Python* B. Miller, D. Randum\n"
   ]
  },
  {
   "cell_type": "code",
   "execution_count": 121,
   "metadata": {},
   "outputs": [],
   "source": [
    "class TreeNode:\n",
    "    \"\"\"\n",
    "    Class of Nodes to Binary Search Tree\n",
    "    \"\"\"\n",
    "    \n",
    "    def __init__(self, key, payload, left=None, right=None, parent=None):\n",
    "        \"\"\"\n",
    "        Creates Node with specified key\n",
    "        \n",
    "        Args:\n",
    "            key (int): key of Node\n",
    "            payload: value of Node\n",
    "            left (TreeNode): left child\n",
    "            right (TreeNode): right child\n",
    "            parent (TreeNode): parent of Node\n",
    "        \"\"\"\n",
    "        self.key = key\n",
    "        self.payload = payload\n",
    "        self.leftChild = left\n",
    "        self.rightChild = right\n",
    "        self.parent = parent\n",
    "\n",
    "    def hasLeftChild(self):\n",
    "        \"\"\"\n",
    "        Check if Node have left child\n",
    "        \n",
    "        Return: \n",
    "            (Node): left child;\n",
    "            (None): doesn't have left child\n",
    "        \"\"\"\n",
    "        return self.leftChild\n",
    "\n",
    "    def hasRightChild(self):\n",
    "        \"\"\"\n",
    "        Check if Node have right child\n",
    "        \n",
    "        Return: \n",
    "            (Node): right child;\n",
    "            (None): doesn't have right child\n",
    "        \"\"\"\n",
    "        return self.rightChild\n",
    "        \n",
    "    def isLeftChild(self):\n",
    "        \"\"\"\n",
    "        Check if it is left child\n",
    "        \n",
    "        Returns:\n",
    "            (Bool): True - left child\n",
    "        \"\"\"\n",
    "        return bool(self.parent and self.parent.leftChild == self)\n",
    "\n",
    "    def isRightChild(self):\n",
    "        \"\"\"\n",
    "        Check if it is right child\n",
    "        \n",
    "        Returns:\n",
    "            (Bool): True - right child\n",
    "        \"\"\"\n",
    "        return bool(self.parent and self.parent.rightChild == self)\n",
    "\n",
    "    def isRoot(self):\n",
    "        \"\"\"\n",
    "        Check if it is root\n",
    "        \n",
    "        Returns:\n",
    "            (Bool): True - it is root\n",
    "        \"\"\"\n",
    "        return not self.parent\n",
    "\n",
    "    def isLeaf(self):\n",
    "        \"\"\"\n",
    "        Check if it is leaf\n",
    "        \n",
    "        Returns:\n",
    "            (Bool): True - it is leaf\n",
    "        \"\"\"\n",
    "        return not (self.rightChild or self.leftChild)\n",
    "\n",
    "    def hasAnyChildren(self):\n",
    "        \"\"\"\n",
    "        Check if has any children\n",
    "        \n",
    "        Returns:\n",
    "            (Bool): True - has any children\n",
    "        \"\"\"\n",
    "        return bool(self.rightChild or self.leftChild)\n",
    "\n",
    "    def hasBothChildren(self):\n",
    "        \"\"\"\n",
    "        Check if has both children\n",
    "        \n",
    "        Returns:\n",
    "            (Bool): True - has both children\n",
    "        \"\"\"\n",
    "        return bool(self.rightChild and self.leftChild)\n",
    "\n",
    "    def replaceNodeData(self, key, payload, left, right):\n",
    "        \"\"\"\n",
    "        Replace Node's data\n",
    "        \n",
    "        Args:\n",
    "            key (int): new key\n",
    "            payload: new payload\n",
    "            left (TreeNode): new left child\n",
    "            right (TreeNode): new right child  \n",
    "        \"\"\"\n",
    "        self.key = key\n",
    "        self.payload = payload\n",
    "        self.leftChild = left\n",
    "        self.rightChild = right\n",
    "        if self.hasLeftChild():\n",
    "            self.leftChild.parent = self\n",
    "        if self.hasRightChild():\n",
    "            self.rightChild.parent = self\n",
    "    \n",
    "    def __iter__(self):\n",
    "        \"\"\"\n",
    "        Overload iteration operator;\n",
    "        Using inorder\n",
    "        \"\"\"\n",
    "        if self:\n",
    "            if self.hasLeftChild():\n",
    "                for elem in self.leftChild:\n",
    "                    yield elem\n",
    "        yield self.key\n",
    "        if self.hasRightChild():\n",
    "            for elem in self.rightChild:\n",
    "                yield elem\n",
    "                \n",
    "    def findMin(self):\n",
    "        \"\"\"\n",
    "        Find the minimum Node\n",
    "        being descendant of this Node\n",
    "        \n",
    "        Returns:\n",
    "            (Node): minimum Node\n",
    "        \"\"\"\n",
    "        current = self\n",
    "        while current.hasLeftChild():\n",
    "            current = current.leftChild\n",
    "        return current\n",
    "            \n",
    "    def findSuccessor(self):\n",
    "        \"\"\"\n",
    "        Find successor of this Node\n",
    "        \n",
    "        Returns:\n",
    "            (Node): successor of this Node\n",
    "        \"\"\"\n",
    "        succ = None\n",
    "        if self.hasRightChild():\n",
    "            succ = self.rightChild.findMin()\n",
    "        else:\n",
    "            if self.parent:\n",
    "                if self.isLeftChild():\n",
    "                    succ = self.parent\n",
    "                else:\n",
    "                    self.parent.rightChild = None\n",
    "                    succ = self.parent.findSuccessor()\n",
    "                    self.parent.rightChild = self\n",
    "        return succ\n",
    "    \n",
    "    def spliceOut(self):\n",
    "        \"\"\"\n",
    "        Helper function to removing item with both children.\n",
    "        Delete Node's succesor from its current place.\n",
    "        \"\"\"\n",
    "        if self.isLeaf():\n",
    "            if self.isLeftChild():\n",
    "                self.parent.leftChild = None\n",
    "            else:\n",
    "                self.parent.rightChild = None\n",
    "        elif self.hasAnyChildren():\n",
    "            if self.hasLeftChild():\n",
    "                if self.isLeftChild():\n",
    "                    self.parent.leftChild = self.leftChild\n",
    "                else:\n",
    "                    self.parent.rightChild = self.leftChild\n",
    "                    self.leftChild.parent = self.parent\n",
    "            else:\n",
    "                if self.isLeftChild():\n",
    "                    self.parent.leftChild = self.rightChild\n",
    "                else:\n",
    "                    self.parent.rightChild = self.rightChild\n",
    "                self.rightChild.parent = self.parent\n",
    "    \n",
    "    def preorder(self):\n",
    "        \"\"\"\n",
    "        Print part of tree in preorder.\n",
    "        \"\"\"\n",
    "        if self != None:\n",
    "            print(self.key, f\"({self.payload})\")\n",
    "            if self.leftChild != None:\n",
    "                self.leftChild.preorder()\n",
    "            if self.rightChild != None:   \n",
    "                self.rightChild.preorder()\n",
    "\n",
    "\n",
    "class BinarySearchTree:\n",
    "    \"\"\"\n",
    "    Class of Binary Search Tree\n",
    "    \"\"\"\n",
    "    \n",
    "    def __init__(self):\n",
    "        \"\"\"\n",
    "        Create BTS\n",
    "        \"\"\"\n",
    "        self.root = None\n",
    "        self.size = 0\n",
    "        \n",
    "    def length(self):\n",
    "        \"\"\"\n",
    "        Check length of tree\n",
    "        \n",
    "        Returns:\n",
    "            (int): length of tree\n",
    "        \"\"\"\n",
    "        return self.size\n",
    "    \n",
    "    def __len__(self):\n",
    "        \"\"\"\n",
    "        Check length of tree,\n",
    "        operator overload\n",
    "        \n",
    "        Returns:\n",
    "            (int): length of tree\n",
    "        \"\"\"\n",
    "        return self.size\n",
    "    \n",
    "    def __iter__(self):\n",
    "        \"\"\"\n",
    "        Overload iter operator;\n",
    "        Using inorder.\n",
    "        \"\"\"\n",
    "        return self.root.__iter__()\n",
    "\n",
    "    def _put(self, key, val, currentNode):\n",
    "        \"\"\"\n",
    "        Helper function of put method.\n",
    "        \n",
    "        Args:\n",
    "            key (int): key of Node to put\n",
    "            payload: value of Node to put\n",
    "            currentNode (Node): first potential parent Node\n",
    "        \"\"\"\n",
    "        if key < currentNode.key:\n",
    "            if currentNode.hasLeftChild():\n",
    "                self._put(key,val,currentNode.leftChild)\n",
    "            else:\n",
    "                currentNode.leftChild = TreeNode(key,val,parent=currentNode)\n",
    "        else:\n",
    "            if currentNode.hasRightChild():\n",
    "                self._put(key,val,currentNode.rightChild)\n",
    "            else:\n",
    "                currentNode.rightChild = TreeNode(key,val,parent=currentNode)\n",
    "\n",
    "    def put(self, key, payload):\n",
    "        \"\"\"\n",
    "        Put new item to the BST\n",
    "        and change size after puting.\n",
    "        \n",
    "        Args:\n",
    "            key (int): key of new item\n",
    "            payload: value of new item\n",
    "        \"\"\"\n",
    "        if self.root:\n",
    "            self._put(key, payload, self.root) \n",
    "        else:\n",
    "            self.root = TreeNode(key, payload)\n",
    "        self.size = self.size + 1\n",
    "\n",
    "    \n",
    "    def __setitem__(self, key, payload):\n",
    "        \"\"\"\n",
    "        Overloading of setitem ([]) operator\n",
    "        \n",
    "        Args:\n",
    "            key (int): key of new element in tree\n",
    "            payload: value of new element in tree\n",
    "        \"\"\"\n",
    "        self.put(key, payload)\n",
    "        \n",
    "    def _get(self, key, currentNode):\n",
    "        \"\"\"\n",
    "        Helper function of get method\n",
    "        and cointains overloading.\n",
    "        \n",
    "        Args:\n",
    "            key (int): key which value should be find\n",
    "            currentNode (Node): first potential correct Node\n",
    "            \n",
    "        Returns:\n",
    "            (Node): Node with key which is looking for\n",
    "        \"\"\"\n",
    "        if not currentNode:\n",
    "            return None\n",
    "\n",
    "        elif currentNode.key == key:\n",
    "            return currentNode\n",
    "\n",
    "        elif key < currentNode.key:\n",
    "            return self._get(key, currentNode.leftChild)\n",
    "        else:\n",
    "            return self._get(key, currentNode.rightChild)\n",
    "\n",
    "    def get(self, key): \n",
    "        \"\"\"\n",
    "        Get value of Node with specified key.\n",
    "        When key repeat themselves, fist find Node with this key.\n",
    "        \n",
    "        Args:\n",
    "            key (int): key of Node which should be find value\n",
    "            \n",
    "        Returns:\n",
    "            value of first find key\n",
    "        \"\"\"\n",
    "        if self.root:\n",
    "            res = self._get(key, self.root)\n",
    "            if res:\n",
    "                return res.payload\n",
    "            else:\n",
    "                return None\n",
    "        else:\n",
    "            return None\n",
    "\n",
    "\n",
    "    def __getitem__(self, key):  \n",
    "        \"\"\"\n",
    "        Overloading of getitem ([]) operator\n",
    "        \"\"\"\n",
    "        return self.get(key)\n",
    "\n",
    "    def __contains__(self, key):\n",
    "        \"\"\"\n",
    "        Overloading of in operator.\n",
    "        Check if key is in tree\n",
    "        \n",
    "        Args:\n",
    "            key (int): key to check\n",
    "        \"\"\"\n",
    "        if self._get(key, self.root):\n",
    "            return True\n",
    "        else:\n",
    "            return False\n",
    "\n",
    "    def delete(self,key): \n",
    "        \"\"\"\n",
    "        Delete Node with specified key form the BST\n",
    "        \n",
    "        Arg:\n",
    "            key (int): key of Node to delete\n",
    "        \"\"\"\n",
    "        if self.size > 1:\n",
    "            nodeToRemove = self._get(key, self.root)\n",
    "            if nodeToRemove:\n",
    "                self.remove(nodeToRemove)\n",
    "                self.size = self.size-1\n",
    "            else:\n",
    "                raise KeyError('There is no that key in tree')\n",
    "        elif self.size == 1 and self.root.key == key:\n",
    "            self.root = None\n",
    "            self.size = self.size - 1\n",
    "        else:\n",
    "            raise KeyError('There is no that key in tree')\n",
    "\n",
    "    def __delitem__(self,key):\n",
    "        \"\"\"\n",
    "        Overloading of del operator\n",
    "        \n",
    "        Args:\n",
    "            key (int): key to delete\n",
    "        \"\"\"\n",
    "        self.delete(key)\n",
    "    \n",
    "    def remove(self, currentNode):\n",
    "        \"\"\"\n",
    "        Remove specific Node\n",
    "        \n",
    "        Args:\n",
    "            currentNode (Node): Node to remove\n",
    "        \"\"\"\n",
    "        if currentNode.isLeaf():\n",
    "            if currentNode.isLeftChild(): \n",
    "                currentNode.parent.leftChild = None\n",
    "            elif currentNode.isLeftChild():\n",
    "                currentNode.parent.rightChild = None\n",
    "            else:\n",
    "                self.root = None\n",
    "        elif currentNode.hasBothChildren():\n",
    "            succ = currentNode.findSuccessor()\n",
    "            succ.spliceOut()\n",
    "            currentNode.key = succ.key\n",
    "            currentNode.payload = succ.payload\n",
    "        else:\n",
    "            if currentNode.hasLeftChild():\n",
    "                if currentNode.isLeftChild():\n",
    "                    currentNode.leftChild.parent = currentNode.parent\n",
    "                    currentNode.parent.leftChild = currentNode.leftChild\n",
    "                elif currentNode.isRightChild():\n",
    "                    currentNode.leftChild.parent = currentNode.parent\n",
    "                    currentNode.parent.rightChild = currentNode.leftChild\n",
    "                else:\n",
    "                    currentNode.replaceNodeData(currentNode.leftChild.key,\n",
    "                                    currentNode.leftChild.payload,\n",
    "                                    currentNode.leftChild.leftChild,\n",
    "                                    currentNode.leftChild.rightChild)\n",
    "            else:\n",
    "                if currentNode.isLeftChild():\n",
    "                    currentNode.rightChild.parent = currentNode.parent\n",
    "                    currentNode.parent.leftChild = currentNode.rightChild\n",
    "                elif currentNode.isRightChild():\n",
    "                    currentNode.rightChild.parent = currentNode.parent\n",
    "                    currentNode.parent.rightChild = currentNode.rightChild\n",
    "                else:\n",
    "                    currentNode.replaceNodeData(currentNode.rightChild.key,\n",
    "                                    currentNode.rightChild.payload,\n",
    "                                    currentNode.rightChild.leftChild,\n",
    "                                    currentNode.rightChild.rightChild)\n",
    "                    \n",
    "    def preorder(self):\n",
    "        \"\"\"\n",
    "        Preorder BTS printing\n",
    "        \"\"\"\n",
    "        if self.root:\n",
    "            self.root.preorder()\n",
    "        \n",
    "    def inorder(self):\n",
    "        \"\"\"\n",
    "        Inorder BTS printing\n",
    "        \"\"\"\n",
    "        if self.root:\n",
    "            for i in self:\n",
    "                print(i)\n",
    "\n",
    "    def _print(self, currentNode, space) :\n",
    "        \"\"\"\n",
    "        Helper function to representation\n",
    "        \n",
    "        Args:\n",
    "            currentNode (Node): begin node to print\n",
    "            space (int): space bethween levels\n",
    "        \"\"\"\n",
    "    \n",
    "        if not currentNode:\n",
    "            return\n",
    "        space += 10\n",
    "        self._print(currentNode.rightChild, space)\n",
    "        print()\n",
    "        for i in range(10, space):\n",
    "            print(end=\" \")\n",
    "        print(currentNode.key)\n",
    "        self._print(currentNode.leftChild, space)\n",
    "\n",
    "    def printBST(self) :\n",
    "        \"\"\"\n",
    "        Representation of BST\n",
    "        \"\"\"\n",
    "        self._print(self.root, 0)\n",
    "        \n",
    "#additional DSW alghorithm\n",
    "\n",
    "    def rotateRight(self, rotRoot):\n",
    "        \"\"\"\n",
    "        Function rotate tree in right direction\n",
    "        against a particular Nod\n",
    "        \n",
    "        Args:\n",
    "            rotRoot (Node): Node agaist which \n",
    "                            will be rotate\n",
    "        \"\"\"\n",
    "        newRoot = rotRoot.leftChild\n",
    "        rotRoot.leftChild = newRoot.rightChild\n",
    "        if newRoot.rightChild != None:\n",
    "            newRoot.rightChild.parent = rotRoot\n",
    "        newRoot.parent = rotRoot.parent\n",
    "        if rotRoot.isRoot():\n",
    "            self.root = newRoot\n",
    "        else:\n",
    "            if rotRoot.isRightChild():\n",
    "                rotRoot.parent.rightChild = newRoot\n",
    "            else:\n",
    "                rotRoot.parent.leftChild = newRoot\n",
    "        newRoot.rightChild = rotRoot\n",
    "        rotRoot.parent = newRoot\n",
    "\n",
    "    def rotateLeft(self,rotRoot):\n",
    "        \"\"\"\n",
    "        Function rotate tree in left direction\n",
    "        against a particular Nod\n",
    "        \n",
    "        Args:\n",
    "            rotRoot (Node): Node agaist which \n",
    "                            will be rotate\n",
    "        \"\"\"\n",
    "        newRoot = rotRoot.rightChild\n",
    "        rotRoot.rightChild = newRoot.leftChild\n",
    "        if newRoot.leftChild != None:\n",
    "            newRoot.leftChild.parent = rotRoot\n",
    "        newRoot.parent = rotRoot.parent\n",
    "        if rotRoot.isRoot():\n",
    "            self.root = newRoot\n",
    "        else:\n",
    "            if rotRoot.isLeftChild():\n",
    "                rotRoot.parent.leftChild = newRoot\n",
    "            else:\n",
    "                rotRoot.parent.rightChild = newRoot\n",
    "        newRoot.leftChild = rotRoot\n",
    "        rotRoot.parent = newRoot\n",
    "        \n",
    "    \n",
    "    def DSWtovine(self):\n",
    "        \"\"\"\n",
    "        Convert tree to one line (list)\n",
    "        \"\"\"\n",
    "        temp = self.root\n",
    "        while temp != None:\n",
    "            if temp.hasLeftChild():\n",
    "                self.rotateRight(temp)\n",
    "                temp = temp.parent\n",
    "            else:\n",
    "                temp = temp.rightChild\n",
    "            \n",
    "    def DSWtotree(self):\n",
    "        \"\"\"\n",
    "        Convert BST to balanced DSW tree\n",
    "        \"\"\"\n",
    "        self.DSWtovine()\n",
    "        n = self.size\n",
    "        m = 2**(math.floor(math.log(n+1, 2)))-1\n",
    "        for i in range(n-m):\n",
    "            self.rotateLeft(self.root)\n",
    "        while m > 1:\n",
    "            m = math.floor(m/2)\n",
    "            currentNode = self.root\n",
    "            for i in range(m):\n",
    "                self.rotateLeft(currentNode)\n",
    "                currentNode = currentNode.parent.rightChild\n",
    "            "
   ]
  },
  {
   "cell_type": "markdown",
   "metadata": {},
   "source": [
    "**Testy**"
   ]
  },
  {
   "cell_type": "code",
   "execution_count": 344,
   "metadata": {},
   "outputs": [],
   "source": [
    "mytree = BinarySearchTree()\n",
    "mytree[25]=\"a\"\n",
    "mytree[20]=\"b\"\n",
    "mytree[23]=\"c\"\n",
    "mytree[15]=\"d\"\n",
    "mytree[28]=\"e\"\n",
    "mytree[30]=\"f\"\n",
    "mytree[40]=\"g\""
   ]
  },
  {
   "cell_type": "code",
   "execution_count": 345,
   "metadata": {
    "scrolled": false
   },
   "outputs": [
    {
     "name": "stdout",
     "output_type": "stream",
     "text": [
      "\n",
      "                              40\n",
      "\n",
      "                    30\n",
      "\n",
      "          28\n",
      "\n",
      "25\n",
      "\n",
      "                    23\n",
      "\n",
      "          20\n",
      "\n",
      "                    15\n"
     ]
    }
   ],
   "source": [
    "mytree.printBST()"
   ]
  },
  {
   "cell_type": "code",
   "execution_count": 346,
   "metadata": {},
   "outputs": [],
   "source": [
    "mytree.delete(20)"
   ]
  },
  {
   "cell_type": "code",
   "execution_count": 347,
   "metadata": {},
   "outputs": [
    {
     "name": "stdout",
     "output_type": "stream",
     "text": [
      "\n",
      "                              40\n",
      "\n",
      "                    30\n",
      "\n",
      "          28\n",
      "\n",
      "25\n",
      "\n",
      "          23\n",
      "\n",
      "                    15\n"
     ]
    }
   ],
   "source": [
    "mytree.printBST()"
   ]
  },
  {
   "cell_type": "code",
   "execution_count": 348,
   "metadata": {},
   "outputs": [],
   "source": [
    "mytree.put(23, \"b\")"
   ]
  },
  {
   "cell_type": "markdown",
   "metadata": {},
   "source": [
    "Gdy są takie same pójdzie do prawego poddrzewa"
   ]
  },
  {
   "cell_type": "code",
   "execution_count": 349,
   "metadata": {},
   "outputs": [
    {
     "name": "stdout",
     "output_type": "stream",
     "text": [
      "\n",
      "                              40\n",
      "\n",
      "                    30\n",
      "\n",
      "          28\n",
      "\n",
      "25\n",
      "\n",
      "                    23\n",
      "\n",
      "          23\n",
      "\n",
      "                    15\n"
     ]
    }
   ],
   "source": [
    "mytree.printBST()"
   ]
  },
  {
   "cell_type": "markdown",
   "metadata": {},
   "source": [
    "**DSW testy**"
   ]
  },
  {
   "cell_type": "code",
   "execution_count": 350,
   "metadata": {},
   "outputs": [],
   "source": [
    "mytree.DSWtotree()"
   ]
  },
  {
   "cell_type": "code",
   "execution_count": 351,
   "metadata": {},
   "outputs": [
    {
     "name": "stdout",
     "output_type": "stream",
     "text": [
      "\n",
      "                    40\n",
      "\n",
      "          30\n",
      "\n",
      "                    28\n",
      "\n",
      "25\n",
      "\n",
      "                    23\n",
      "\n",
      "          23\n",
      "\n",
      "                    15\n"
     ]
    }
   ],
   "source": [
    "mytree.printBST()"
   ]
  },
  {
   "cell_type": "code",
   "execution_count": 352,
   "metadata": {},
   "outputs": [],
   "source": [
    "mytree.DSWtovine()"
   ]
  },
  {
   "cell_type": "code",
   "execution_count": 353,
   "metadata": {},
   "outputs": [
    {
     "name": "stdout",
     "output_type": "stream",
     "text": [
      "\n",
      "                                                            40\n",
      "\n",
      "                                                  30\n",
      "\n",
      "                                        28\n",
      "\n",
      "                              25\n",
      "\n",
      "                    23\n",
      "\n",
      "          23\n",
      "\n",
      "15\n"
     ]
    }
   ],
   "source": [
    "mytree.printBST()"
   ]
  },
  {
   "cell_type": "markdown",
   "metadata": {},
   "source": [
    "### <span style=\"color:RosyBrown\"> Zadanie 2</span>"
   ]
  },
  {
   "cell_type": "markdown",
   "metadata": {},
   "source": [
    "Zaimplementuj kopiec binarny. Korzystając z tego kopca napisz funkcję\n",
    "sortującą listę elementów w czasie O(n log n). Przeprowadź analizę eksperymentalną czasu wykonania algorytmu."
   ]
  },
  {
   "cell_type": "code",
   "execution_count": 254,
   "metadata": {},
   "outputs": [],
   "source": [
    "class BinHeap:\n",
    "    \"\"\" \n",
    "    Class of Binary Heaps\n",
    "    \"\"\"\n",
    "    def __init__(self):\n",
    "        \"\"\"\n",
    "        Creates a Binary Heap\n",
    "        \"\"\"\n",
    "        self.heapList = [0]\n",
    "        self.currentSize = 0\n",
    "\n",
    "    def percUp(self,i): ## przenoszenie do góry\n",
    "        \"\"\"\n",
    "        Bring round relation between parent and children\n",
    "        (From bottom to top)\n",
    "        Args:\n",
    "            i (int): index of Parent Node\n",
    "        \"\"\"\n",
    "        while i // 2 > 0:\n",
    "            if self.heapList[i] > self.heapList[i // 2]:\n",
    "                tmp = self.heapList[i // 2]\n",
    "                self.heapList[i // 2] = self.heapList[i]\n",
    "                self.heapList[i] = tmp\n",
    "            i = i // 2      \n",
    "        \n",
    "    def insert(self,k):\n",
    "        \"\"\"\n",
    "        Adds an element to heap\n",
    "        Args:\n",
    "            k (int): element to add\n",
    "        \"\"\"\n",
    "        self.heapList.append(k)\n",
    "        self.currentSize = self.currentSize + 1\n",
    "        self.percUp(self.currentSize)  \n",
    "\n",
    "    def findMax(self):\n",
    "        \"\"\"\n",
    "        Finds maximum value of heap\n",
    "\n",
    "        Returns:\n",
    "            (int): maximum element\n",
    "        \"\"\"\n",
    "        return self.heapList[1]\n",
    "\n",
    "    def percDown(self, i):\n",
    "        \"\"\"\n",
    "        Bring round relation between parent and children.\n",
    "        (From top of the heap to bottom)\n",
    "\n",
    "        Args:\n",
    "            i ([int]): index of parent node \n",
    "        \"\"\"\n",
    "        while( (i*2 )<= self.currentSize):\n",
    "            mc = self.maxChild(i)\n",
    "            if self.heapList[i] < self.heapList[mc]:\n",
    "                temp = self.heapList[i]\n",
    "                self.heapList[i] = self.heapList[mc]\n",
    "                self.heapList[mc] = temp\n",
    "            i = mc\n",
    "\n",
    "    def maxChild(self, i):\n",
    "        \"\"\"\n",
    "        Finds bigger child (index)\n",
    "\n",
    "        Args:\n",
    "            i ([int]): index of parent\n",
    "\n",
    "        Returns:\n",
    "            [int]: index o f bigger child\n",
    "        \"\"\"\n",
    "        if i * 2 + 1 > self.currentSize:\n",
    "            return i*2\n",
    "        else:\n",
    "            if self.heapList[i*2] > self.heapList[i*2 +1]:\n",
    "                return i*2\n",
    "            else:\n",
    "                return i*2 +1\n",
    "\n",
    "    def delMax(self):\n",
    "        \"\"\"\n",
    "        Deletes maximum element (root)\n",
    "\n",
    "        Returns:\n",
    "            [int]: maximum element\n",
    "        \"\"\"\n",
    "        retval = self.heapList[1]\n",
    "        self.heapList[1] = self.heapList[self.currentSize]\n",
    "        self.currentSize -= 1\n",
    "        self.heapList.pop()\n",
    "        self.percDown(1)\n",
    "        return retval\n",
    "\n",
    "    def buildHeap(self, alist):\n",
    "        \"\"\"Creates a heap from a list\n",
    "\n",
    "        Args:\n",
    "            alist ([list]): list for heap\n",
    "        \"\"\"\n",
    "        i = len(alist)//2\n",
    "        self.currentSize = len(alist)\n",
    "        self.heapList = [0] +alist[:]\n",
    "        while (i>0):\n",
    "            self.percDown(i)\n",
    "            i -= 1\n",
    "\n",
    "\n",
    "\n",
    "    def __str__(self):\n",
    "        txt = \"{}\".format(self.heapList[1:])\n",
    "        return txt\n",
    "\n",
    "    def sortHeap(self):\n",
    "        \"\"\"\n",
    "        Sorts list of elements\n",
    "\n",
    "        Returns:\n",
    "            [list]: sorted list\n",
    "        \"\"\"\n",
    "        n = self.currentSize\n",
    "        heap_sorted = [ ]\n",
    "\n",
    "        for i in range(0,n):\n",
    "            temp = self.delMax()\n",
    "            heap_sorted.append(temp)\n",
    "\n",
    "        return heap_sorted\n",
    "    \n",
    "def sorting_time(n):\n",
    "    \"\"\"\n",
    "    Checks  how long it takes to sort a list of elements using Binary Heap\n",
    "    Generates a plot of times\n",
    "    Args:\n",
    "        n ([int]): length of maximum list to sort\n",
    "    \"\"\"\n",
    "    times= []\n",
    "    for k in range(0,n, 100):\n",
    "        bh = BinHeap()\n",
    "        bh.buildHeap([random.randint(0, 100) for i in range(k)])\n",
    "\n",
    "        start_time = time.time()\n",
    "\n",
    "        bh.sortHeap()\n",
    "\n",
    "        stop_time = time.time()\n",
    "\n",
    "        diff = stop_time - start_time\n",
    "        times.append(diff)\n",
    "    plt.scatter([i for i in range(0,n, 100)],times, color=\"magenta\")\n",
    "    plt.show"
   ]
  },
  {
   "cell_type": "markdown",
   "metadata": {},
   "source": [
    "Sprawdzenia"
   ]
  },
  {
   "cell_type": "code",
   "execution_count": 255,
   "metadata": {},
   "outputs": [
    {
     "name": "stdout",
     "output_type": "stream",
     "text": [
      "[6, 4, 5, 3, 2, 1, 3]\n",
      "[6, 5, 4, 3, 3, 2, 1]\n"
     ]
    }
   ],
   "source": [
    "b = BinHeap()\n",
    "b.buildHeap([1,2,5,3,4,6,3])\n",
    "print(b)\n",
    "print(b.sortHeap())"
   ]
  },
  {
   "cell_type": "code",
   "execution_count": 256,
   "metadata": {},
   "outputs": [
    {
     "name": "stdout",
     "output_type": "stream",
     "text": [
      "[15, 10, 2, 1, 5]\n",
      "15\n",
      "[10, 5, 2, 1]\n"
     ]
    }
   ],
   "source": [
    "a = BinHeap()\n",
    "a.insert(1)\n",
    "a.insert(2)\n",
    "a.insert(5)\n",
    "a.insert(10)\n",
    "a.insert(15)\n",
    "\n",
    "print(a)\n",
    "print(a.delMax())\n",
    "print(a)\n"
   ]
  },
  {
   "cell_type": "markdown",
   "metadata": {},
   "source": [
    "Dane na temat czasu sortowania algorytmu o czasie $O(n\\mathrm{log}n)$ zostały przedstawione na wykresie:"
   ]
  },
  {
   "cell_type": "code",
   "execution_count": 243,
   "metadata": {},
   "outputs": [
    {
     "data": {
      "image/png": "[encoded data removed]",
      "text/plain": [
       "<Figure size 432x288 with 1 Axes>"
      ]
     },
     "metadata": {
      "needs_background": "light"
     },
     "output_type": "display_data"
    }
   ],
   "source": [
    "sorting_time(10000)"
   ]
  },
  {
   "cell_type": "markdown",
   "metadata": {},
   "source": [
    "### <span style=\"color:RosyBrown\"> Zadanie 3</span>"
   ]
  },
  {
   "cell_type": "markdown",
   "metadata": {},
   "source": [
    "Zaimplementuj kopiec binarny o ograniczonej wielkości n. Innymi słowy,\n",
    "stwórz strukturę przechowującą n najważniejszych (największych) wartości.\n"
   ]
  },
  {
   "cell_type": "code",
   "execution_count": 257,
   "metadata": {},
   "outputs": [],
   "source": [
    "class LBHeap(BinHeap):\n",
    "    \"\"\"\n",
    "    Class of Limited Binary Heap\n",
    "    \"\"\"\n",
    "\n",
    "    def __init__(self, n):\n",
    "        \"\"\"Creates Limited Binary Heap\n",
    "\n",
    "        Args:\n",
    "            n ([int]): maximum size of heap\n",
    "        \"\"\"\n",
    "        super().__init__()\n",
    "        self.max_size_of_heap = n \n",
    "        self.heapList = [0]\n",
    "        self.currentSize = 0\n",
    "\n",
    "    def insert(self,element):\n",
    "        \"\"\"\n",
    "        Adds an element to heap\n",
    "        Args:\n",
    "            element (int): element to add\n",
    "        \"\"\"\n",
    "        if self.currentSize == 0:\n",
    "            self.heapList.append(element)\n",
    "            self.currentSize = self.currentSize + 1            \n",
    "\n",
    "        else:\n",
    "\n",
    "            if element < self.findMax() and self.currentSize == self.max_size_of_heap:\n",
    "                self.delMax()\n",
    "                self.heapList.append(element)\n",
    "                self.currentSize = self.currentSize + 1\n",
    "                self.percUp(self.currentSize)\n",
    "\n",
    "                \n",
    "            elif element >= self.findMax() and self.currentSize == self.max_size_of_heap:\n",
    "                print(f\"The value {element} is too big to put on the heap\")\n",
    "\n",
    "            else:\n",
    "                self.heapList.append(element)\n",
    "                self.currentSize = self.currentSize + 1\n",
    "                self.percUp(self.currentSize)\n",
    "\n",
    "\n",
    "    def buildHeap(self,alist):\n",
    "        \"\"\"Creates a heap from a list\n",
    "\n",
    "        Args:\n",
    "            alist ([list]): list for heap\n",
    "        \"\"\"\n",
    "        for i in range(len(alist)):\n",
    "            self.insert(alist[i])\n",
    "\n",
    "        "
   ]
  },
  {
   "cell_type": "markdown",
   "metadata": {},
   "source": [
    "Testy:"
   ]
  },
  {
   "cell_type": "code",
   "execution_count": 258,
   "metadata": {},
   "outputs": [
    {
     "name": "stdout",
     "output_type": "stream",
     "text": [
      "[15, 10, 2, 1, 5]\n",
      "[15, 10, 6, 1, 5, 2]\n"
     ]
    }
   ],
   "source": [
    "de = LBHeap(6)\n",
    "\n",
    "de.insert(1)\n",
    "de.insert(2)\n",
    "de.insert(5)\n",
    "de.insert(10)\n",
    "de.insert(15)\n",
    "\n",
    "print(de)\n",
    "de.insert(6)\n",
    "print(de)"
   ]
  },
  {
   "cell_type": "code",
   "execution_count": 259,
   "metadata": {},
   "outputs": [
    {
     "name": "stdout",
     "output_type": "stream",
     "text": [
      "[6, 4, 3, 1]\n",
      "[10, 6, 3, 1, 4]\n",
      "[6, 4, 3, 1, 2]\n",
      "[4, 2, 3, 1]\n"
     ]
    }
   ],
   "source": [
    "c = LBHeap(5)\n",
    "c.buildHeap([1,3,4,6])\n",
    "print(c)\n",
    "c.insert(10)\n",
    "print(c)\n",
    "c.insert(2)\n",
    "print(c)\n",
    "c.insert(5)\n",
    "c.delMax()\n",
    "print(c)"
   ]
  },
  {
   "cell_type": "code",
   "execution_count": 260,
   "metadata": {},
   "outputs": [
    {
     "name": "stdout",
     "output_type": "stream",
     "text": [
      "The value 5 is too big to put on the heap\n",
      "The value 6 is too big to put on the heap\n",
      "[3, 1, 2]\n"
     ]
    }
   ],
   "source": [
    "d = LBHeap(3)\n",
    "d.buildHeap([1,2,3,5,6])\n",
    "print(d)"
   ]
  },
  {
   "cell_type": "code",
   "execution_count": 262,
   "metadata": {},
   "outputs": [],
   "source": [
    "d.insert(-3)"
   ]
  },
  {
   "cell_type": "code",
   "execution_count": 263,
   "metadata": {
    "scrolled": true
   },
   "outputs": [
    {
     "name": "stdout",
     "output_type": "stream",
     "text": [
      "[2, 1, -3]\n"
     ]
    }
   ],
   "source": [
    "print(d)"
   ]
  },
  {
   "cell_type": "markdown",
   "metadata": {},
   "source": [
    "Zachowanie kopca jest poprawne :)"
   ]
  },
  {
   "cell_type": "markdown",
   "metadata": {},
   "source": [
    "### <span style=\"color:RosyBrown\"> Zadanie 4 </span>"
   ]
  },
  {
   "cell_type": "markdown",
   "metadata": {},
   "source": [
    "Napisz funkcję, która na wejściu przyjmuje drzewo wyprowadzenia jakiegoś wyrażenia matematycznego, a na wyjściu zwraca pochodną tego\n",
    "wyrażenia względem podanej zmiennej.\n"
   ]
  },
  {
   "cell_type": "markdown",
   "metadata": {},
   "source": [
    "* drzewo binarne na podstawie wykładu"
   ]
  },
  {
   "cell_type": "code",
   "execution_count": 264,
   "metadata": {},
   "outputs": [],
   "source": [
    "class BinaryTree:\n",
    "    \"\"\"\n",
    "    Class of Binary tree\n",
    "    \"\"\"\n",
    "    \n",
    "    def __init__(self, root):\n",
    "        \"\"\"\n",
    "        Create tree\n",
    "        \n",
    "        Args:\n",
    "            root: key of root\n",
    "        \"\"\"\n",
    "        self.key = root\n",
    "        self.leftChild = None\n",
    "        self.rightChild = None\n",
    "\n",
    "    def insertLeft(self,newNode):\n",
    "        \"\"\"\n",
    "        Insert element to the left\n",
    "        \n",
    "        Args:\n",
    "            newNode: node's key to insert\n",
    "                    or node to insert\n",
    "        \"\"\"\n",
    "        if self.leftChild == None: #$\n",
    "            if type(newNode) == BinaryTree:\n",
    "                self.leftChild = newNode\n",
    "            else:\n",
    "                self.leftChild = BinaryTree(newNode)\n",
    "        else:\n",
    "            if type(newNode) == BinaryTree:\n",
    "                temp = newNode\n",
    "                temp.insertLeft(self.leftChild)\n",
    "                self.leftChild = temp\n",
    "            else:\n",
    "                temp = BinaryTree(newNode)\n",
    "                temp.leftChild = self.leftChild\n",
    "                self.leftChild = temp\n",
    "            \n",
    "    def insertRight(self,newNode):\n",
    "        \"\"\"\n",
    "        Insert element to the left\n",
    "        \n",
    "        Args:\n",
    "            newNode: node key to insert\n",
    "                    or node to insert\n",
    "        \"\"\"\n",
    "        if self.rightChild == None:\n",
    "            if type(newNode) == BinaryTree:\n",
    "                self.rightChild = newNode\n",
    "            else:\n",
    "                self.rightChild = BinaryTree(newNode)\n",
    "        else:\n",
    "            if type(newNode) == BinaryTree:\n",
    "                temp = newNode\n",
    "                temp.insertRight(self.rightChild)\n",
    "                self.rightChild = temp\n",
    "            else:\n",
    "                temp = BinaryTree(newNode)\n",
    "                temp.rightChild = self.rightChild\n",
    "                self.rightChild = temp\n",
    "            \n",
    "    def getRightChild(self):\n",
    "        \"\"\"\n",
    "        Give right child key\n",
    "        \n",
    "        Returns:\n",
    "            right child key\n",
    "        \"\"\"\n",
    "        return self.rightChild\n",
    "    \n",
    "    def getLeftChild(self):\n",
    "        \"\"\"\n",
    "        Give right child key\n",
    "        \n",
    "        Returns:\n",
    "            right child key\n",
    "        \"\"\"\n",
    "        return self.leftChild\n",
    "    \n",
    "    def setRootVal(self, value):\n",
    "        \"\"\"\n",
    "        Set value to the root key\n",
    "        \"\"\"\n",
    "        self.key = value\n",
    "\n",
    "    def getRootVal(self):\n",
    "        \"\"\"\n",
    "        Get value of the root key\n",
    "        \n",
    "        Returns:\n",
    "            value of root key\n",
    "        \"\"\"\n",
    "        return self.key\n",
    "\n",
    "    def postorder(self):\n",
    "        res = \"\"\n",
    "\n",
    "        if self:\n",
    "            if self.leftChild:\n",
    "                res = self.leftChild.postorder()\n",
    "            if self.rightChild:\n",
    "                res = res + self.rightChild.postorder()\n",
    "            res+=f\"{self.key} \"\n",
    "        return res"
   ]
  },
  {
   "cell_type": "markdown",
   "metadata": {},
   "source": [
    "* implementacja stosu (wersja z wykładów)"
   ]
  },
  {
   "cell_type": "code",
   "execution_count": 265,
   "metadata": {},
   "outputs": [],
   "source": [
    "class Stack:\n",
    "    def __init__(self):\n",
    "        \"\"\"\n",
    "        Create stack\n",
    "        \"\"\"\n",
    "        self.items = []\n",
    "        \n",
    "    def isEmpty(self):\n",
    "        \"\"\"\n",
    "        Check if stack is empty\n",
    "\n",
    "        Returns:\n",
    "            (bool): True if stack is empty, otherwise False\n",
    "        \"\"\"\n",
    "        return self.items == []\n",
    "    \n",
    "    def push(self, item):\n",
    "        \"\"\"\n",
    "        Add item to the end\n",
    "\n",
    "        Args:\n",
    "            item: item to add\n",
    "        \"\"\"\n",
    "        self.items.append(item)\n",
    "        \n",
    "    def pop(self):\n",
    "        \"\"\"\n",
    "        Delate last item\n",
    "\n",
    "        Returns:\n",
    "            Delated item\n",
    "        \"\"\"\n",
    "        return self.items.pop()\n",
    "    \n",
    "    def peek(self):\n",
    "        \"\"\"\n",
    "        Return last item\n",
    "        \n",
    "        Returns:\n",
    "            Last item\n",
    "        \"\"\"\n",
    "        return self.items[len(self.items)-1]\n",
    "    \n",
    "    def size(self):\n",
    "        \"\"\"\n",
    "        Check size of stack\n",
    "        \n",
    "        Returns:\n",
    "            (int): Size of stack\n",
    "        \"\"\"\n",
    "        return len(self.items)\n",
    "    \n",
    "    def __str__(self):\n",
    "        \"\"\"\n",
    "        Show str form of stack\n",
    "        \n",
    "        Returns:\n",
    "            (str): str from stack\n",
    "        \"\"\"\n",
    "        return str(self.items)"
   ]
  },
  {
   "cell_type": "markdown",
   "metadata": {},
   "source": [
    "* Tworzymy drzewo wprowadzenia"
   ]
  },
  {
   "cell_type": "code",
   "execution_count": 266,
   "metadata": {},
   "outputs": [],
   "source": [
    "def preorder(tree):\n",
    "    \"\"\"\n",
    "    Preorder printing Binary Tree\n",
    "    \"\"\"\n",
    "    if tree:\n",
    "        print(tree.getRootVal())\n",
    "        preorder(tree.getLeftChild())\n",
    "        preorder(tree.getRightChild())"
   ]
  },
  {
   "cell_type": "code",
   "execution_count": 267,
   "metadata": {},
   "outputs": [],
   "source": [
    "def postorder(tree):\n",
    "    \"\"\"\n",
    "    Postorder printing Binary Tree\n",
    "    \"\"\"\n",
    "    if tree != None:\n",
    "        postorder(tree.getLeftChild())\n",
    "        postorder(tree.getRightChild())\n",
    "        print(tree.getRootVal())"
   ]
  },
  {
   "cell_type": "code",
   "execution_count": 268,
   "metadata": {},
   "outputs": [],
   "source": [
    "def RPNParseTree(fpexp):\n",
    "    \"\"\"\n",
    "    Crate Parse Tree of mathematical expression\n",
    "    in reverse polish notation\n",
    "    \n",
    "    Args:\n",
    "        (str): mathematical expression \n",
    "        in reverse polish notation\n",
    "    \"\"\"\n",
    "    fplist = fpexp.split()\n",
    "    pStack = Stack()\n",
    "    \n",
    "    if len(fplist)==1:\n",
    "        return BinaryTree(fpexp)\n",
    "\n",
    "    for i in fplist:\n",
    "        if i in ['+', '-', '*', '/', \"**\"]:\n",
    "            currentTree = BinaryTree('')\n",
    "            currentTree.setRootVal(i)\n",
    "            currentTree.insertRight(pStack.pop())\n",
    "            currentTree.insertLeft(pStack.pop())\n",
    "            pStack.push(currentTree)\n",
    "        elif i in [\"log\", \"cos\", \"sin\", \"tg\", \"ctg\"]:\n",
    "            currentTree = BinaryTree('')\n",
    "            currentTree.setRootVal(i)\n",
    "            left = pStack.pop()\n",
    "            currentTree.insertLeft(left)\n",
    "            pStack.push(currentTree)\n",
    "        else:\n",
    "            pStack.push(i)\n",
    "            \n",
    "    return pStack.pop()"
   ]
  },
  {
   "cell_type": "code",
   "execution_count": 269,
   "metadata": {},
   "outputs": [],
   "source": [
    "tree = \"2 3 x log - * 4 5 * **\""
   ]
  },
  {
   "cell_type": "code",
   "execution_count": 270,
   "metadata": {},
   "outputs": [
    {
     "data": {
      "text/plain": [
       "['2', '3', 'x', 'log', '-', '*', '4', '5', '*', '**']"
      ]
     },
     "execution_count": 270,
     "metadata": {},
     "output_type": "execute_result"
    }
   ],
   "source": [
    "tree.split()"
   ]
  },
  {
   "cell_type": "code",
   "execution_count": 271,
   "metadata": {},
   "outputs": [
    {
     "name": "stdout",
     "output_type": "stream",
     "text": [
      "**\n",
      "*\n",
      "2\n",
      "-\n",
      "3\n",
      "log\n",
      "x\n",
      "*\n",
      "4\n",
      "5\n"
     ]
    }
   ],
   "source": [
    "preorder(RPNParseTree(tree))"
   ]
  },
  {
   "cell_type": "markdown",
   "metadata": {},
   "source": [
    "Działa dobrze :)"
   ]
  },
  {
   "cell_type": "markdown",
   "metadata": {},
   "source": [
    "Przechodzimy teraz do głównej funkcji liczącej pochodną"
   ]
  },
  {
   "cell_type": "code",
   "execution_count": 388,
   "metadata": {},
   "outputs": [],
   "source": [
    "def derivative(parseTree, variable=\"x\"):\n",
    "    \"\"\"\n",
    "    Create ParseTree of derivative \n",
    "    mathematical expression in given ParseTree\n",
    "    \n",
    "    Args:\n",
    "        parseTree (BinaryTree): tree to differentiate\n",
    "        variable (str): variable use to differentiate\n",
    "    \"\"\"\n",
    "    diff = BinaryTree(\"\")\n",
    "    \n",
    "    if parseTree.getRootVal() in [\"+\", \"-\"] :\n",
    "        diff.setRootVal(parseTree.getRootVal())\n",
    "        diff.insertLeft(derivative(parseTree.leftChild, variable))\n",
    "        diff.insertRight(derivative(parseTree.rightChild, variable))\n",
    "    elif parseTree.getRootVal() == \"*\":\n",
    "        diff.setRootVal(\"+\")\n",
    "        diff.insertLeft(\"*\")\n",
    "        diff.insertRight(\"*\")\n",
    "        diff.getLeftChild().insertLeft(parseTree.leftChild)\n",
    "        diff.getLeftChild().insertRight(derivative(parseTree.rightChild, variable))\n",
    "        diff.getRightChild().insertLeft(derivative(parseTree.leftChild, variable))\n",
    "        diff.getRightChild().insertRight(parseTree.rightChild)\n",
    "    elif parseTree.getRootVal() == \"/\":\n",
    "        diff.setRootVal(\"/\")\n",
    "        diff.insertLeft(\"-\")\n",
    "        diff.insertRight(\"**\")\n",
    "        diff.getLeftChild().insertLeft(\"*\")\n",
    "        diff.getLeftChild().getLeftChild().insertLeft(derivative(parseTree.leftChild, variable))\n",
    "        diff.getLeftChild().getLeftChild().insertRight(parseTree.rightChild)\n",
    "        diff.getLeftChild().insertRight(\"*\")\n",
    "        diff.getLeftChild().getRightChild().insertLeft(parseTree.leftChild)\n",
    "        diff.getLeftChild().getRightChild().insertRight(derivative(parseTree.rightChild, variable))\n",
    "        diff.getRightChild().insertLeft(parseTree.rightChild)\n",
    "        diff.getRightChild().insertRight(\"2\")\n",
    "        \n",
    "    elif parseTree.getRootVal() in [\"sin\", \"cos\", \"tg\", \"ctg\", \"log\"]:\n",
    "        inside = derivative(parseTree.leftChild, variable)\n",
    "        if parseTree.getRootVal() == \"sin\":\n",
    "            diff.setRootVal(\"*\")\n",
    "            diff.insertLeft(\"cos\")\n",
    "            diff.leftChild.insertLeft(parseTree.leftChild)\n",
    "            diff.insertRight(inside)\n",
    "        elif parseTree.getRootVal() == \"cos\":\n",
    "            diff.setRootVal(\"*\")\n",
    "            diff.insertLeft(\"sin\")\n",
    "            diff.insertRight(\"*\")\n",
    "            diff.rightChild.insertRight(\"-1\")\n",
    "            diff.rightChild.insertLeft(inside)\n",
    "            diff.leftChild.insertLeft(parseTree.leftChild)\n",
    "        elif parseTree.getRootVal() == \"tg\":\n",
    "            diff.setRootVal(\"*\")\n",
    "            diff.insertRight(inside)\n",
    "            diff.insertLeft(\"/\")\n",
    "            diff.leftChild.insertLeft(\"1\")\n",
    "            diff.leftChild.insertRight(\"**\")\n",
    "            diff.leftChild.rightChild.insertLeft(\"cos\")\n",
    "            diff.leftChild.rightChild.leftChild.insertLeft(parseTree.leftChild)\n",
    "            diff.leftChild.rightChild.insertRight(\"2\")\n",
    "        elif parseTree.getRootVal() == \"ctg\":\n",
    "            diff.setRootVal(\"*\")\n",
    "            diff.insertRight(\"*\")\n",
    "            diff.rightChild.insertLeft(\"-1\")\n",
    "            diff.rightChild.insertRight(inside)\n",
    "            diff.insertLeft(\"/\")\n",
    "            diff.leftChild.insertLeft(\"1\")\n",
    "            diff.leftChild.insertRight(\"**\")\n",
    "            diff.leftChild.rightChild.insertLeft(\"sin\")\n",
    "            diff.leftChild.rightChild.leftChild.insertLeft(parseTree.leftChild)\n",
    "            diff.leftChild.rightChild.insertRight(\"2\")\n",
    "        elif parseTree.getRootVal() == \"log\":\n",
    "            diff.setRootVal(\"*\")\n",
    "            diff.insertRight(inside)\n",
    "            diff.insertLeft(\"/\")\n",
    "            diff.leftChild.insertLeft(\"1\")\n",
    "            diff.leftChild.insertRight(parseTree.leftChild)\n",
    "            \n",
    "    elif parseTree.getRootVal() == \"**\":\n",
    "        left = derivative(parseTree.leftChild, variable).key\n",
    "        right = derivative(parseTree.rightChild, variable).key\n",
    "        if left == \"0\" and right == \"0\":\n",
    "            diff.setRootVal(\"0\")\n",
    "        elif right == \"0\":\n",
    "            diff.setRootVal(\"*\")\n",
    "            diff.insertRight(derivative(parseTree.leftChild, variable))\n",
    "            diff.insertLeft(\"*\")\n",
    "            diff.leftChild.insertLeft(parseTree.rightChild)\n",
    "            diff.leftChild.insertRight(\"**\")\n",
    "            diff.leftChild.rightChild.insertLeft(parseTree.leftChild)\n",
    "            diff.leftChild.rightChild.insertRight(\"-\")\n",
    "            diff.leftChild.rightChild.rightChild.insertRight(\"1\")\n",
    "            diff.leftChild.rightChild.rightChild.insertLeft(parseTree.rightChild.key)\n",
    "        elif left == \"0\":\n",
    "            diff.setRootVal(\"*\")\n",
    "            diff.insertRight(\"**\")\n",
    "            diff.rightChild.insertLeft(parseTree.leftChild)\n",
    "            diff.rightChild.insertRight(parseTree.rightChild)\n",
    "            diff.insertLeft(\"log\")\n",
    "            diff.leftChild.insertLeft(parseTree.leftChild)\n",
    "        else:\n",
    "            part = BinaryTree(\"\")\n",
    "            part.setRootVal(\"*\")\n",
    "            part.insertLeft(\"log\")\n",
    "            part.leftChild.insertLeft(parseTree.leftChild)\n",
    "            part.insertRight(parseTree.rightChild)\n",
    "            diff.setRootVal(\"*\")\n",
    "            diff.insertRight(\"**\")\n",
    "            diff.rightChild.insertLeft(\"e\")\n",
    "            diff.rightChild.insertRight(part)\n",
    "            diff.insertLeft(derivative(part, variable))\n",
    "            \n",
    "    elif parseTree.getRootVal() == variable:\n",
    "        diff.setRootVal(\"1\")\n",
    "    \n",
    "    else:\n",
    "        diff.setRootVal(\"0\")\n",
    "    return diff"
   ]
  },
  {
   "cell_type": "code",
   "execution_count": 273,
   "metadata": {},
   "outputs": [],
   "source": [
    "x = RPNParseTree(\"x tg\")"
   ]
  },
  {
   "cell_type": "code",
   "execution_count": 274,
   "metadata": {},
   "outputs": [
    {
     "name": "stdout",
     "output_type": "stream",
     "text": [
      "*\n",
      "sin\n",
      "x\n",
      "*\n",
      "1\n",
      "-1\n"
     ]
    }
   ],
   "source": [
    "test = derivative(RPNParseTree(\"x cos\"))\n",
    "preorder(test)"
   ]
  },
  {
   "cell_type": "markdown",
   "metadata": {},
   "source": [
    "Funkcja wykonująca operacje dla danego operatora (bazuje na wykładzie)"
   ]
  },
  {
   "cell_type": "code",
   "execution_count": 275,
   "metadata": {},
   "outputs": [],
   "source": [
    "def doMath(op, num1, num2):\n",
    "    \"\"\"\n",
    "    Do math operation\n",
    "    for specified operator\n",
    "    \n",
    "    Args:\n",
    "        op: operator\n",
    "        num1: first number for operation\n",
    "        num2: second number for operation\n",
    "    \n",
    "    Returns:\n",
    "        result of operation\n",
    "    \"\"\"\n",
    "    if op == \"*\":\n",
    "        return num1 * num2\n",
    "    elif op == \"/\":\n",
    "        return num1 / num2\n",
    "    elif op == \"+\":\n",
    "        return num1 + num2\n",
    "    elif op == \"-\":\n",
    "        return num1 - num2\n",
    "    elif op == \"**\":\n",
    "        return num1 ** num2"
   ]
  },
  {
   "cell_type": "code",
   "execution_count": 276,
   "metadata": {},
   "outputs": [],
   "source": [
    "def isnumber(num):\n",
    "    \"\"\"\n",
    "    Check if value can be number\n",
    "    \n",
    "    Args: \n",
    "        num: number to check\n",
    "        \n",
    "    Returns\n",
    "        (bool): True, False\n",
    "    \"\"\"\n",
    "    try:\n",
    "        float(num)\n",
    "        return True\n",
    "    except:\n",
    "        return False"
   ]
  },
  {
   "cell_type": "code",
   "execution_count": 277,
   "metadata": {},
   "outputs": [],
   "source": [
    "def number_changer(num):\n",
    "    \"\"\"\n",
    "    Change number to correct form\n",
    "    \n",
    "    Args: \n",
    "        num: number to change\n",
    "        \n",
    "    Returns:\n",
    "        Changed number\n",
    "    \"\"\"\n",
    "    try:\n",
    "        return int(num)\n",
    "    except:\n",
    "        return float(num)"
   ]
  },
  {
   "cell_type": "code",
   "execution_count": 215,
   "metadata": {},
   "outputs": [],
   "source": [
    "def postfixEval(postfixExpr, variable = \"x\"):\n",
    "    \"\"\"\n",
    "    Count value of postfix expression\n",
    "    \n",
    "    Args:\n",
    "        postfixExpr (str): expression to evaluate\n",
    "        variable (str): variable in expression\n",
    "        \n",
    "    Returns:\n",
    "        (str) value of expression\n",
    "    \"\"\"\n",
    "    operandStack = Stack()\n",
    "    postfixExpr = postfixExpr.replace(\"e\", \"E\")\n",
    "    tokenList = postfixExpr.split()\n",
    "    x = Symbol(variable)\n",
    "    \n",
    "    if len(tokenList) == 1:\n",
    "        return parse_expr(postfixExpr)\n",
    "\n",
    "    for token in tokenList:\n",
    "        if isnumber(token):\n",
    "            operandStack.push(number_changer(token))\n",
    "        elif token == \"E\":\n",
    "            operandStack.push(parse_expr(\"E\"))\n",
    "        elif token in [\"sin\", \"cos\", \"tg\", \"ctg\", \"log\"]:\n",
    "            num = operandStack.pop()\n",
    "            operandStack.push(parse_expr(f\"{token}({num})\"))\n",
    "        elif token in ['+', '-', '*', '/', \"**\"]:\n",
    "            operand2 = operandStack.pop()\n",
    "            operand1 = operandStack.pop()\n",
    "            result = doMath(token,operand1,operand2)\n",
    "            operandStack.push(result)\n",
    "        else:\n",
    "            operandStack.push(Symbol(token))\n",
    "    return operandStack.pop()"
   ]
  },
  {
   "cell_type": "code",
   "execution_count": 278,
   "metadata": {},
   "outputs": [
    {
     "data": {
      "text/latex": [
       "$\\displaystyle 5$"
      ],
      "text/plain": [
       "5"
      ]
     },
     "execution_count": 278,
     "metadata": {},
     "output_type": "execute_result"
    }
   ],
   "source": [
    "postfixEval(\"0 0 + x 0 * 1 5 * + +\")"
   ]
  },
  {
   "cell_type": "code",
   "execution_count": 279,
   "metadata": {
    "scrolled": true
   },
   "outputs": [
    {
     "name": "stdout",
     "output_type": "stream",
     "text": [
      "0\n",
      "0\n",
      "+\n",
      "x\n",
      "0\n",
      "*\n",
      "1\n",
      "5\n",
      "*\n",
      "+\n",
      "+\n"
     ]
    }
   ],
   "source": [
    "w = RPNParseTree(\"10 5 + x 5 * +\")\n",
    "z = derivative(w)\n",
    "postorder(z)"
   ]
  },
  {
   "cell_type": "markdown",
   "metadata": {},
   "source": [
    "### **Główna funkcja**"
   ]
  },
  {
   "cell_type": "markdown",
   "metadata": {},
   "source": [
    "Zasady:\n",
    "* wyrażenie zapisane w odwróconej notacji polskiej,\n",
    "* kolejne elementy są oddzielone spacjami.\n",
    "* e będzie oznaczało liczbę Eulera\n",
    "* log - logarytm naturalny"
   ]
  },
  {
   "cell_type": "markdown",
   "metadata": {},
   "source": [
    "Wynik jest zwracany w tym wypadku jako wyrażenie w sympy'u ponieważ na potrzeby tej listy jest po prostu najbardziej czytelną opcją do sprawdzania poprawności."
   ]
  },
  {
   "cell_type": "code",
   "execution_count": 280,
   "metadata": {},
   "outputs": [],
   "source": [
    "def diff_of_RPN(expr, variable=\"x\"):\n",
    "    \"\"\"\n",
    "    Evaluate derivative of math\n",
    "    expression in reverse polish notation\n",
    "    \n",
    "    Args:\n",
    "        expr (str): Mathematical expression\n",
    "        in RPN to diff\n",
    "        variable (str): the differentiation variable\n",
    "    \n",
    "    Returns:\n",
    "        value of diff as sympy expression\n",
    "    \"\"\"\n",
    "    rpntree = RPNParseTree(expr)\n",
    "    difftree = derivative(rpntree, variable)\n",
    "    \n",
    "    return postfixEval(difftree.postorder(), variable)    "
   ]
  },
  {
   "cell_type": "markdown",
   "metadata": {},
   "source": [
    "Testowe użycia:"
   ]
  },
  {
   "cell_type": "code",
   "execution_count": 371,
   "metadata": {},
   "outputs": [
    {
     "data": {
      "text/latex": [
       "$\\displaystyle 5$"
      ],
      "text/plain": [
       "5"
      ]
     },
     "execution_count": 371,
     "metadata": {},
     "output_type": "execute_result"
    }
   ],
   "source": [
    "diff_of_RPN(\"10 5 + x 5 * +\")"
   ]
  },
  {
   "cell_type": "code",
   "execution_count": 372,
   "metadata": {},
   "outputs": [
    {
     "data": {
      "text/latex": [
       "$\\displaystyle 4 x^{3}$"
      ],
      "text/plain": [
       "4*x**3"
      ]
     },
     "execution_count": 372,
     "metadata": {},
     "output_type": "execute_result"
    }
   ],
   "source": [
    "diff_of_RPN(\"x 4 **\")"
   ]
  },
  {
   "cell_type": "code",
   "execution_count": 373,
   "metadata": {},
   "outputs": [
    {
     "data": {
      "text/latex": [
       "$\\displaystyle \\frac{4 y^{3} \\sin{\\left(y \\right)} - \\left(3 x + y^{4}\\right) \\cos{\\left(y \\right)}}{\\sin^{2}{\\left(y \\right)}}$"
      ],
      "text/plain": [
       "(4*y**3*sin(y) - (3*x + y**4)*cos(y))/sin(y)**2"
      ]
     },
     "execution_count": 373,
     "metadata": {},
     "output_type": "execute_result"
    }
   ],
   "source": [
    "diff_of_RPN(\"y 4 ** 3 x * + y sin /\", \"y\")"
   ]
  },
  {
   "cell_type": "code",
   "execution_count": 374,
   "metadata": {},
   "outputs": [
    {
     "data": {
      "text/latex": [
       "$\\displaystyle \\frac{- y^{4} \\cos{\\left(y \\right)} + 4 y^{3} \\sin{\\left(y \\right)}}{\\sin^{2}{\\left(y \\right)}}$"
      ],
      "text/plain": [
       "(-y**4*cos(y) + 4*y**3*sin(y))/sin(y)**2"
      ]
     },
     "execution_count": 374,
     "metadata": {},
     "output_type": "execute_result"
    }
   ],
   "source": [
    "diff_of_RPN(\"y 4 ** y sin /\", \"y\")"
   ]
  },
  {
   "cell_type": "code",
   "execution_count": 375,
   "metadata": {},
   "outputs": [
    {
     "data": {
      "text/latex": [
       "$\\displaystyle 4^{x} \\log{\\left(4 \\right)}$"
      ],
      "text/plain": [
       "4**x*log(4)"
      ]
     },
     "execution_count": 375,
     "metadata": {},
     "output_type": "execute_result"
    }
   ],
   "source": [
    "diff_of_RPN(\"4 x **\")"
   ]
  },
  {
   "cell_type": "code",
   "execution_count": 376,
   "metadata": {},
   "outputs": [
    {
     "data": {
      "text/latex": [
       "$\\displaystyle 1$"
      ],
      "text/plain": [
       "1"
      ]
     },
     "execution_count": 376,
     "metadata": {},
     "output_type": "execute_result"
    }
   ],
   "source": [
    "diff_of_RPN(\"e log x *\", \"x\")"
   ]
  },
  {
   "cell_type": "code",
   "execution_count": 377,
   "metadata": {},
   "outputs": [
    {
     "data": {
      "text/latex": [
       "$\\displaystyle \\left(\\log{\\left(x \\right)} + 1\\right) e^{x \\log{\\left(x \\right)}}$"
      ],
      "text/plain": [
       "(log(x) + 1)*exp(x*log(x))"
      ]
     },
     "execution_count": 377,
     "metadata": {},
     "output_type": "execute_result"
    }
   ],
   "source": [
    "diff_of_RPN(\"x x **\", \"x\")"
   ]
  },
  {
   "cell_type": "code",
   "execution_count": 378,
   "metadata": {
    "scrolled": true
   },
   "outputs": [
    {
     "data": {
      "text/latex": [
       "$\\displaystyle \\left(2 x \\log{\\left(x \\right)} + x\\right) e^{x^{2} \\log{\\left(x \\right)}}$"
      ],
      "text/plain": [
       "(2*x*log(x) + x)*exp(x**2*log(x))"
      ]
     },
     "execution_count": 378,
     "metadata": {},
     "output_type": "execute_result"
    }
   ],
   "source": [
    "diff_of_RPN(\"x x 2 ** **\", \"x\")"
   ]
  },
  {
   "cell_type": "code",
   "execution_count": 379,
   "metadata": {},
   "outputs": [
    {
     "data": {
      "text/latex": [
       "$\\displaystyle 0$"
      ],
      "text/plain": [
       "0"
      ]
     },
     "execution_count": 379,
     "metadata": {},
     "output_type": "execute_result"
    }
   ],
   "source": [
    "diff_of_RPN(\"x x 2 ** **\", \"w\")"
   ]
  },
  {
   "cell_type": "code",
   "execution_count": 380,
   "metadata": {},
   "outputs": [
    {
     "data": {
      "text/latex": [
       "$\\displaystyle 1$"
      ],
      "text/plain": [
       "1"
      ]
     },
     "execution_count": 380,
     "metadata": {},
     "output_type": "execute_result"
    }
   ],
   "source": [
    "diff_of_RPN(\"w\", \"w\")"
   ]
  },
  {
   "cell_type": "code",
   "execution_count": 381,
   "metadata": {},
   "outputs": [
    {
     "data": {
      "text/latex": [
       "$\\displaystyle 2 w \\cos{\\left(w^{2} \\right)}$"
      ],
      "text/plain": [
       "2*w*cos(w**2)"
      ]
     },
     "execution_count": 381,
     "metadata": {},
     "output_type": "execute_result"
    }
   ],
   "source": [
    "diff_of_RPN(\"w 2 ** sin\", \"w\")"
   ]
  },
  {
   "cell_type": "code",
   "execution_count": 382,
   "metadata": {},
   "outputs": [
    {
     "data": {
      "text/latex": [
       "$\\displaystyle - \\frac{2 \\sin{\\left(\\log{\\left(w^{2} \\right)} \\right)}}{w}$"
      ],
      "text/plain": [
       "-2*sin(log(w**2))/w"
      ]
     },
     "execution_count": 382,
     "metadata": {},
     "output_type": "execute_result"
    }
   ],
   "source": [
    "diff_of_RPN(\"w 2 ** log cos\", \"w\")"
   ]
  },
  {
   "cell_type": "code",
   "execution_count": 383,
   "metadata": {},
   "outputs": [
    {
     "data": {
      "text/latex": [
       "$\\displaystyle \\frac{2 x + 1}{\\cos^{2}{\\left(x^{2} + x \\right)}}$"
      ],
      "text/plain": [
       "(2*x + 1)/cos(x**2 + x)**2"
      ]
     },
     "execution_count": 383,
     "metadata": {},
     "output_type": "execute_result"
    }
   ],
   "source": [
    "diff_of_RPN(\"x 2 ** x + tg\")"
   ]
  },
  {
   "cell_type": "code",
   "execution_count": 384,
   "metadata": {},
   "outputs": [
    {
     "data": {
      "text/latex": [
       "$\\displaystyle \\log{\\left(3 \\right)}$"
      ],
      "text/plain": [
       "log(3)"
      ]
     },
     "execution_count": 384,
     "metadata": {},
     "output_type": "execute_result"
    }
   ],
   "source": [
    "diff_of_RPN(\"3 x ** log\")"
   ]
  },
  {
   "cell_type": "code",
   "execution_count": 385,
   "metadata": {},
   "outputs": [
    {
     "data": {
      "text/latex": [
       "$\\displaystyle - \\frac{1}{\\sin^{2}{\\left(x \\right)}}$"
      ],
      "text/plain": [
       "-1/sin(x)**2"
      ]
     },
     "execution_count": 385,
     "metadata": {},
     "output_type": "execute_result"
    }
   ],
   "source": [
    "diff_of_RPN(\"x ctg\", \"x\")"
   ]
  },
  {
   "cell_type": "code",
   "execution_count": 386,
   "metadata": {},
   "outputs": [
    {
     "data": {
      "text/latex": [
       "$\\displaystyle \\frac{x \\log{\\left(3 \\right)} - \\log{\\left(3^{x} \\right)}}{x^{2}}$"
      ],
      "text/plain": [
       "(x*log(3) - log(3**x))/x**2"
      ]
     },
     "execution_count": 386,
     "metadata": {},
     "output_type": "execute_result"
    }
   ],
   "source": [
    "diff_of_RPN(\"3 x ** log x /\")"
   ]
  },
  {
   "cell_type": "code",
   "execution_count": 387,
   "metadata": {},
   "outputs": [
    {
     "data": {
      "text/latex": [
       "$\\displaystyle y - \\frac{1}{\\sin^{2}{\\left(x \\right)}}$"
      ],
      "text/plain": [
       "y - 1/sin(x)**2"
      ]
     },
     "execution_count": 387,
     "metadata": {},
     "output_type": "execute_result"
    }
   ],
   "source": [
    "diff_of_RPN(\"x ctg y x * +\", \"x\") "
   ]
  },
  {
   "cell_type": "code",
   "execution_count": 369,
   "metadata": {},
   "outputs": [
    {
     "data": {
      "text/latex": [
       "$\\displaystyle x^{y - 1} y$"
      ],
      "text/plain": [
       "x**(y - 1)*y"
      ]
     },
     "execution_count": 369,
     "metadata": {},
     "output_type": "execute_result"
    }
   ],
   "source": [
    "diff_of_RPN(\"x y **\")"
   ]
  },
  {
   "cell_type": "code",
   "execution_count": 389,
   "metadata": {},
   "outputs": [
    {
     "data": {
      "text/latex": [
       "$\\displaystyle y^{x} \\log{\\left(y \\right)}$"
      ],
      "text/plain": [
       "y**x*log(y)"
      ]
     },
     "execution_count": 389,
     "metadata": {},
     "output_type": "execute_result"
    }
   ],
   "source": [
    "diff_of_RPN(\"y x **\")"
   ]
  },
  {
   "cell_type": "code",
   "execution_count": 370,
   "metadata": {},
   "outputs": [
    {
     "data": {
      "text/latex": [
       "$\\displaystyle 3 x^{2}$"
      ],
      "text/plain": [
       "3*x**2"
      ]
     },
     "execution_count": 370,
     "metadata": {},
     "output_type": "execute_result"
    }
   ],
   "source": [
    "diff_of_RPN(\"x 3 **\")"
   ]
  },
  {
   "cell_type": "markdown",
   "metadata": {},
   "source": [
    "Wszystkie wyniki wyszły poprawnie :)"
   ]
  },
  {
   "cell_type": "markdown",
   "metadata": {},
   "source": [
    "KONIEC"
   ]
  }
 ],
 "metadata": {
  "interpreter": {
   "hash": "0a3efb3bb407a7e3626485f94149d9397fa80536653b5fb992d7b2e29c0fd3ba"
  },
  "kernelspec": {
   "display_name": "Python 3",
   "language": "python",
   "name": "python3"
  },
  "language_info": {
   "codemirror_mode": {
    "name": "ipython",
    "version": 3
   },
   "file_extension": ".py",
   "mimetype": "text/x-python",
   "name": "python",
   "nbconvert_exporter": "python",
   "pygments_lexer": "ipython3",
   "version": "3.8.5"
  }
 },
 "nbformat": 4,
 "nbformat_minor": 2
}
