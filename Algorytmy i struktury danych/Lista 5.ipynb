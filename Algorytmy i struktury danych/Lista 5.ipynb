{
 "cells": [
  {
   "cell_type": "markdown",
   "metadata": {},
   "source": [
    "# Lista 5"
   ]
  },
  {
   "cell_type": "markdown",
   "metadata": {},
   "source": [
    "### Algorytmy i struktury danych"
   ]
  },
  {
   "cell_type": "markdown",
   "metadata": {},
   "source": [
    "#### Urszula Spik i Natalia Jelito"
   ]
  },
  {
   "cell_type": "code",
   "execution_count": 70,
   "metadata": {},
   "outputs": [],
   "source": [
    "import turtle as trtl\n",
    "import numpy as np\n",
    "from scipy import linalg\n",
    "import time\n",
    "import matplotlib.pyplot as plt\n",
    "from scipy.optimize import curve_fit"
   ]
  },
  {
   "cell_type": "markdown",
   "metadata": {},
   "source": [
    "### <span style=\"color:CornflowerBlue\"> Zadanie 1 </span>"
   ]
  },
  {
   "cell_type": "markdown",
   "metadata": {},
   "source": [
    "**Edycja świąteczna**"
   ]
  },
  {
   "cell_type": "code",
   "execution_count": 71,
   "metadata": {},
   "outputs": [],
   "source": [
    "def solving_time(n):\n",
    "    \"\"\"\n",
    "    Find time of solving system of linear equations\n",
    "    \n",
    "    Args:\n",
    "        n (int): size of matrix\n",
    "        \n",
    "    Returns:\n",
    "        (float): time of solving\n",
    "    \"\"\"\n",
    "    a = np.random.randint(low = -50, high = 50, size = (n, n))\n",
    "    b = np.random.randint(low = -50, high = 50, size = n)\n",
    "    t = time.time() \n",
    "    x = linalg.solve(a, b)\n",
    "    t = time.time() - t\n",
    "    return t\n",
    "  "
   ]
  },
  {
   "cell_type": "markdown",
   "metadata": {},
   "source": [
    "Stwórzmy wykresy dla różnych rozmiarów macierzy"
   ]
  },
  {
   "cell_type": "code",
   "execution_count": 73,
   "metadata": {},
   "outputs": [
    {
     "data": {
      "image/png": "[encoded data removed]",
      "text/plain": [
       "<Figure size 432x288 with 1 Axes>"
      ]
     },
     "metadata": {
      "needs_background": "light"
     },
     "output_type": "display_data"
    }
   ],
   "source": [
    "n = 3000\n",
    "x = list(range(0,n, 150))\n",
    "y = [solving_time(i) for i in x]\n",
    "plt.plot(x,y, \"y*\", label=\"Dane\")\n",
    "plt.xlabel(\"Rozmiar\")\n",
    "plt.ylabel(\"Czas wykonania\")\n",
    "plt.legend(loc='upper left')\n",
    "plt.show()"
   ]
  },
  {
   "cell_type": "markdown",
   "metadata": {},
   "source": [
    "Stawiam hipoteze, że wykres jest proporcjonalny do $x^2$\n",
    "\n",
    "Wyliczmy wartość współczynników a i b dla funkcji $ax^2 +b$"
   ]
  },
  {
   "cell_type": "code",
   "execution_count": 74,
   "metadata": {},
   "outputs": [
    {
     "name": "stdout",
     "output_type": "stream",
     "text": [
      "Wartości współczynników: a = 9.432184177063781e-08 , b = -0.04234239615074446\n"
     ]
    }
   ],
   "source": [
    "def func(x, a, b):\n",
    "    \"\"\"\n",
    "    Function that give value of square function\n",
    "    \n",
    "    Returns:\n",
    "        Value of square function\n",
    "    \"\"\"\n",
    "    return a*x**2 + b\n",
    "\n",
    "popt, pcov = curve_fit(func, x, y) \n",
    "\n",
    "print(\"Wartości współczynników: a = %s , b = %s\" % (popt[0], popt[1]))"
   ]
  },
  {
   "cell_type": "markdown",
   "metadata": {},
   "source": [
    "Porównajmy wykres naszych danych z szacowaną funkcją"
   ]
  },
  {
   "cell_type": "code",
   "execution_count": 75,
   "metadata": {},
   "outputs": [
    {
     "data": {
      "image/png": "[encoded data removed]",
      "text/plain": [
       "<Figure size 432x288 with 1 Axes>"
      ]
     },
     "metadata": {
      "needs_background": "light"
     },
     "output_type": "display_data"
    }
   ],
   "source": [
    "x2 = np.arange(0,n)\n",
    "plt.plot(x,y,'y*',label=\"Dane\")\n",
    "plt.plot(x2, func(x2, popt[0], popt[1]), color=\"darkblue\", label=\"Hipoteza\") \n",
    "plt.xlabel(\"Rozmiar\")\n",
    "plt.ylabel(\"Czas wykonania\")\n",
    "plt.legend(loc='upper left')\n",
    "plt.show()"
   ]
  },
  {
   "cell_type": "markdown",
   "metadata": {},
   "source": [
    "Algorytm ma złożoność obliczeniową $O(N^2)$ ;)"
   ]
  },
  {
   "cell_type": "markdown",
   "metadata": {},
   "source": [
    "### <span style=\"color:CornflowerBlue\"> Zadanie 2 </span>"
   ]
  },
  {
   "cell_type": "code",
   "execution_count": 76,
   "metadata": {},
   "outputs": [],
   "source": [
    "class Stack:\n",
    "    def __init__(self, name = \"Stack\"):\n",
    "        \"\"\"\n",
    "        Create stack\n",
    "        \n",
    "        Args:\n",
    "            name (str): name of stack\n",
    "        \"\"\"\n",
    "        self.items = []\n",
    "        self.name = name\n",
    "        \n",
    "    def isEmpty(self):\n",
    "        \"\"\"\n",
    "        Check if stack is empty\n",
    "\n",
    "        Returns:\n",
    "            (bool): True if stack is empty, otherwise False\n",
    "        \"\"\"\n",
    "        return self.items == []\n",
    "    \n",
    "    def push(self, item):\n",
    "        \"\"\"\n",
    "        Add item to the end\n",
    "\n",
    "        Args:\n",
    "            item: item to add\n",
    "        \"\"\"\n",
    "        self.items.append(item)\n",
    "        \n",
    "    def pop(self):\n",
    "        \"\"\"\n",
    "        Delate last item\n",
    "\n",
    "        Returns:\n",
    "            Delated item\n",
    "        \"\"\"\n",
    "        return self.items.pop()\n",
    "    \n",
    "    def peek(self):\n",
    "        \"\"\"\n",
    "        Return last item\n",
    "        \n",
    "        Returns:\n",
    "            Last item\n",
    "        \"\"\"\n",
    "        return self.items[len(self.items)-1]\n",
    "    \n",
    "    def size(self):\n",
    "        \"\"\"\n",
    "        Check size of stack\n",
    "        \n",
    "        Returns:\n",
    "            (int): Size of stack\n",
    "        \"\"\"\n",
    "        return len(self.items)\n",
    "    \n",
    "    def __str__(self):\n",
    "        \"\"\"\n",
    "        Show str form of stack\n",
    "        \n",
    "        Returns:\n",
    "            (str): str from stack\n",
    "        \"\"\"\n",
    "        return str(self.items)"
   ]
  },
  {
   "cell_type": "code",
   "execution_count": 77,
   "metadata": {},
   "outputs": [],
   "source": [
    "def move_disc(source, destination):\n",
    "    \"\"\"Move the next disk from source to target\n",
    "\n",
    "    Args:\n",
    "        source (Stack): tower to take a disk from\n",
    "        destination (Stack): tower where we put a disk\n",
    "    \"\"\"\n",
    "    destination.push(source.pop())\n",
    "    src_name = source.name\n",
    "    dst_name = destination.name\n",
    "    print(f\"moving disk form {src_name} to {dst_name}\")\n",
    "\n",
    "def hanoi_stack(n, A, C, B):\n",
    "    \"\"\"Solves hanoi tower using 3 stacks\n",
    "    Args:\n",
    "        n (int): number of disks\n",
    "        A (Stack): source stack\n",
    "        C (Stack): stack where we want to move disks (destiantion)\n",
    "        B (Stack): auxiliary stack\n",
    "    \"\"\"\n",
    "    if n > 0:\n",
    "        hanoi_stack(n-1, A, B,C)\n",
    "        move_disc(A,C)\n",
    "        hanoi_stack(n-1, B, C, A)"
   ]
  },
  {
   "cell_type": "code",
   "execution_count": 78,
   "metadata": {},
   "outputs": [
    {
     "name": "stdout",
     "output_type": "stream",
     "text": [
      "A:[4, 3, 2, 1], B:[], C:[]\n",
      "moving disk form A to B\n",
      "moving disk form A to C\n",
      "moving disk form B to C\n",
      "moving disk form A to B\n",
      "moving disk form C to A\n",
      "moving disk form C to B\n",
      "moving disk form A to B\n",
      "moving disk form A to C\n",
      "moving disk form B to C\n",
      "moving disk form B to A\n",
      "moving disk form C to A\n",
      "moving disk form B to C\n",
      "moving disk form A to B\n",
      "moving disk form A to C\n",
      "moving disk form B to C\n",
      "A:[], B:[], C:[4, 3, 2, 1]\n"
     ]
    }
   ],
   "source": [
    "def hanoi_tower(n, A_name=\"A\", C_name=\"C\", B_name=\"B\"):\n",
    "    \"\"\"Shows procces of solving problem of hanoi tower using 3 stacks\n",
    "\n",
    "    Args:\n",
    "        n (int): number of disks\n",
    "        A_name (str): name of source stack\n",
    "        C_name (str): name of stack where we want to move disks(destination)\n",
    "        B_name (str): name of auxiliary stack\n",
    "    \"\"\"\n",
    "    A = Stack(A_name)\n",
    "    B = Stack(B_name)\n",
    "    C = Stack(C_name)\n",
    "    for i in range(n, 0 , -1):\n",
    "        A.push(i)\n",
    "    print(f'{A_name}:{A}, {B_name}:{B}, {C_name}:{C}')\n",
    "    hanoi_stack(n, A, C, B)\n",
    "    print(f'{A_name}:{A}, {B_name}:{B}, {C_name}:{C}')\n",
    "\n",
    "n = 4\n",
    "hanoi_tower(n)"
   ]
  },
  {
   "cell_type": "markdown",
   "metadata": {},
   "source": [
    "W wieży Hanoi wiemy, że najmniejsza liczba wymaganych ruchów wynosi $2^n -1$, co w podanym przykładzie dla $n=4$ widzimy, że się zgadza :)"
   ]
  },
  {
   "cell_type": "markdown",
   "metadata": {},
   "source": [
    "**<span style=\"color:crimson\">Ważne!</span>**\n",
    "\n",
    "*W jupyterze przy zadaniach z turtle może pojawić się błąd Terminator, w tym wypadku należy po prostu uruchomić ponownie kod i wszystko będzie ok, kod uruchomiony w VS Codzie działa bez problemu :)*"
   ]
  },
  {
   "cell_type": "markdown",
   "metadata": {},
   "source": [
    "### <span style=\"color:CornflowerBlue\"> Zadanie 3 </span>"
   ]
  },
  {
   "cell_type": "code",
   "execution_count": 79,
   "metadata": {},
   "outputs": [],
   "source": [
    "def hilbert_curve(n, angle, length):\n",
    "    \"\"\"\n",
    "    Generates Hilbert curve\n",
    "\n",
    "    Args:\n",
    "        n (int): number of recursion steps\n",
    "        angle (int): value of turn\n",
    "        length (int): length of element\n",
    "    \"\"\"\n",
    "    if n==0:\n",
    "        return\n",
    "    trtl.right(angle)\n",
    "    hilbert_curve(n - 1, -angle, length)\n",
    "    trtl.forward(length)\n",
    "    trtl.left(angle)\n",
    "    hilbert_curve(n - 1, angle, length)\n",
    "    trtl.forward(length)\n",
    "    hilbert_curve(n - 1, angle, length)\n",
    "    trtl.left(angle)\n",
    "    trtl.forward(length)\n",
    "    hilbert_curve(n - 1, -angle, length)\n",
    "    trtl.right(angle)"
   ]
  },
  {
   "cell_type": "code",
   "execution_count": 80,
   "metadata": {},
   "outputs": [],
   "source": [
    "def hilbert_pattern(n, size = 200, angle = 90):\n",
    "    \"\"\"Draws Hilbert curve\n",
    "\n",
    "    Args:\n",
    "        n (int): number of recursion steps\n",
    "        size (int, optional): size of pattern. Defaults to 200.\n",
    "        angle (int, optional): value of turn. Defaults to 90.\n",
    "    \"\"\"\n",
    "    trtl.Screen().bgcolor(\"midnightblue\")\n",
    "    trtl.pencolor(\"lemonchiffon\")\n",
    "    trtl.penup()\n",
    "    trtl.goto(-size / 2.0, size / 2.0)\n",
    "    trtl.pendown()\n",
    "    trtl.speed(10)\n",
    "    hilbert_curve(n, angle, size / ((2 ** n - 1)+1))\n",
    "    trtl.mainloop()"
   ]
  },
  {
   "cell_type": "code",
   "execution_count": 81,
   "metadata": {},
   "outputs": [],
   "source": [
    "n = 5\n",
    "hilbert_pattern(n)"
   ]
  },
  {
   "cell_type": "markdown",
   "metadata": {},
   "source": [
    "### <span style=\"color:CornflowerBlue\"> Zadanie 4 </span>"
   ]
  },
  {
   "cell_type": "markdown",
   "metadata": {},
   "source": [
    "Krzywa Kocha"
   ]
  },
  {
   "cell_type": "code",
   "execution_count": 82,
   "metadata": {},
   "outputs": [],
   "source": [
    "def kochcurve(n, length = 300):\n",
    "    \"\"\"\n",
    "    Create Koch curve\n",
    "    \n",
    "    Args:\n",
    "        length (int): lenght of curve, positive int\n",
    "        n (int): number of recursion steps, \n",
    "        must be greater than or equal to 0\n",
    "    \"\"\"\n",
    "    if n == 0:\n",
    "        trtl.forward(length)\n",
    "    else:\n",
    "        length /= 3.0\n",
    "        kochcurve(n-1, length)\n",
    "        trtl.left(60)\n",
    "        kochcurve(n-1, length)\n",
    "        trtl.right(120)\n",
    "        kochcurve(n-1, length)\n",
    "        trtl.left(60)\n",
    "        kochcurve(n-1, length)\n",
    "\n",
    "def kochsnoflake(n, length = 300):\n",
    "    \"\"\"\n",
    "    Draw Koch Snowflake\n",
    "    \n",
    "    Args:\n",
    "        length (int): lenght of curve, positive int\n",
    "        n (int): number of recursion steps,\n",
    "        must be greater than or equal to 0\n",
    "    \"\"\"\n",
    "    screen = trtl.Screen()\n",
    "    screen.bgcolor(\"midnightblue\")\n",
    "    screen.title(\"Merry Christmas!\")\n",
    "    trtl.shape(\"turtle\")\n",
    "    trtl.speed(0)\n",
    "    trtl.pencolor(\"white\")                             \n",
    "    trtl.penup()                     \n",
    "    trtl.setposition(-length/2.0, length/3.0)    \n",
    "    trtl.pendown()\n",
    "    trtl.fillcolor(\"white\")\n",
    "    trtl.begin_fill()\n",
    "    for i in range(3):    \n",
    "        kochcurve(n, length)\n",
    "        trtl.right(120)\n",
    "    trtl.end_fill() \n",
    "    trtl.hideturtle()\n",
    "    trtl.exitonclick()"
   ]
  },
  {
   "cell_type": "code",
   "execution_count": 84,
   "metadata": {},
   "outputs": [],
   "source": [
    "kochsnoflake(3)"
   ]
  },
  {
   "cell_type": "markdown",
   "metadata": {},
   "source": [
    "### <span style=\"color:DarkRed\"> Wesołych Świąt! </span>"
   ]
  }
 ],
 "metadata": {
  "@webio": {
   "lastCommId": null,
   "lastKernelId": null
  },
  "kernelspec": {
   "display_name": "Python 3",
   "language": "python",
   "name": "python3"
  },
  "language_info": {
   "codemirror_mode": {
    "name": "ipython",
    "version": 3
   },
   "file_extension": ".py",
   "mimetype": "text/x-python",
   "name": "python",
   "nbconvert_exporter": "python",
   "pygments_lexer": "ipython3",
   "version": "3.8.5"
  }
 },
 "nbformat": 4,
 "nbformat_minor": 4
}
