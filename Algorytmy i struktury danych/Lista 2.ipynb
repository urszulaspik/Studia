{
 "cells": [
  {
   "cell_type": "markdown",
   "metadata": {},
   "source": [
    "# Algorytmy i struktury danych"
   ]
  },
  {
   "cell_type": "markdown",
   "metadata": {},
   "source": [
    "## Lista 2"
   ]
  },
  {
   "cell_type": "markdown",
   "metadata": {},
   "source": [
    "### Urszula Spik"
   ]
  },
  {
   "cell_type": "markdown",
   "metadata": {},
   "source": [
    "Najbardziej podstawowa wersja algorymu"
   ]
  },
  {
   "cell_type": "code",
   "execution_count": 9,
   "metadata": {},
   "outputs": [],
   "source": [
    "def pythagoras1(n: int):\n",
    "    \"\"\"\n",
    "    Find pythagorean triples - a, b, c numbers which satisfy the equation\n",
    "    a + b + c = n and a^2 + b^2 = c^2\n",
    "    The most basic method\n",
    "\n",
    "    Args:\n",
    "        n (int): sum of number a, b, c\n",
    "    \n",
    "    Raises:\n",
    "        TypeError: n have to be positive int\n",
    "    \n",
    "    Returns:\n",
    "        (tuple): tuple with a, b, c numbers and number of operations,\n",
    "                 (0, 0, 0) if triples doesn't exist\n",
    "    \"\"\"\n",
    "    operations = 1\n",
    "    if isinstance(n, int) and n > 0:\n",
    "        for a in range(1,n+1):\n",
    "            for b in range(1,n+1):\n",
    "                for c in range(1,n+1):\n",
    "                    operations += 1\n",
    "                    if a**2 + b**2 == c**2 and a + b + c == n:\n",
    "                        return (a,b,c), operations\n",
    "        return (0, 0, 0)\n",
    "    else:\n",
    "        raise TypeError(\"n have to be positive int\")"
   ]
  },
  {
   "cell_type": "code",
   "execution_count": 10,
   "metadata": {},
   "outputs": [
    {
     "data": {
      "text/plain": [
       "((200, 375, 425), 199374426)"
      ]
     },
     "execution_count": 10,
     "metadata": {},
     "output_type": "execute_result"
    }
   ],
   "source": [
    "pythagoras1(1000)"
   ]
  },
  {
   "cell_type": "markdown",
   "metadata": {},
   "source": [
    "Ulepszona wersja - uzależniamy zmienną c od a, b i n, czyli $ c = n - a - b $"
   ]
  },
  {
   "cell_type": "code",
   "execution_count": 11,
   "metadata": {},
   "outputs": [],
   "source": [
    "def pythagoras2(n: int):\n",
    "    \"\"\"\n",
    "    Find pythagorean triples - a, b, c numbers which satisfy the equation\n",
    "    a + b + c = n and a^2 + b^2 = c^2\n",
    "    Number c is equal to n - a - b\n",
    "\n",
    "    Args:\n",
    "        n (int): sum of number a, b, c\n",
    "    \n",
    "    Raises:\n",
    "        TypeError: n have to be positive int\n",
    "    \n",
    "    Returns:\n",
    "        (tuple): tuple with a, b, c numbers and number of operations, \n",
    "                 (0, 0, 0) if triples doesn't exist\n",
    "    \"\"\"\n",
    "    operations = 1\n",
    "    if isinstance(n, int) and n > 0:\n",
    "        for a in range(1,n+1):\n",
    "            for b in range(1,n+1):\n",
    "                operations += 2\n",
    "                c = n - a - b\n",
    "                if a**2 + b**2 == c**2:\n",
    "                    return (a,b,c), operations\n",
    "        return (0, 0, 0)\n",
    "    else:\n",
    "        raise TypeError(\"n have to be positive int\")"
   ]
  },
  {
   "cell_type": "code",
   "execution_count": 12,
   "metadata": {},
   "outputs": [
    {
     "data": {
      "text/plain": [
       "((200, 375, 425), 398751)"
      ]
     },
     "execution_count": 12,
     "metadata": {},
     "output_type": "execute_result"
    }
   ],
   "source": [
    "pythagoras2(1000)"
   ]
  },
  {
   "cell_type": "markdown",
   "metadata": {},
   "source": [
    "Bez straty ogólności można założyć że: $ a < b < c $"
   ]
  },
  {
   "cell_type": "markdown",
   "metadata": {},
   "source": [
    "Wtedy można zauważyć, że maksymalna wartość jaką może przyjmować a jest równa n/3 -1 zaś minimalna wartość b to a+1 zaś maksymalna to n/2 - 1"
   ]
  },
  {
   "cell_type": "code",
   "execution_count": 13,
   "metadata": {},
   "outputs": [],
   "source": [
    "def pythagoras3(n: int):\n",
    "    \"\"\"\n",
    "    Find pythagorean triples - a, b, c numbers which satisfy the equation\n",
    "    a + b + c = n and a^2 + b^2 = c^2\n",
    "    Number c is equal to n - a - b\n",
    "    Range of a and b are limited\n",
    "\n",
    "    Args:\n",
    "        n (int): sum of number a, b, c\n",
    "        \n",
    "    Raises:\n",
    "        TypeError: n have to be positive int\n",
    "\n",
    "    Returns:\n",
    "        (tuple): tuple with a, b, c numbers and number of operations,\n",
    "                 (0, 0, 0) if triples doesn't exist\n",
    "    \"\"\"\n",
    "    operations = 1\n",
    "    if isinstance(n, int) and n > 0:\n",
    "        for a in range(1,n//3):\n",
    "            for b in range(a+1,n//2):\n",
    "                operations += 2\n",
    "                c = n - a - b\n",
    "                if a**2 + b**2 == c**2:\n",
    "                    return (a,b,c), operations\n",
    "        return (0, 0, 0)\n",
    "    else:\n",
    "        raise TypeError(\"n have to be positive int\")"
   ]
  },
  {
   "cell_type": "code",
   "execution_count": 14,
   "metadata": {},
   "outputs": [
    {
     "data": {
      "text/plain": [
       "((200, 375, 425), 159153)"
      ]
     },
     "execution_count": 14,
     "metadata": {},
     "output_type": "execute_result"
    }
   ],
   "source": [
    "pythagoras3(1000)"
   ]
  },
  {
   "cell_type": "markdown",
   "metadata": {},
   "source": [
    "Podnosimy $ a + b + c = n $ do kwadratu i otrzymujemy $$ a^2 + b^2 + c^2 + 2ab + 2ac + 2bc = n^2 $$ następnie za $ c^2 $ podstawiamy $ a^2 + b^2 $ a za $ c = n - a - b $ i dostajemy $ 2a^2 + 2b^2 + 2ab + 2an - 2a^2 - 2ab + 2bn - 2ba - 2b^2 = n^2 $ po zsumowaniu dostajemy równanie $$ 2an + 2bn - 2ba = n^2 $$ i z tego otrzymujemy że $$ b = (n^2 - 2an)/(2n-2a) $$"
   ]
  },
  {
   "cell_type": "code",
   "execution_count": 15,
   "metadata": {},
   "outputs": [],
   "source": [
    "def pythagoras4(n: int):\n",
    "    \"\"\"\n",
    "    Find pythagorean triples - a, b, c numbers which satisfy the equation\n",
    "    a + b + c = n and a^2 + b^2 = c^2\n",
    "    Iterate only over limited a\n",
    "    Number b and c depend on a and sum of a, b, c.\n",
    "\n",
    "    Args:\n",
    "        n (int): sum of number a, b, c\n",
    "\n",
    "    Raises:\n",
    "        TypeError: n have to be positive int\n",
    "    \n",
    "    Returns:\n",
    "        (tuple): tuple with a, b, c numbers and number of operations,\n",
    "                 (0, 0, 0) if triples doesn't exist\n",
    "    \"\"\"\n",
    "    operations = 1\n",
    "    if isinstance(n, int) and n > 0:\n",
    "        for a in range(1, n//3):\n",
    "            operations += 3\n",
    "            b = (n**2 - 2*a*n)//(2*(n-a))\n",
    "            c = n - a - b\n",
    "            if a**2 + b**2 == c**2:\n",
    "                return (a, b, c), operations\n",
    "        return (0, 0, 0)\n",
    "    else:\n",
    "        raise TypeError(\"n have to be positive int\")\n"
   ]
  },
  {
   "cell_type": "code",
   "execution_count": 16,
   "metadata": {},
   "outputs": [
    {
     "data": {
      "text/plain": [
       "((200, 375, 425), 601)"
      ]
     },
     "execution_count": 16,
     "metadata": {},
     "output_type": "execute_result"
    }
   ],
   "source": [
    "pythagoras4(1000)"
   ]
  },
  {
   "cell_type": "markdown",
   "metadata": {},
   "source": [
    "Weźmy wzór $ a^2 + b^2 = c^2 $, po dodaniu do obu stron $ 2ab $, otrzymamy $$ (a + b)^2 = c^2 + 2ab $$ ale $ a + b = n - c $ dlatego $$ 2ab = (n - c)^2 - c^2 $$ odejmijmy teraz ten wzór od pierwszego wzoru, wtedy dostaniemy $$ a^2 - 2ab + b^2 = 2c^2 - (n - c)^2 $$ z tego mamy $$ (a - b)^2 = c^2 + 2nc - n^2 $$\n",
    "Wychodząc z wzoru $ a + b = c - n $ i odejmujac obustronnie $ b $ i przy założeniu że $ a < b $ po przekształceniu otrzymujemy, że $$ b = (n - c + (a - b))/2 $$"
   ]
  },
  {
   "cell_type": "markdown",
   "metadata": {},
   "source": [
    "Minimalna wartość liczby c to n/3"
   ]
  },
  {
   "cell_type": "code",
   "execution_count": 17,
   "metadata": {},
   "outputs": [],
   "source": [
    "def pythagoras5(n: int):\n",
    "    \"\"\"\n",
    "    Find a, b, c numbers which satisfy the equation\n",
    "    a + b + c = n and a^2 + b^2 = c^2\n",
    "    Iterate only over limited c\n",
    "    \n",
    "    Args:\n",
    "        n (int): sum of number a, b, c\n",
    "        \n",
    "    Raises:\n",
    "        TypeError: n have to be positive int\n",
    "\n",
    "    Returns:\n",
    "        (tuple): tuple with a, b, c numbers and number of operations,\n",
    "                 (0, 0, 0) if triples doesn't exist\n",
    "    \"\"\"\n",
    "    operations = 1\n",
    "    if isinstance(n, int) and n > 0:\n",
    "        for c in range(n//3, n):\n",
    "            operations += 2\n",
    "            a_b2 = c**2 + 2*n*c - n**2\n",
    "            if a_b2 > 0:\n",
    "                operations += 2\n",
    "                a_b = int(a_b2**(1/2))\n",
    "                if a_b**2 == a_b2:\n",
    "                    operations += 2\n",
    "                    b = int((n - c + (a_b))/2)\n",
    "                    a = int(n - b - c)\n",
    "                    return (a, b, c), operations\n",
    "        return (0, 0, 0)\n",
    "    else:\n",
    "        raise TypeError(\"n have to be positive int\")"
   ]
  },
  {
   "cell_type": "code",
   "execution_count": 18,
   "metadata": {},
   "outputs": [
    {
     "data": {
      "text/plain": [
       "((200, 375, 425), 211)"
      ]
     },
     "execution_count": 18,
     "metadata": {},
     "output_type": "execute_result"
    }
   ],
   "source": [
    "pythagoras5(1000)"
   ]
  },
  {
   "cell_type": "markdown",
   "metadata": {},
   "source": [
    "### Porównanie czasów"
   ]
  },
  {
   "cell_type": "code",
   "execution_count": 19,
   "metadata": {},
   "outputs": [
    {
     "name": "stdout",
     "output_type": "stream",
     "text": [
      "3min 22s ± 18.6 s per loop (mean ± std. dev. of 7 runs, 1 loop each)\n"
     ]
    }
   ],
   "source": [
    "%%timeit\n",
    "pythagoras1(1000)"
   ]
  },
  {
   "cell_type": "code",
   "execution_count": 20,
   "metadata": {},
   "outputs": [
    {
     "name": "stdout",
     "output_type": "stream",
     "text": [
      "175 ms ± 16.7 ms per loop (mean ± std. dev. of 7 runs, 1 loop each)\n"
     ]
    }
   ],
   "source": [
    "%%timeit\n",
    "pythagoras2(1000)"
   ]
  },
  {
   "cell_type": "code",
   "execution_count": 21,
   "metadata": {},
   "outputs": [
    {
     "name": "stdout",
     "output_type": "stream",
     "text": [
      "74 ms ± 4.34 ms per loop (mean ± std. dev. of 7 runs, 10 loops each)\n"
     ]
    }
   ],
   "source": [
    "%%timeit\n",
    "pythagoras3(1000)"
   ]
  },
  {
   "cell_type": "code",
   "execution_count": 22,
   "metadata": {},
   "outputs": [
    {
     "name": "stdout",
     "output_type": "stream",
     "text": [
      "283 µs ± 25.6 µs per loop (mean ± std. dev. of 7 runs, 1000 loops each)\n"
     ]
    }
   ],
   "source": [
    "%%timeit\n",
    "pythagoras4(1000)"
   ]
  },
  {
   "cell_type": "code",
   "execution_count": 23,
   "metadata": {},
   "outputs": [
    {
     "name": "stdout",
     "output_type": "stream",
     "text": [
      "73.1 µs ± 3.57 µs per loop (mean ± std. dev. of 7 runs, 10000 loops each)\n"
     ]
    }
   ],
   "source": [
    "%%timeit\n",
    "pythagoras5(1000)"
   ]
  },
  {
   "cell_type": "code",
   "execution_count": null,
   "metadata": {},
   "outputs": [],
   "source": []
  }
 ],
 "metadata": {
  "@webio": {
   "lastCommId": null,
   "lastKernelId": null
  },
  "kernelspec": {
   "display_name": "Python 3",
   "language": "python",
   "name": "python3"
  },
  "language_info": {
   "codemirror_mode": {
    "name": "ipython",
    "version": 3
   },
   "file_extension": ".py",
   "mimetype": "text/x-python",
   "name": "python",
   "nbconvert_exporter": "python",
   "pygments_lexer": "ipython3",
   "version": "3.8.5"
  }
 },
 "nbformat": 4,
 "nbformat_minor": 4
}
