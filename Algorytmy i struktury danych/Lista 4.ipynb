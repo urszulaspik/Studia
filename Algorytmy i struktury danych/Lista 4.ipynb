{
 "cells": [
  {
   "cell_type": "markdown",
   "metadata": {},
   "source": [
    "# Lista 4"
   ]
  },
  {
   "cell_type": "markdown",
   "metadata": {},
   "source": [
    "### Algorytmy i struktury danych"
   ]
  },
  {
   "cell_type": "markdown",
   "metadata": {},
   "source": [
    "#### Urszula Spik i Natalia Jelito"
   ]
  },
  {
   "cell_type": "code",
   "execution_count": 42,
   "metadata": {},
   "outputs": [],
   "source": [
    "import numpy as np\n",
    "import matplotlib.pyplot as plt\n",
    "import random\n",
    "import time"
   ]
  },
  {
   "cell_type": "markdown",
   "metadata": {},
   "source": [
    "### <span style=\"color:Crimson\"> Zadanie 1 </span>"
   ]
  },
  {
   "cell_type": "markdown",
   "metadata": {},
   "source": [
    "* koniec kolejki znajduje się na początku listy"
   ]
  },
  {
   "cell_type": "code",
   "execution_count": 43,
   "metadata": {},
   "outputs": [],
   "source": [
    "class QueueBegin:\n",
    "    \"\"\"\n",
    "    Class with queue where the end of the queue\n",
    "    is at the top of the list\n",
    "    \"\"\"\n",
    "    def __init__(self):\n",
    "        \"\"\"\n",
    "        Create queue\n",
    "        \"\"\"\n",
    "        self.items = []\n",
    "\n",
    "    def isEmpty(self):\n",
    "        \"\"\"\n",
    "        Check if queue is empty\n",
    "\n",
    "        Returns:\n",
    "            (bool): True if stack is empty, otherwise False\n",
    "        \"\"\"\n",
    "        return not self.items\n",
    "\n",
    "    def enqueue(self, item):\n",
    "        \"\"\"\n",
    "        Add item to the end of the queue\n",
    "\n",
    "        Args:\n",
    "            item: item to add\n",
    "        \"\"\"\n",
    "        self.items.insert(0, item)\n",
    "\n",
    "    def dequeue(self):\n",
    "        \"\"\"\n",
    "        Delate the item that came first \n",
    "\n",
    "        Returns:\n",
    "            Delated item\n",
    "        \"\"\"\n",
    "        return self.items.pop()\n",
    "\n",
    "    def size(self):\n",
    "        \"\"\"\n",
    "        Check size of queue\n",
    "\n",
    "        Returns:\n",
    "            (int): number of item in queue\n",
    "        \"\"\"\n",
    "        return len(self.items)\n",
    "\n",
    "    def __str__(self):\n",
    "        \"\"\"\n",
    "        Show queue in str form\n",
    "\n",
    "        Returns:\n",
    "            (str): str form of queue\n",
    "        \"\"\"\n",
    "        return str(self.items)\n"
   ]
  },
  {
   "cell_type": "markdown",
   "metadata": {},
   "source": [
    "* koniec kolejki znajduje się na końcu listy"
   ]
  },
  {
   "cell_type": "code",
   "execution_count": 44,
   "metadata": {},
   "outputs": [],
   "source": [
    "class QueueEnd:\n",
    "    \"\"\"\n",
    "    Class with queue where the end \n",
    "    of the queue is at the end of the list\n",
    "    \"\"\"\n",
    "    def __init__(self):\n",
    "        \"\"\"\n",
    "        Create queue\n",
    "        \"\"\"\n",
    "        self.items = []\n",
    "\n",
    "    def isEmpty(self):\n",
    "        \"\"\"\n",
    "        Check if queue is empty\n",
    "        \n",
    "        Returns:\n",
    "            (bool): True if stack is empty, otherwise False\n",
    "        \"\"\"\n",
    "        return not self.items\n",
    "\n",
    "    def enqueue(self, item):\n",
    "        \"\"\"\n",
    "        Add item to the end of the queue\n",
    "\n",
    "        Args:\n",
    "            item: item to add\n",
    "        \"\"\"\n",
    "        self.items.append(item)\n",
    "\n",
    "    def dequeue(self):\n",
    "        \"\"\"\n",
    "        Delate the item that came first\n",
    "\n",
    "        Returns:\n",
    "            Delated item\n",
    "        \"\"\"\n",
    "        return self.items.pop(0)\n",
    "\n",
    "    def size(self):\n",
    "        \"\"\"\n",
    "        Check size of queue\n",
    "\n",
    "        Returns:\n",
    "            (int): number of item in queue\n",
    "        \"\"\"\n",
    "        return len(self.items)\n",
    "\n",
    "    def __str__(self):\n",
    "        \"\"\"\n",
    "        Show queue in str form\n",
    "\n",
    "        Returns:\n",
    "            (str): str form of queue\n",
    "        \"\"\"\n",
    "        return str(self.items)"
   ]
  },
  {
   "cell_type": "markdown",
   "metadata": {},
   "source": [
    "* Przykład, gdzie koniec kolejki znajduje się na początku listy."
   ]
  },
  {
   "cell_type": "code",
   "execution_count": 45,
   "metadata": {},
   "outputs": [],
   "source": [
    "q_begin=QueueBegin()\n",
    "q_begin.enqueue(\"jeden\")\n",
    "q_begin.enqueue(\"2\")"
   ]
  },
  {
   "cell_type": "code",
   "execution_count": 46,
   "metadata": {},
   "outputs": [
    {
     "data": {
      "text/plain": [
       "2"
      ]
     },
     "execution_count": 46,
     "metadata": {},
     "output_type": "execute_result"
    }
   ],
   "source": [
    "q_begin.size()"
   ]
  },
  {
   "cell_type": "code",
   "execution_count": 47,
   "metadata": {},
   "outputs": [
    {
     "name": "stdout",
     "output_type": "stream",
     "text": [
      "['2', 'jeden']\n"
     ]
    }
   ],
   "source": [
    "print(q_begin)"
   ]
  },
  {
   "cell_type": "code",
   "execution_count": 48,
   "metadata": {},
   "outputs": [
    {
     "data": {
      "text/plain": [
       "False"
      ]
     },
     "execution_count": 48,
     "metadata": {},
     "output_type": "execute_result"
    }
   ],
   "source": [
    "q_begin.isEmpty()"
   ]
  },
  {
   "cell_type": "code",
   "execution_count": 49,
   "metadata": {},
   "outputs": [
    {
     "data": {
      "text/plain": [
       "'jeden'"
      ]
     },
     "execution_count": 49,
     "metadata": {},
     "output_type": "execute_result"
    }
   ],
   "source": [
    "q_begin.dequeue()"
   ]
  },
  {
   "cell_type": "code",
   "execution_count": 50,
   "metadata": {},
   "outputs": [
    {
     "name": "stdout",
     "output_type": "stream",
     "text": [
      "['2']\n"
     ]
    }
   ],
   "source": [
    "print(q_begin)"
   ]
  },
  {
   "cell_type": "markdown",
   "metadata": {},
   "source": [
    "Działa :)"
   ]
  },
  {
   "cell_type": "markdown",
   "metadata": {},
   "source": [
    "* Przykład kolejki, gdzie koniec jest na końcu listy."
   ]
  },
  {
   "cell_type": "code",
   "execution_count": 32,
   "metadata": {},
   "outputs": [],
   "source": [
    "q_end=QueueEnd()\n",
    "q_end.enqueue(\"1\")\n",
    "q_end.enqueue(\"dwa\")"
   ]
  },
  {
   "cell_type": "code",
   "execution_count": 33,
   "metadata": {},
   "outputs": [
    {
     "data": {
      "text/plain": [
       "2"
      ]
     },
     "execution_count": 33,
     "metadata": {},
     "output_type": "execute_result"
    }
   ],
   "source": [
    "q_end.size()"
   ]
  },
  {
   "cell_type": "code",
   "execution_count": 34,
   "metadata": {
    "scrolled": true
   },
   "outputs": [
    {
     "name": "stdout",
     "output_type": "stream",
     "text": [
      "['1', 'dwa']\n"
     ]
    }
   ],
   "source": [
    "print(q_end)"
   ]
  },
  {
   "cell_type": "code",
   "execution_count": 35,
   "metadata": {},
   "outputs": [
    {
     "data": {
      "text/plain": [
       "False"
      ]
     },
     "execution_count": 35,
     "metadata": {},
     "output_type": "execute_result"
    }
   ],
   "source": [
    "q_end.isEmpty()"
   ]
  },
  {
   "cell_type": "code",
   "execution_count": 36,
   "metadata": {},
   "outputs": [
    {
     "data": {
      "text/plain": [
       "'1'"
      ]
     },
     "execution_count": 36,
     "metadata": {},
     "output_type": "execute_result"
    }
   ],
   "source": [
    "q_end.dequeue()"
   ]
  },
  {
   "cell_type": "code",
   "execution_count": 37,
   "metadata": {},
   "outputs": [
    {
     "name": "stdout",
     "output_type": "stream",
     "text": [
      "['dwa']\n"
     ]
    }
   ],
   "source": [
    "print(q_end)"
   ]
  },
  {
   "cell_type": "markdown",
   "metadata": {},
   "source": [
    "Również działa :)"
   ]
  },
  {
   "cell_type": "markdown",
   "metadata": {},
   "source": [
    "### <span style=\"color:Crimson\"> Zadanie 2</span>"
   ]
  },
  {
   "cell_type": "markdown",
   "metadata": {},
   "source": [
    "Sprawdzamy wydajność dodając do kolejki n elementów, a następnie usuwając je."
   ]
  },
  {
   "cell_type": "code",
   "execution_count": 51,
   "metadata": {},
   "outputs": [],
   "source": [
    "n=10000\n",
    "l=QueueBegin()\n",
    "q=QueueEnd()"
   ]
  },
  {
   "cell_type": "markdown",
   "metadata": {},
   "source": [
    "<span style=\"color:pink\"> Kolejka z końcem na początku </span>"
   ]
  },
  {
   "cell_type": "code",
   "execution_count": 52,
   "metadata": {},
   "outputs": [
    {
     "name": "stdout",
     "output_type": "stream",
     "text": [
      "75.9 ms ± 2.87 ms per loop (mean ± std. dev. of 7 runs, 10 loops each)\n"
     ]
    }
   ],
   "source": [
    "%%timeit\n",
    "for i in range(n):\n",
    "    l.enqueue(random.randint(0,1000000))\n",
    "for i in range(n):\n",
    "    l.dequeue()\n",
    "        "
   ]
  },
  {
   "cell_type": "markdown",
   "metadata": {},
   "source": [
    "<span style=\"color:pink\"> Kolejka z końcem na końcu </span>"
   ]
  },
  {
   "cell_type": "code",
   "execution_count": 53,
   "metadata": {},
   "outputs": [
    {
     "name": "stdout",
     "output_type": "stream",
     "text": [
      "52.2 ms ± 3.23 ms per loop (mean ± std. dev. of 7 runs, 10 loops each)\n"
     ]
    }
   ],
   "source": [
    "%%timeit\n",
    "for i in range(n):\n",
    "    q.enqueue(random.randint(0,1000000))\n",
    "for i in range(n):\n",
    "    q.dequeue()"
   ]
  },
  {
   "cell_type": "markdown",
   "metadata": {},
   "source": [
    "Po zmierzeniu czasu można zauważyć, że druga wersja kolejki (**koniec jest na końcu**) jest szybsza."
   ]
  },
  {
   "cell_type": "markdown",
   "metadata": {},
   "source": [
    "Porównajmy teraz dane dotyczące kolejek za pomocą wykresów"
   ]
  },
  {
   "cell_type": "code",
   "execution_count": 54,
   "metadata": {},
   "outputs": [
    {
     "data": {
      "image/png": "[encoded data removed]",
      "text/plain": [
       "<Figure size 864x360 with 3 Axes>"
      ]
     },
     "metadata": {
      "needs_background": "light"
     },
     "output_type": "display_data"
    }
   ],
   "source": [
    "def time_adding(kind, elements = 10000, loops = 100):\n",
    "    \"\"\"\n",
    "    Add number of element to queue,\n",
    "    and count avarage time of this action\n",
    "    \n",
    "    Args:\n",
    "        kind: kind of queue, \n",
    "        it can be QueueBegin or QueueEnd\n",
    "        elements(int): number of element\n",
    "        to add to queue\n",
    "        loops(int): number of loops to count mean\n",
    "    \n",
    "    Returns:\n",
    "        time of adding             \n",
    "    \"\"\"\n",
    "    time_list = []\n",
    "    for a in range(loops):\n",
    "        queue = kind()\n",
    "        start = time.time() \n",
    "        for i in range(elements):\n",
    "            queue.enqueue(i)\n",
    "        end = time.time() \n",
    "        times=end - start\n",
    "        time_list.append(times)\n",
    "    times = sum(time_list)/ loops\n",
    "    return times\n",
    "\n",
    "def time_delating(kind, elements = 10000, loops = 100):\n",
    "    \"\"\"\n",
    "    Delate number of element form queue,\n",
    "    and count avarage time of this action\n",
    "    \n",
    "    Args:\n",
    "        kind: kind of queue, \n",
    "        it can be QueueBegin or QueueEnd\n",
    "        elements(int): number of element\n",
    "        to delate from\n",
    "        loops(int): number of loops to count mean\n",
    "    \n",
    "    Returns:\n",
    "        time of delating            \n",
    "    \"\"\"\n",
    "\n",
    "    time_list = []\n",
    "    for a in range(loops):\n",
    "        queue = kind()\n",
    "        for i in range(elements):\n",
    "            queue.enqueue(i)\n",
    "        start = time.time()\n",
    "        for i in range(elements):\n",
    "            queue.dequeue()\n",
    "        end = time.time()\n",
    "        times = end - start\n",
    "        time_list.append(times)\n",
    "    times = sum(time_list)/ loops\n",
    "    return times\n",
    "\n",
    "def time_delating_and_adding(kind, elements = 10000, loops = 100):\n",
    "    \"\"\"\n",
    "    Add and delate number of element form queue,\n",
    "    and count avarage time of this action\n",
    "    \n",
    "    Args:\n",
    "        kind: kind of queue, \n",
    "        it can be QueueBegin or QueueEnd\n",
    "        elements(int): number of element\n",
    "        to add and delate from queue\n",
    "        loops(int): number of loops to count mean\n",
    "    \n",
    "    Returns:\n",
    "        time of adding and delating            \n",
    "    \"\"\"\n",
    "    time_list = []\n",
    "    for a in range(loops):\n",
    "        start = time.time()\n",
    "        queue = kind()\n",
    "        for i in range(elements):\n",
    "            queue.enqueue(i)\n",
    "        for i in range(elements):\n",
    "            queue.dequeue()\n",
    "        end = time.time()\n",
    "        times = end - start\n",
    "        time_list.append(times)\n",
    "    times = sum(time_list)/ loops\n",
    "    return times\n",
    "\n",
    "numbers = [0, 1000 ,2000, 3500, 4500, 6000, 7500, 10000]\n",
    "fig  = plt.subplots(figsize=(12, 5))\n",
    "\n",
    "ax1 = plt.subplot(221)\n",
    "ax1.plot(numbers, [time_adding(QueueBegin, n) for n in numbers], color='magenta', label = \"QueueBegin\" , marker = '.', linestyle = '--' )\n",
    "ax1.plot(numbers, [time_adding(QueueEnd, n) for n in numbers], color=\"lawngreen\", label = \"QueueEnd\" , marker = '.', linestyle = '--')\n",
    "ax1.set_title(\"Adding to queue \")\n",
    "ax1.legend()\n",
    "ax1.set_xlabel(\"elements\")\n",
    "ax1.set_ylabel(\"time\")\n",
    "\n",
    "ax2 = plt.subplot(223)\n",
    "ax2.plot(numbers, [time_delating(QueueBegin, n) for n in numbers], color='magenta', label = \"QueueBegin\" , marker = '.', linestyle = '--' )\n",
    "ax2.plot(numbers, [time_delating(QueueEnd, n) for n in numbers], color=\"lawngreen\", label = \"QueueEnd\" , marker = '.', linestyle = '--')\n",
    "ax2.set_title(\"Delating from queue\")\n",
    "ax2.legend()\n",
    "ax2.set_xlabel(\"elements\")\n",
    "ax2.set_ylabel(\"time\")\n",
    "\n",
    "ax3 = plt.subplot(122)\n",
    "ax3.plot(numbers, [time_delating_and_adding(QueueBegin, n) for n in numbers], color='magenta', label = \"QueueBegin\" , marker = '.', linestyle = '--' )\n",
    "ax3.plot(numbers, [time_delating_and_adding(QueueEnd, n) for n in numbers], color=\"lawngreen\", label = \"QueueEnd\" , marker = '.', linestyle = '--')\n",
    "ax3.set_title(\"Adding and delating from queue\")\n",
    "ax3.legend()\n",
    "ax3.set_xlabel(\"elements\")\n",
    "ax3.set_ylabel(\"time\")\n",
    "\n",
    "plt.tight_layout()\n",
    "plt.show()"
   ]
  },
  {
   "cell_type": "markdown",
   "metadata": {},
   "source": [
    "W ten sposób można wysnuć trzy wnioski:\n",
    "   * kolejka z końcem na początku jest szybsza w dodawaniu\n",
    "   * kolejka z końcem na końcu jest szybsza w usuwaniu\n",
    "   * w zestawieniu zarówno dodania jak i usuwania lepsza jest **kolejka z końcem na końcu**"
   ]
  },
  {
   "cell_type": "markdown",
   "metadata": {},
   "source": [
    "Zatem docelowo wygrywa kolejka z końcem na końcu"
   ]
  },
  {
   "cell_type": "markdown",
   "metadata": {},
   "source": [
    "### <span style=\"color:Crimson\"> Zadanie 3 </span>"
   ]
  },
  {
   "cell_type": "markdown",
   "metadata": {},
   "source": [
    "Kolejka do kas\n",
    "\n",
    "Założenia:\n",
    "* wszyscy mają tyle samo zakupów i spędzają tyle samo czasu przy kasie\n",
    "* osoby pracujące przy kasie są tak samo \"szybkie\"\n",
    "* wszyscy idą tak samo szybko do kasy\n",
    "* gdy mamy więcej kas ludzie ustawiają się do nich w sposób losowy\n"
   ]
  },
  {
   "cell_type": "markdown",
   "metadata": {},
   "source": [
    "Pytanie:\n",
    "Co będzie lepsze - jedna kolejka do wszystkich kas, czy osobne kolejki do każdej z kas"
   ]
  },
  {
   "cell_type": "markdown",
   "metadata": {},
   "source": [
    "* jedna kolejka"
   ]
  },
  {
   "cell_type": "code",
   "execution_count": 315,
   "metadata": {},
   "outputs": [],
   "source": [
    "def onequeue(people, queues):\n",
    "    \"\"\"\n",
    "    One queue to all cash\n",
    "    People has only one thing to buy\n",
    "    \n",
    "    Args:\n",
    "        people(int): number of people\n",
    "        queues(int): number of queues\n",
    "    \n",
    "    Returns:\n",
    "        (int): time to end queues\n",
    "    \"\"\"\n",
    "    time = 0\n",
    "    queue = QueueEnd()\n",
    "    for i in range(people):\n",
    "        queue.enqueue(1)\n",
    "    while not queue.isEmpty():\n",
    "        time +=1\n",
    "        for i in range(queues):\n",
    "            if not queue.isEmpty():\n",
    "                queue.dequeue()\n",
    "    return time"
   ]
  },
  {
   "cell_type": "code",
   "execution_count": 316,
   "metadata": {},
   "outputs": [
    {
     "data": {
      "text/plain": [
       "67"
      ]
     },
     "execution_count": 316,
     "metadata": {},
     "output_type": "execute_result"
    }
   ],
   "source": [
    "onequeue(200, 3)"
   ]
  },
  {
   "cell_type": "markdown",
   "metadata": {},
   "source": [
    "* więcej kolejek"
   ]
  },
  {
   "cell_type": "code",
   "execution_count": 318,
   "metadata": {},
   "outputs": [],
   "source": [
    "def morequeue(people, queues):\n",
    "    \"\"\"\n",
    "    More queues to cash\n",
    "    People has only one thing to buy\n",
    "    People go to cash in random way\n",
    "    \n",
    "    Args:\n",
    "        people(int): number of people\n",
    "        queues(int): number of queues\n",
    "    \n",
    "    Returns:\n",
    "        (int): time to end queues\n",
    "    \"\"\"\n",
    "    time = 0\n",
    "    allqueue = []\n",
    "    for i in range(queues):\n",
    "        allqueue.append(QueueEnd())\n",
    "    for i in range(people):\n",
    "        myqueue = random.choice(allqueue)\n",
    "        myqueue.enqueue(1)\n",
    "    while allqueue != []:\n",
    "        time += 1\n",
    "        for i in allqueue:\n",
    "            if not i.isEmpty():\n",
    "                i.dequeue()\n",
    "            else:\n",
    "                allqueue.remove(i)\n",
    "    return time"
   ]
  },
  {
   "cell_type": "code",
   "execution_count": 319,
   "metadata": {},
   "outputs": [
    {
     "data": {
      "text/plain": [
       "72"
      ]
     },
     "execution_count": 319,
     "metadata": {},
     "output_type": "execute_result"
    }
   ],
   "source": [
    "morequeue(200, 3)"
   ]
  },
  {
   "cell_type": "markdown",
   "metadata": {},
   "source": [
    "Skuteczność kolejki określamy na podstawie, czy jest ona conajmniej tak samo szybka jak druga wersja"
   ]
  },
  {
   "cell_type": "code",
   "execution_count": 321,
   "metadata": {},
   "outputs": [
    {
     "name": "stdout",
     "output_type": "stream",
     "text": [
      "Jedna kolejka jest lepsza: 100.0%\n",
      "Wiele kolejek jest lepszych: 0.0%\n"
     ]
    }
   ],
   "source": [
    "result1 = []\n",
    "result2 = []\n",
    "max_people = 1000\n",
    "max_cash = 15\n",
    "for i in range(1000):\n",
    "    people = random.randint(1, max_people)\n",
    "    cash = random.randint(2, max_cash)\n",
    "    queue1 = onequeue(people, cash)\n",
    "    queue2 = morequeue(people, cash)\n",
    "    result1.append(queue1 <= queue2)\n",
    "    result2.append(queue1 >= queue2)\n",
    "print(f'Jedna kolejka jest lepsza: {sum(result1)/len(result1)*100}%')\n",
    "print(f'Wiele kolejek jest lepszych: {sum(result2)/len(result2)*100}%')"
   ]
  },
  {
   "cell_type": "markdown",
   "metadata": {},
   "source": [
    "W tym wypadku zdecydowanie lepsza jest jedna kasa"
   ]
  },
  {
   "cell_type": "markdown",
   "metadata": {},
   "source": [
    "<strong>Wersja druga - przydzielmy ludziom zakupy</strong>"
   ]
  },
  {
   "cell_type": "markdown",
   "metadata": {},
   "source": [
    "* liczba posiadanych zakupów wynosi od 1 do 10\n",
    "* przy jednym przejściu przez pętle znika jeden z zakupów z każdej z kas\n",
    "* przy większej ilości kas ludzie wybierają tą w której jest najmniej rzeczy"
   ]
  },
  {
   "cell_type": "code",
   "execution_count": 322,
   "metadata": {},
   "outputs": [],
   "source": [
    "def mypeople(number, things=10):\n",
    "    \"\"\"\n",
    "    Create two queues of people\n",
    "    with number of things\n",
    "    \n",
    "    Args:\n",
    "        number(int): number of people\n",
    "        things(int): number of things\n",
    "    \n",
    "    Returns:\n",
    "        (tuple): two queues\n",
    "    \"\"\"\n",
    "    people1 = QueueEnd()\n",
    "    people2 = QueueEnd()\n",
    "    for i in range(number):\n",
    "        rand = random.randint(1, things)\n",
    "        people1.enqueue(rand)\n",
    "        people2.enqueue(rand)\n",
    "    return (people1, people2)"
   ]
  },
  {
   "cell_type": "code",
   "execution_count": 323,
   "metadata": {},
   "outputs": [],
   "source": [
    "def onequeue_2(people, cash):\n",
    "    \"\"\"\n",
    "    One queue to all cash\n",
    "    People has more than one thing to buy\n",
    "    \n",
    "    Args:\n",
    "        people(queue_fifo): queue of people\n",
    "        cash(int): number of cash\n",
    "    \n",
    "    Returns:\n",
    "        (int): time to end queues\n",
    "    \"\"\"\n",
    "    allcash = []\n",
    "    time = 0\n",
    "    for i in range(cash):\n",
    "        allcash.append(QueueEnd())\n",
    "    while not people.isEmpty():\n",
    "        time +=1\n",
    "        for cash in allcash:\n",
    "            if cash.isEmpty():\n",
    "                if people.isEmpty():\n",
    "                    break\n",
    "                first = people.dequeue()\n",
    "                for i in range(first):\n",
    "                    cash.enqueue(1)\n",
    "            if not cash.isEmpty():\n",
    "                    cash.dequeue()\n",
    "    while allcash != []:\n",
    "        time +=1\n",
    "        for cash in allcash:\n",
    "            if not cash.isEmpty():\n",
    "                cash.dequeue()\n",
    "            if cash.isEmpty():\n",
    "                allcash.remove(cash)\n",
    "    return time\n",
    "    "
   ]
  },
  {
   "cell_type": "code",
   "execution_count": 325,
   "metadata": {},
   "outputs": [],
   "source": [
    "def morequeue_2(people, cash):\n",
    "    \"\"\"\n",
    "    More queues to cash\n",
    "    People has more one thing to buy\n",
    "    People go to the cash where people\n",
    "    has least things.\n",
    "    \n",
    "    Args:\n",
    "        people(queue_fifo): queue of people\n",
    "        cash(int): number of cash\n",
    "    \n",
    "    Returns:\n",
    "        (int): time to end queues\n",
    "    \"\"\"\n",
    "    allcash = []\n",
    "    time = 0\n",
    "    for i in range(cash):\n",
    "        allcash.append(QueueEnd())\n",
    "    while not people.isEmpty():\n",
    "        size = []\n",
    "        for cash in allcash:\n",
    "            size.append(cash.size())\n",
    "        first = people.dequeue()\n",
    "        for things in range(first):\n",
    "            allcash[size.index(min(size))].enqueue(1)\n",
    "    while allcash != []:\n",
    "        time +=1\n",
    "        for cash in allcash:\n",
    "            if not cash.isEmpty():\n",
    "                cash.dequeue()\n",
    "            if cash.isEmpty():\n",
    "                allcash.remove(cash)\n",
    "    return time"
   ]
  },
  {
   "cell_type": "code",
   "execution_count": 327,
   "metadata": {},
   "outputs": [
    {
     "name": "stdout",
     "output_type": "stream",
     "text": [
      "Jedna kolejka jest lepsza: 86.4%\n",
      "Wiele kolejek jest lepszych: 95.6%\n",
      "Średnia różnica: 0.194\n"
     ]
    }
   ],
   "source": [
    "result1 = []\n",
    "result2 = []\n",
    "diff = []\n",
    "max_people = 1000\n",
    "max_cash = 15\n",
    "for i in range(1000):\n",
    "    people = mypeople(max_people)\n",
    "    cash = random.randint(2, max_cash)\n",
    "    queue1 = onequeue_2(people[0], cash)\n",
    "    queue2 = morequeue_2(people[1], cash)\n",
    "    result1.append(queue1 <= queue2)\n",
    "    result2.append(queue1 >= queue2)\n",
    "    diff.append(abs(queue1 - queue2))\n",
    "print(f'Jedna kolejka jest lepsza: {sum(result1)/len(result1)*100}%')\n",
    "print(f'Wiele kolejek jest lepszych: {sum(result2)/len(result2)*100}%')\n",
    "print(f'Średnia różnica: {sum(diff)/len(diff)}')"
   ]
  },
  {
   "cell_type": "markdown",
   "metadata": {},
   "source": [
    "Gdyby klienci ustawiali się dokładnie tam gdzie jest najmniej produktów wtedy szybsza byłaby wersjaz **wieloma kasami** (chociaż niewiele), jednak ciężko by ludzkie oko było aż tak dokładne w ocenie ilości produktów."
   ]
  },
  {
   "cell_type": "markdown",
   "metadata": {},
   "source": [
    "Przymijmy więc, że ludzie trafiają w poprawną kolejkę z prawdopodobieństwem 80%"
   ]
  },
  {
   "cell_type": "code",
   "execution_count": 328,
   "metadata": {},
   "outputs": [],
   "source": [
    "def morequeue_3(people, cash, p = 0.8):\n",
    "    \"\"\"\n",
    "    More queues to cash\n",
    "    People has more one thing to buy\n",
    "    People go to the cash where people\n",
    "    has least things.\n",
    "    \n",
    "    Args:\n",
    "        people(queue_fifo): queue of people\n",
    "        cash(int): number of cash\n",
    "    \n",
    "    Returns:\n",
    "        (int): time to end queues\n",
    "    \"\"\"\n",
    "    allcash = []\n",
    "    time = 0\n",
    "    for i in range(cash):\n",
    "        allcash.append(QueueEnd())\n",
    "    while not people.isEmpty():\n",
    "        size = []\n",
    "        for cash in allcash:\n",
    "            size.append(cash.size())\n",
    "        first = people.dequeue()\n",
    "        result = random.choices([True, False], weights=(p, 1 - p))[0]\n",
    "        if result or len(allcash) == 1:\n",
    "            for things in range(first):\n",
    "                allcash[size.index(min(size))].enqueue(1)\n",
    "        else:\n",
    "            queues = [i for i in allcash if i != allcash[size.index(min(size))]]\n",
    "            newcash = random.choice(queues)\n",
    "            for things in range(first):\n",
    "                newcash.enqueue(1)\n",
    "    while allcash != []:\n",
    "        time +=1\n",
    "        for cash in allcash:\n",
    "            if not cash.isEmpty():\n",
    "                cash.dequeue()\n",
    "            if cash.isEmpty():\n",
    "                allcash.remove(cash)\n",
    "    return time"
   ]
  },
  {
   "cell_type": "code",
   "execution_count": 329,
   "metadata": {},
   "outputs": [
    {
     "name": "stdout",
     "output_type": "stream",
     "text": [
      "Jedna kolejka jest lepsza: 79.9%\n",
      "Wiele kolejek jest lepszych: 46.400000000000006%\n",
      "Średnia różnica: 2.32\n"
     ]
    }
   ],
   "source": [
    "result1 = []\n",
    "result2 = []\n",
    "diff = []\n",
    "max_people = 1000\n",
    "max_cash = 15\n",
    "for i in range(1000):\n",
    "    people = mypeople(max_people)\n",
    "    cash = random.randint(1, max_cash)\n",
    "    queue1 = onequeue_2(people[0], cash)\n",
    "    queue2 = morequeue_3(people[1], cash)\n",
    "    result1.append(queue1 <= queue2)\n",
    "    result2.append(queue1 >= queue2)\n",
    "    diff.append(abs(queue1 - queue2))\n",
    "print(f'Jedna kolejka jest lepsza: {sum(result1)/len(result1)*100}%')\n",
    "print(f'Wiele kolejek jest lepszych: {sum(result2)/len(result2)*100}%')\n",
    "print(f'Średnia różnica: {sum(diff)/len(diff)}')"
   ]
  },
  {
   "cell_type": "markdown",
   "metadata": {},
   "source": [
    "Tu widać, że gdyby trafiali poprawnie już aż z 80% szansą w kolejkę z najmniejszą ilością zakupów to skuteczność wielu kas w porównaniu z jedną kasą by widocznie spadła, dlatego warto stworzyć **jedną kolejkę do wszystkich kas**."
   ]
  },
  {
   "cell_type": "markdown",
   "metadata": {},
   "source": [
    "### <span style=\"color:Crimson\"> Zadanie 4 </span>"
   ]
  },
  {
   "cell_type": "markdown",
   "metadata": {},
   "source": [
    "Implementacja stosu (wersja z wykładu)"
   ]
  },
  {
   "cell_type": "code",
   "execution_count": 2,
   "metadata": {},
   "outputs": [],
   "source": [
    "class Stack_4:\n",
    "    def __init__(self):\n",
    "        \"\"\"\n",
    "        Create stack\n",
    "        \"\"\"\n",
    "        self.items = []\n",
    "        \n",
    "    def isEmpty(self):\n",
    "        \"\"\"\n",
    "        Check if stack is empty\n",
    "\n",
    "        Returns:\n",
    "            (bool): True if stack is empty, otherwise False\n",
    "        \"\"\"\n",
    "        return self.items == []\n",
    "    \n",
    "    def push(self, item):\n",
    "        \"\"\"\n",
    "        Add item to the end\n",
    "\n",
    "        Args:\n",
    "            item: item to add\n",
    "        \"\"\"\n",
    "        self.items.append(item)\n",
    "        \n",
    "    def pop(self):\n",
    "        \"\"\"\n",
    "        Delate last item\n",
    "\n",
    "        Returns:\n",
    "            Delated item\n",
    "        \"\"\"\n",
    "        return self.items.pop()\n",
    "    \n",
    "    def peek(self):\n",
    "        \"\"\"\n",
    "        Return last item\n",
    "        \n",
    "        Returns:\n",
    "            Last item\n",
    "        \"\"\"\n",
    "        return self.items[len(self.items)-1]\n",
    "    \n",
    "    def size(self):\n",
    "        \"\"\"\n",
    "        Check size of stack\n",
    "        \n",
    "        Returns:\n",
    "            (int): Size of stack\n",
    "        \"\"\"\n",
    "        return len(self.items)\n",
    "    \n",
    "    def __str__(self):\n",
    "        \"\"\"\n",
    "        Show str form of stack\n",
    "        \n",
    "        Returns:\n",
    "            (str): str from stack\n",
    "        \"\"\"\n",
    "        return str(self.items)"
   ]
  },
  {
   "cell_type": "markdown",
   "metadata": {},
   "source": [
    "Funkcja check_html bazuje na dwóch stosach. Pierwszy z nich (s) odpowiada za sprawdzenie czy każdy znacznik <.> ma swoje domknięcie </.>. Drugi (brackets) sprawdza czy każdy \"<\" ma odpowiadający \">\". Składnia będzie poprawna, gdy oba stosy po wykonaniu programu będą puste."
   ]
  },
  {
   "cell_type": "code",
   "execution_count": 99,
   "metadata": {},
   "outputs": [],
   "source": [
    "def ignore_comments(list):\n",
    "    \"\"\"Deletes html comments from list for further analysys\n",
    "\n",
    "    Args:\n",
    "        list (list): list of signs read from html file\n",
    "\n",
    "    Returns:\n",
    "        [list]: list of signs without comments\n",
    "    \"\"\"\n",
    "    start_com = [i for i in range(len(list)) if list[i:i+4]==[\"<\",\"!\", \"-\", \"-\"]]\n",
    "    stop_com = [i+3 for i in range(len(list)) if list[i:i+3]==[ \"-\", \"-\", \">\"]]\n",
    "    stop_com.insert(0,0)\n",
    "    start_com.append(len(list))\n",
    "    temp_list = []\n",
    "    \n",
    "    for i in range(len(start_com)):\n",
    "        temp_list += list[stop_com[i]:start_com[i]] \n",
    "    return temp_list\n",
    "\n",
    "def check_html(html_file):\n",
    "    \"\"\"Checks if every opening tag has prper closing tag and angle brackets are balanced.\n",
    "\n",
    "    Args:\n",
    "        html_file (str): name of html file\n",
    "\n",
    "    Returns:\n",
    "        (bool): True if everything is balanced, otherwise False\n",
    "    \"\"\"\n",
    "    s = Stack_4()\n",
    "    no_closure = [\"area\", \"base\", \"embed\", \"param\",\"keygen\",\"menuitem\", \"source\", \"track\", \"wbr\",\"!DOCTYPE\",\"br\",\"meta\", \"link\", \"img\",\"col\", \"command\",\"hr\",\"input\"]\n",
    "\n",
    "    with open(html_file,'r', encoding=\"utf-8\") as f:\n",
    "        t = list(f.read())\n",
    "    \n",
    "    t1= ignore_comments(t)\n",
    "    brackets = Stack_4()\n",
    "    for i in range(len(t1)):\n",
    "        if t1[i] == \"<\":\n",
    "            brackets.push(\"<\")\n",
    "            i+=1\n",
    "            content = \"\"\n",
    "            while t1[i] != \">\":\n",
    "                content += t1[i]\n",
    "                i+=1\n",
    "            content = content.split(\" \")[0]\n",
    "            if s.isEmpty() and (content not in no_closure):\n",
    "                s.push(content)\n",
    "            else:\n",
    "                if content in no_closure:\n",
    "                    pass\n",
    "                elif content == \"/\" + s.peek():\n",
    "                    s.pop()\n",
    "                else:\n",
    "                    s.push(content)\n",
    "        elif t1[i] == \">\":\n",
    "            if brackets.peek() == \"<\":\n",
    "                brackets.pop()\n",
    "    if s.isEmpty() and brackets.isEmpty() :\n",
    "        print(\"everything is ok\")\n",
    "        return True\n",
    "    elif brackets.isEmpty():\n",
    "        print(\"Tag is not closed!\")\n",
    "        return False\n",
    "    else:\n",
    "        print(\"Missing '<' or '>' sign\")\n",
    "        return False"
   ]
  },
  {
   "cell_type": "markdown",
   "metadata": {},
   "source": [
    "**Test:**"
   ]
  },
  {
   "cell_type": "code",
   "execution_count": 87,
   "metadata": {},
   "outputs": [
    {
     "name": "stdout",
     "output_type": "stream",
     "text": [
      "everything is ok\n"
     ]
    },
    {
     "data": {
      "text/plain": [
       "True"
      ]
     },
     "execution_count": 87,
     "metadata": {},
     "output_type": "execute_result"
    }
   ],
   "source": [
    "check_html(\"t1.html\")"
   ]
  },
  {
   "cell_type": "markdown",
   "metadata": {},
   "source": [
    "Działa :)\n",
    "\n",
    "Uwzględnia nawet komentarze w pliku ;)"
   ]
  },
  {
   "cell_type": "markdown",
   "metadata": {},
   "source": [
    "### <span style=\"color:Crimson\"> Zadanie 5</span>"
   ]
  },
  {
   "cell_type": "markdown",
   "metadata": {},
   "source": [
    "Dodaj brakujace metody do klasy UnorderedList prezentowanej na\n",
    "wykładzie."
   ]
  },
  {
   "cell_type": "code",
   "execution_count": 251,
   "metadata": {},
   "outputs": [],
   "source": [
    "class Node:\n",
    "    def __init__(self,initdata):\n",
    "        \"\"\"\n",
    "        Create Node\n",
    "        \n",
    "        Args:\n",
    "            initdata: Node data\n",
    "        \"\"\"\n",
    "        self.data = initdata\n",
    "        self.next = None\n",
    "\n",
    "    def getData(self):\n",
    "        \"\"\"\n",
    "        Give value of our data\n",
    "        \"\"\"\n",
    "        return self.data\n",
    "\n",
    "    def getNext(self):\n",
    "        \"\"\"\n",
    "        Give value of next data\n",
    "        \"\"\"\n",
    "        return self.next\n",
    "\n",
    "    def setData(self,newdata):\n",
    "        \"\"\"\n",
    "        Set new value of data\n",
    "\n",
    "        Args: \n",
    "            New value\n",
    "        \"\"\"\n",
    "        self.data = newdata\n",
    "\n",
    "    def setNext(self,newnext):\n",
    "        \"\"\"\n",
    "        Set new value of next data\n",
    "\n",
    "        Args: \n",
    "            New value\n",
    "        \"\"\"\n",
    "        self.next = newnext\n",
    "        \n",
    "class UnorderedList:\n",
    "\n",
    "    def __init__(self):\n",
    "        \"\"\"\n",
    "        Create list\n",
    "        \"\"\"\n",
    "        self.head = None\n",
    "\n",
    "    def isEmpty(self):\n",
    "        \"\"\"\n",
    "        Check if list is empty\n",
    "\n",
    "        Returns:\n",
    "            (bool): True - is empty\n",
    "        \"\"\"\n",
    "        return self.head == None\n",
    "\n",
    "    def add(self,item):\n",
    "        \"\"\"\n",
    "        Add element to the begining of the list\n",
    "        \"\"\"\n",
    "        temp = Node(item)\n",
    "        temp.setNext(self.head)\n",
    "        self.head = temp\n",
    "\n",
    "    def size(self):\n",
    "        \"\"\"\n",
    "        Check size of list\n",
    "\n",
    "        Returns:\n",
    "            (int): size of list\n",
    "        \"\"\"\n",
    "        current = self.head\n",
    "        count = 0\n",
    "        while current != None:\n",
    "            count = count + 1\n",
    "            current = current.getNext()\n",
    "\n",
    "        return count\n",
    "\n",
    "    def search(self,item):\n",
    "        \"\"\"\n",
    "        Check if item is on the list\n",
    "\n",
    "        Args:\n",
    "            item: item to check\n",
    "\n",
    "        Returns:\n",
    "            (bool): True - found\n",
    "        \"\"\"\n",
    "        current = self.head\n",
    "        found = False\n",
    "        while current != None and not found:\n",
    "            if current.getData() == item:\n",
    "                found = True\n",
    "            else:\n",
    "                current = current.getNext()\n",
    "\n",
    "        return found\n",
    "\n",
    "    def remove(self,item):\n",
    "        \"\"\"\n",
    "        Remove item form the list\n",
    "\n",
    "        Args:\n",
    "            item: item to remove\n",
    "        \"\"\"\n",
    "        current = self.head\n",
    "        previous = None\n",
    "        found = False\n",
    "        while not found:\n",
    "            if current.getData() == item:\n",
    "                found = True\n",
    "            else:\n",
    "                previous = current\n",
    "                current = current.getNext()\n",
    "\n",
    "        if previous == None:                  \n",
    "            self.head = current.getNext()\n",
    "        else:\n",
    "            previous.setNext(current.getNext())\n",
    "\n",
    "    def append(self, item):\n",
    "        \"\"\"\n",
    "        Add element to the end of the list\n",
    "        \"\"\"\n",
    "        current = self.head\n",
    "        temp = Node(item)\n",
    "\n",
    "        if self.isEmpty():\n",
    "            self.add(item)\n",
    "        else:\n",
    "            while current.getNext() != None:\n",
    "                current = current.getNext()\n",
    "            current.setNext(temp)\n",
    "            \n",
    "    def index(self, item):\n",
    "        \"\"\"\n",
    "        Find index of first found item\n",
    "        \n",
    "        Args:\n",
    "            item: item with index to find\n",
    "        \n",
    "        Returns:\n",
    "            (int): index of item, if item\n",
    "            is not in list - return None\n",
    "        \"\"\"\n",
    "        current = self.head\n",
    "        index = 0\n",
    "\n",
    "        while current != None:\n",
    "            if current.getData() == item:\n",
    "                return index\n",
    "            else:\n",
    "                index += 1\n",
    "                current = current.getNext()\n",
    "        raise ValueError(\"Element is not in list!\")\n",
    "\n",
    "    def insert(self, pos, item):\n",
    "        \"\"\"\n",
    "        Put item to certain position\n",
    "        \n",
    "        Args:\n",
    "            pos(int): position\n",
    "            item: element to put\n",
    "        \"\"\"\n",
    "        current = self.head\n",
    "        temp = Node(item)\n",
    "        index = 0\n",
    "        previous = None\n",
    "        size = self.size()\n",
    "\n",
    "        if pos > size or pos < -size-1:\n",
    "            raise IndexError(\"Wrong position!\")\n",
    "\n",
    "        elif pos == 0 or pos == -size-1:\n",
    "            self.add(item)\n",
    "\n",
    "        else:\n",
    "            if pos < 0:\n",
    "                pos = pos + size + 1\n",
    "\n",
    "            while index < pos:\n",
    "                previous = current\n",
    "                current = current.getNext()\n",
    "                index += 1\n",
    "\n",
    "            previous.setNext(temp)\n",
    "            temp.setNext(current)\n",
    "    \n",
    "    def pop(self, pos = -1):\n",
    "        \"\"\"\n",
    "        Remove item from list\n",
    "        \n",
    "        Args:\n",
    "            (int)pos: position to remove\n",
    "        \n",
    "        Returns: \n",
    "            Removed item\n",
    "        \"\"\"\n",
    "        current = self.head\n",
    "        previous = None\n",
    "        index = 0\n",
    "        size = self.size()\n",
    "\n",
    "        if self.isEmpty():\n",
    "            raise IndexError(\"Empty list, nothing to pop\")\n",
    "        elif pos >= size or pos < -size:\n",
    "            raise IndexError(\"Wrong position\")\n",
    "\n",
    "        elif size == 1:\n",
    "            self.head = None\n",
    "            return current.getData()\n",
    "        else:\n",
    "            if pos < 0:\n",
    "                pos = pos + size\n",
    "\n",
    "            while index < pos:\n",
    "                previous = current\n",
    "                current = current.getNext()\n",
    "                index += 1\n",
    "            \n",
    "            if previous is None:\n",
    "                self.head = current.getNext()\n",
    "                return current.getData()\n",
    "            else:\n",
    "                previous.setNext(current.getNext())\n",
    "                return current.getData()\n",
    "\n",
    "    def peek(self):\n",
    "        \"\"\"\n",
    "        Find last element of list\n",
    "        \n",
    "        Returns:\n",
    "            Last element of list\n",
    "        \"\"\"\n",
    "        current = self.head\n",
    "        previous = None\n",
    "\n",
    "        if self.isEmpty():\n",
    "            raise IndexError(\"Empty list!\")\n",
    "\n",
    "        while current != None:\n",
    "            previous = current\n",
    "            current = current.getNext()\n",
    "        return previous.getData()\n",
    "\n",
    "    def __str__(self):\n",
    "        \"\"\"\n",
    "        Str form of list\n",
    "        \"\"\"\n",
    "        current = self.head\n",
    "        mylist = '['\n",
    "        while current != None:\n",
    "            mylist += f'{current.getData()}, '\n",
    "            current = current.getNext()\n",
    "        if len(mylist) != 1:\n",
    "            mylist=mylist[:-2]\n",
    "        return mylist+\"]\"\n"
   ]
  },
  {
   "cell_type": "code",
   "execution_count": 274,
   "metadata": {},
   "outputs": [],
   "source": [
    "mylist = UnorderedList()"
   ]
  },
  {
   "cell_type": "markdown",
   "metadata": {},
   "source": [
    "**A teraz szybie testy**"
   ]
  },
  {
   "cell_type": "markdown",
   "metadata": {},
   "source": [
    "* Test append"
   ]
  },
  {
   "cell_type": "code",
   "execution_count": 257,
   "metadata": {},
   "outputs": [],
   "source": [
    "mylist.append(1)\n",
    "mylist.append(2)\n",
    "mylist.append(3)\n",
    "mylist.append(4)\n",
    "mylist.append(5)"
   ]
  },
  {
   "cell_type": "code",
   "execution_count": 258,
   "metadata": {
    "scrolled": true
   },
   "outputs": [
    {
     "name": "stdout",
     "output_type": "stream",
     "text": [
      "[1, 2, 3, 4, 5]\n"
     ]
    }
   ],
   "source": [
    "print(mylist)"
   ]
  },
  {
   "cell_type": "markdown",
   "metadata": {},
   "source": [
    "Jest super ;)"
   ]
  },
  {
   "cell_type": "markdown",
   "metadata": {},
   "source": [
    "* Test pop"
   ]
  },
  {
   "cell_type": "code",
   "execution_count": 259,
   "metadata": {},
   "outputs": [
    {
     "data": {
      "text/plain": [
       "1"
      ]
     },
     "execution_count": 259,
     "metadata": {},
     "output_type": "execute_result"
    }
   ],
   "source": [
    "mylist.pop(0)"
   ]
  },
  {
   "cell_type": "code",
   "execution_count": 260,
   "metadata": {},
   "outputs": [
    {
     "name": "stdout",
     "output_type": "stream",
     "text": [
      "[2, 3, 4, 5]\n"
     ]
    }
   ],
   "source": [
    "print(mylist)"
   ]
  },
  {
   "cell_type": "code",
   "execution_count": 261,
   "metadata": {},
   "outputs": [
    {
     "data": {
      "text/plain": [
       "5"
      ]
     },
     "execution_count": 261,
     "metadata": {},
     "output_type": "execute_result"
    }
   ],
   "source": [
    "mylist.pop()"
   ]
  },
  {
   "cell_type": "code",
   "execution_count": 262,
   "metadata": {},
   "outputs": [
    {
     "name": "stdout",
     "output_type": "stream",
     "text": [
      "[2, 3, 4]\n"
     ]
    }
   ],
   "source": [
    "print(mylist)"
   ]
  },
  {
   "cell_type": "code",
   "execution_count": 263,
   "metadata": {},
   "outputs": [
    {
     "data": {
      "text/plain": [
       "2"
      ]
     },
     "execution_count": 263,
     "metadata": {},
     "output_type": "execute_result"
    }
   ],
   "source": [
    "mylist.pop(-3)"
   ]
  },
  {
   "cell_type": "code",
   "execution_count": 264,
   "metadata": {},
   "outputs": [
    {
     "name": "stdout",
     "output_type": "stream",
     "text": [
      "[3, 4]\n"
     ]
    }
   ],
   "source": [
    "print(mylist)"
   ]
  },
  {
   "cell_type": "code",
   "execution_count": 265,
   "metadata": {},
   "outputs": [
    {
     "ename": "IndexError",
     "evalue": "Wrong position",
     "output_type": "error",
     "traceback": [
      "\u001b[1;31m---------------------------------------------------------------------------\u001b[0m",
      "\u001b[1;31mIndexError\u001b[0m                                Traceback (most recent call last)",
      "\u001b[1;32m<ipython-input-265-f0aca37671fe>\u001b[0m in \u001b[0;36m<module>\u001b[1;34m\u001b[0m\n\u001b[1;32m----> 1\u001b[1;33m \u001b[0mmylist\u001b[0m\u001b[1;33m.\u001b[0m\u001b[0mpop\u001b[0m\u001b[1;33m(\u001b[0m\u001b[1;36m2\u001b[0m\u001b[1;33m)\u001b[0m\u001b[1;33m\u001b[0m\u001b[1;33m\u001b[0m\u001b[0m\n\u001b[0m",
      "\u001b[1;32m<ipython-input-251-886ca58ec19c>\u001b[0m in \u001b[0;36mpop\u001b[1;34m(self, pos)\u001b[0m\n\u001b[0;32m    199\u001b[0m             \u001b[1;32mraise\u001b[0m \u001b[0mIndexError\u001b[0m\u001b[1;33m(\u001b[0m\u001b[1;34m\"Empty list, nothing to pop\"\u001b[0m\u001b[1;33m)\u001b[0m\u001b[1;33m\u001b[0m\u001b[1;33m\u001b[0m\u001b[0m\n\u001b[0;32m    200\u001b[0m         \u001b[1;32melif\u001b[0m \u001b[0mpos\u001b[0m \u001b[1;33m>=\u001b[0m \u001b[0msize\u001b[0m \u001b[1;32mor\u001b[0m \u001b[0mpos\u001b[0m \u001b[1;33m<\u001b[0m \u001b[1;33m-\u001b[0m\u001b[0msize\u001b[0m\u001b[1;33m:\u001b[0m\u001b[1;33m\u001b[0m\u001b[1;33m\u001b[0m\u001b[0m\n\u001b[1;32m--> 201\u001b[1;33m             \u001b[1;32mraise\u001b[0m \u001b[0mIndexError\u001b[0m\u001b[1;33m(\u001b[0m\u001b[1;34m\"Wrong position\"\u001b[0m\u001b[1;33m)\u001b[0m\u001b[1;33m\u001b[0m\u001b[1;33m\u001b[0m\u001b[0m\n\u001b[0m\u001b[0;32m    202\u001b[0m \u001b[1;33m\u001b[0m\u001b[0m\n\u001b[0;32m    203\u001b[0m         \u001b[1;32melif\u001b[0m \u001b[0msize\u001b[0m \u001b[1;33m==\u001b[0m \u001b[1;36m1\u001b[0m\u001b[1;33m:\u001b[0m\u001b[1;33m\u001b[0m\u001b[1;33m\u001b[0m\u001b[0m\n",
      "\u001b[1;31mIndexError\u001b[0m: Wrong position"
     ]
    }
   ],
   "source": [
    "mylist.pop(2)"
   ]
  },
  {
   "cell_type": "code",
   "execution_count": 266,
   "metadata": {},
   "outputs": [
    {
     "data": {
      "text/plain": [
       "4"
      ]
     },
     "execution_count": 266,
     "metadata": {},
     "output_type": "execute_result"
    }
   ],
   "source": [
    "mylist.pop(1)"
   ]
  },
  {
   "cell_type": "code",
   "execution_count": 267,
   "metadata": {},
   "outputs": [
    {
     "name": "stdout",
     "output_type": "stream",
     "text": [
      "[3]\n"
     ]
    }
   ],
   "source": [
    "print(mylist)"
   ]
  },
  {
   "cell_type": "code",
   "execution_count": 268,
   "metadata": {},
   "outputs": [
    {
     "data": {
      "text/plain": [
       "3"
      ]
     },
     "execution_count": 268,
     "metadata": {},
     "output_type": "execute_result"
    }
   ],
   "source": [
    "mylist.pop(-1)"
   ]
  },
  {
   "cell_type": "code",
   "execution_count": 269,
   "metadata": {},
   "outputs": [
    {
     "name": "stdout",
     "output_type": "stream",
     "text": [
      "[]\n"
     ]
    }
   ],
   "source": [
    "print(mylist)"
   ]
  },
  {
   "cell_type": "code",
   "execution_count": 270,
   "metadata": {},
   "outputs": [
    {
     "ename": "IndexError",
     "evalue": "Empty list, nothing to pop",
     "output_type": "error",
     "traceback": [
      "\u001b[1;31m---------------------------------------------------------------------------\u001b[0m",
      "\u001b[1;31mIndexError\u001b[0m                                Traceback (most recent call last)",
      "\u001b[1;32m<ipython-input-270-53acc36e1148>\u001b[0m in \u001b[0;36m<module>\u001b[1;34m\u001b[0m\n\u001b[1;32m----> 1\u001b[1;33m \u001b[0mmylist\u001b[0m\u001b[1;33m.\u001b[0m\u001b[0mpop\u001b[0m\u001b[1;33m(\u001b[0m\u001b[1;33m)\u001b[0m\u001b[1;33m\u001b[0m\u001b[1;33m\u001b[0m\u001b[0m\n\u001b[0m",
      "\u001b[1;32m<ipython-input-251-886ca58ec19c>\u001b[0m in \u001b[0;36mpop\u001b[1;34m(self, pos)\u001b[0m\n\u001b[0;32m    197\u001b[0m \u001b[1;33m\u001b[0m\u001b[0m\n\u001b[0;32m    198\u001b[0m         \u001b[1;32mif\u001b[0m \u001b[0mself\u001b[0m\u001b[1;33m.\u001b[0m\u001b[0misEmpty\u001b[0m\u001b[1;33m(\u001b[0m\u001b[1;33m)\u001b[0m\u001b[1;33m:\u001b[0m\u001b[1;33m\u001b[0m\u001b[1;33m\u001b[0m\u001b[0m\n\u001b[1;32m--> 199\u001b[1;33m             \u001b[1;32mraise\u001b[0m \u001b[0mIndexError\u001b[0m\u001b[1;33m(\u001b[0m\u001b[1;34m\"Empty list, nothing to pop\"\u001b[0m\u001b[1;33m)\u001b[0m\u001b[1;33m\u001b[0m\u001b[1;33m\u001b[0m\u001b[0m\n\u001b[0m\u001b[0;32m    200\u001b[0m         \u001b[1;32melif\u001b[0m \u001b[0mpos\u001b[0m \u001b[1;33m>=\u001b[0m \u001b[0msize\u001b[0m \u001b[1;32mor\u001b[0m \u001b[0mpos\u001b[0m \u001b[1;33m<\u001b[0m \u001b[1;33m-\u001b[0m\u001b[0msize\u001b[0m\u001b[1;33m:\u001b[0m\u001b[1;33m\u001b[0m\u001b[1;33m\u001b[0m\u001b[0m\n\u001b[0;32m    201\u001b[0m             \u001b[1;32mraise\u001b[0m \u001b[0mIndexError\u001b[0m\u001b[1;33m(\u001b[0m\u001b[1;34m\"Wrong position\"\u001b[0m\u001b[1;33m)\u001b[0m\u001b[1;33m\u001b[0m\u001b[1;33m\u001b[0m\u001b[0m\n",
      "\u001b[1;31mIndexError\u001b[0m: Empty list, nothing to pop"
     ]
    }
   ],
   "source": [
    "mylist.pop()"
   ]
  },
  {
   "cell_type": "markdown",
   "metadata": {},
   "source": [
    "Działa ;)"
   ]
  },
  {
   "cell_type": "markdown",
   "metadata": {},
   "source": [
    "* Test index"
   ]
  },
  {
   "cell_type": "code",
   "execution_count": null,
   "metadata": {},
   "outputs": [],
   "source": [
    "mylist = UnorderedList()"
   ]
  },
  {
   "cell_type": "code",
   "execution_count": 276,
   "metadata": {},
   "outputs": [],
   "source": [
    "mylist.append(1)\n",
    "mylist.append(2)\n",
    "mylist.append(3)\n",
    "mylist.append(4)\n",
    "mylist.append(5)"
   ]
  },
  {
   "cell_type": "code",
   "execution_count": 277,
   "metadata": {},
   "outputs": [
    {
     "name": "stdout",
     "output_type": "stream",
     "text": [
      "[1, 2, 3, 4, 5]\n"
     ]
    }
   ],
   "source": [
    "print(mylist)"
   ]
  },
  {
   "cell_type": "markdown",
   "metadata": {},
   "source": [
    "Nie ma elementu w liście"
   ]
  },
  {
   "cell_type": "code",
   "execution_count": 278,
   "metadata": {},
   "outputs": [
    {
     "ename": "ValueError",
     "evalue": "Element is not in list!",
     "output_type": "error",
     "traceback": [
      "\u001b[1;31m---------------------------------------------------------------------------\u001b[0m",
      "\u001b[1;31mValueError\u001b[0m                                Traceback (most recent call last)",
      "\u001b[1;32m<ipython-input-278-c0ecaada66c1>\u001b[0m in \u001b[0;36m<module>\u001b[1;34m\u001b[0m\n\u001b[1;32m----> 1\u001b[1;33m \u001b[0mprint\u001b[0m\u001b[1;33m(\u001b[0m\u001b[0mmylist\u001b[0m\u001b[1;33m.\u001b[0m\u001b[0mindex\u001b[0m\u001b[1;33m(\u001b[0m\u001b[1;36m0\u001b[0m\u001b[1;33m)\u001b[0m\u001b[1;33m)\u001b[0m\u001b[1;33m\u001b[0m\u001b[1;33m\u001b[0m\u001b[0m\n\u001b[0m",
      "\u001b[1;32m<ipython-input-251-886ca58ec19c>\u001b[0m in \u001b[0;36mindex\u001b[1;34m(self, item)\u001b[0m\n\u001b[0;32m    147\u001b[0m                 \u001b[0mindex\u001b[0m \u001b[1;33m+=\u001b[0m \u001b[1;36m1\u001b[0m\u001b[1;33m\u001b[0m\u001b[1;33m\u001b[0m\u001b[0m\n\u001b[0;32m    148\u001b[0m                 \u001b[0mcurrent\u001b[0m \u001b[1;33m=\u001b[0m \u001b[0mcurrent\u001b[0m\u001b[1;33m.\u001b[0m\u001b[0mgetNext\u001b[0m\u001b[1;33m(\u001b[0m\u001b[1;33m)\u001b[0m\u001b[1;33m\u001b[0m\u001b[1;33m\u001b[0m\u001b[0m\n\u001b[1;32m--> 149\u001b[1;33m         \u001b[1;32mraise\u001b[0m \u001b[0mValueError\u001b[0m\u001b[1;33m(\u001b[0m\u001b[1;34m\"Element is not in list!\"\u001b[0m\u001b[1;33m)\u001b[0m\u001b[1;33m\u001b[0m\u001b[1;33m\u001b[0m\u001b[0m\n\u001b[0m\u001b[0;32m    150\u001b[0m \u001b[1;33m\u001b[0m\u001b[0m\n\u001b[0;32m    151\u001b[0m     \u001b[1;32mdef\u001b[0m \u001b[0minsert\u001b[0m\u001b[1;33m(\u001b[0m\u001b[0mself\u001b[0m\u001b[1;33m,\u001b[0m \u001b[0mpos\u001b[0m\u001b[1;33m,\u001b[0m \u001b[0mitem\u001b[0m\u001b[1;33m)\u001b[0m\u001b[1;33m:\u001b[0m\u001b[1;33m\u001b[0m\u001b[1;33m\u001b[0m\u001b[0m\n",
      "\u001b[1;31mValueError\u001b[0m: Element is not in list!"
     ]
    }
   ],
   "source": [
    "print(mylist.index(0))"
   ]
  },
  {
   "cell_type": "markdown",
   "metadata": {},
   "source": [
    "Efekt mamy taki sam jak w przypadku listy pythonowej"
   ]
  },
  {
   "cell_type": "code",
   "execution_count": 280,
   "metadata": {},
   "outputs": [
    {
     "data": {
      "text/plain": [
       "0"
      ]
     },
     "execution_count": 280,
     "metadata": {},
     "output_type": "execute_result"
    }
   ],
   "source": [
    "mylist.index(1)"
   ]
  },
  {
   "cell_type": "code",
   "execution_count": 281,
   "metadata": {},
   "outputs": [
    {
     "data": {
      "text/plain": [
       "2"
      ]
     },
     "execution_count": 281,
     "metadata": {},
     "output_type": "execute_result"
    }
   ],
   "source": [
    "mylist.index(3)"
   ]
  },
  {
   "cell_type": "code",
   "execution_count": 282,
   "metadata": {},
   "outputs": [
    {
     "data": {
      "text/plain": [
       "3"
      ]
     },
     "execution_count": 282,
     "metadata": {},
     "output_type": "execute_result"
    }
   ],
   "source": [
    "mylist.index(4)"
   ]
  },
  {
   "cell_type": "markdown",
   "metadata": {},
   "source": [
    "Działa ;)"
   ]
  },
  {
   "cell_type": "markdown",
   "metadata": {},
   "source": [
    "* Test insert"
   ]
  },
  {
   "cell_type": "code",
   "execution_count": 283,
   "metadata": {},
   "outputs": [],
   "source": [
    "mylist.insert(0, \"a\")"
   ]
  },
  {
   "cell_type": "code",
   "execution_count": 284,
   "metadata": {},
   "outputs": [
    {
     "name": "stdout",
     "output_type": "stream",
     "text": [
      "[a, 1, 2, 3, 4, 5]\n"
     ]
    }
   ],
   "source": [
    "print(mylist)"
   ]
  },
  {
   "cell_type": "code",
   "execution_count": 285,
   "metadata": {},
   "outputs": [],
   "source": [
    "mylist.insert(-2, \"b\")"
   ]
  },
  {
   "cell_type": "code",
   "execution_count": 286,
   "metadata": {},
   "outputs": [
    {
     "name": "stdout",
     "output_type": "stream",
     "text": [
      "[a, 1, 2, 3, 4, b, 5]\n"
     ]
    }
   ],
   "source": [
    "print(mylist)"
   ]
  },
  {
   "cell_type": "code",
   "execution_count": 287,
   "metadata": {},
   "outputs": [
    {
     "ename": "IndexError",
     "evalue": "Wrong position!",
     "output_type": "error",
     "traceback": [
      "\u001b[1;31m---------------------------------------------------------------------------\u001b[0m",
      "\u001b[1;31mIndexError\u001b[0m                                Traceback (most recent call last)",
      "\u001b[1;32m<ipython-input-287-e24202b75a8a>\u001b[0m in \u001b[0;36m<module>\u001b[1;34m\u001b[0m\n\u001b[1;32m----> 1\u001b[1;33m \u001b[0mmylist\u001b[0m\u001b[1;33m.\u001b[0m\u001b[0minsert\u001b[0m\u001b[1;33m(\u001b[0m\u001b[1;33m-\u001b[0m\u001b[1;36m9\u001b[0m\u001b[1;33m,\u001b[0m \u001b[1;34m\"b\"\u001b[0m\u001b[1;33m)\u001b[0m\u001b[1;33m\u001b[0m\u001b[1;33m\u001b[0m\u001b[0m\n\u001b[0m",
      "\u001b[1;32m<ipython-input-251-886ca58ec19c>\u001b[0m in \u001b[0;36minsert\u001b[1;34m(self, pos, item)\u001b[0m\n\u001b[0;32m    164\u001b[0m \u001b[1;33m\u001b[0m\u001b[0m\n\u001b[0;32m    165\u001b[0m         \u001b[1;32mif\u001b[0m \u001b[0mpos\u001b[0m \u001b[1;33m>\u001b[0m \u001b[0msize\u001b[0m \u001b[1;32mor\u001b[0m \u001b[0mpos\u001b[0m \u001b[1;33m<\u001b[0m \u001b[1;33m-\u001b[0m\u001b[0msize\u001b[0m\u001b[1;33m-\u001b[0m\u001b[1;36m1\u001b[0m\u001b[1;33m:\u001b[0m\u001b[1;33m\u001b[0m\u001b[1;33m\u001b[0m\u001b[0m\n\u001b[1;32m--> 166\u001b[1;33m             \u001b[1;32mraise\u001b[0m \u001b[0mIndexError\u001b[0m\u001b[1;33m(\u001b[0m\u001b[1;34m\"Wrong position!\"\u001b[0m\u001b[1;33m)\u001b[0m\u001b[1;33m\u001b[0m\u001b[1;33m\u001b[0m\u001b[0m\n\u001b[0m\u001b[0;32m    167\u001b[0m \u001b[1;33m\u001b[0m\u001b[0m\n\u001b[0;32m    168\u001b[0m         \u001b[1;32melif\u001b[0m \u001b[0mpos\u001b[0m \u001b[1;33m==\u001b[0m \u001b[1;36m0\u001b[0m \u001b[1;32mor\u001b[0m \u001b[0mpos\u001b[0m \u001b[1;33m==\u001b[0m \u001b[1;33m-\u001b[0m\u001b[0msize\u001b[0m\u001b[1;33m-\u001b[0m\u001b[1;36m1\u001b[0m\u001b[1;33m:\u001b[0m\u001b[1;33m\u001b[0m\u001b[1;33m\u001b[0m\u001b[0m\n",
      "\u001b[1;31mIndexError\u001b[0m: Wrong position!"
     ]
    }
   ],
   "source": [
    "mylist.insert(-9, \"b\")"
   ]
  },
  {
   "cell_type": "code",
   "execution_count": 294,
   "metadata": {},
   "outputs": [],
   "source": [
    "mylist.insert(7, \"c\")"
   ]
  },
  {
   "cell_type": "code",
   "execution_count": 295,
   "metadata": {},
   "outputs": [
    {
     "name": "stdout",
     "output_type": "stream",
     "text": [
      "[a, 1, 2, 3, 4, b, 5, c]\n"
     ]
    }
   ],
   "source": [
    "print(mylist)"
   ]
  },
  {
   "cell_type": "markdown",
   "metadata": {},
   "source": [
    "Działa ;)"
   ]
  },
  {
   "cell_type": "markdown",
   "metadata": {},
   "source": [
    "Metoda która nie była podana, ale jest użyteczna - peek"
   ]
  },
  {
   "cell_type": "code",
   "execution_count": 296,
   "metadata": {},
   "outputs": [
    {
     "data": {
      "text/plain": [
       "'c'"
      ]
     },
     "execution_count": 296,
     "metadata": {},
     "output_type": "execute_result"
    }
   ],
   "source": [
    "mylist.peek()"
   ]
  },
  {
   "cell_type": "code",
   "execution_count": 297,
   "metadata": {},
   "outputs": [
    {
     "name": "stdout",
     "output_type": "stream",
     "text": [
      "[a, 1, 2, 3, 4, b, 5, c]\n"
     ]
    }
   ],
   "source": [
    "print(mylist)"
   ]
  },
  {
   "cell_type": "markdown",
   "metadata": {},
   "source": [
    "### <span style=\"color:Crimson\"> Zadanie 6 </span>"
   ]
  },
  {
   "cell_type": "markdown",
   "metadata": {},
   "source": [
    "Wersja z wykładu:"
   ]
  },
  {
   "cell_type": "code",
   "execution_count": 298,
   "metadata": {},
   "outputs": [],
   "source": [
    "class Stack_6_1:\n",
    "    def __init__(self):\n",
    "        \"\"\"\n",
    "        Create stack\n",
    "        \"\"\"\n",
    "        self.items = []\n",
    "\n",
    "    def isEmpty(self):\n",
    "        \"\"\"\n",
    "        Check if stack is empty\n",
    "\n",
    "        Returns:\n",
    "            (bool): True if stack is empty, otherwise False\n",
    "        \"\"\"\n",
    "        return self.items == []\n",
    "\n",
    "    def push(self, item):\n",
    "        \"\"\"\n",
    "        Add item to the end\n",
    "\n",
    "        Args:\n",
    "            item: item to add\n",
    "        \"\"\"\n",
    "        self.items.append(item)\n",
    "\n",
    "    def pop(self):\n",
    "        \"\"\"\n",
    "        Delate last item\n",
    "\n",
    "        Returns:\n",
    "            Delated item\n",
    "        \"\"\"\n",
    "        return self.items.pop()\n",
    "\n",
    "    def peek(self):\n",
    "        \"\"\"\n",
    "        Return last item\n",
    "        \n",
    "        Returns:\n",
    "            Last item\n",
    "        \"\"\"\n",
    "        return self.items[len(self.items)-1]\n",
    "\n",
    "    def size(self):\n",
    "        \"\"\"\n",
    "        Check size of stack\n",
    "        \n",
    "        Returns:\n",
    "            (int): Size of stack\n",
    "        \"\"\"\n",
    "        return len(self.items)\n",
    "\n",
    "    def __str__(self):\n",
    "        \"\"\"\n",
    "        Show str form of stack\n",
    "        \n",
    "        Returns:\n",
    "            (str): str from stack\n",
    "        \"\"\"\n",
    "        return str(self.items)"
   ]
  },
  {
   "cell_type": "markdown",
   "metadata": {},
   "source": [
    "**Wersja z wykorzystaniem listy z zad 5**"
   ]
  },
  {
   "cell_type": "code",
   "execution_count": 299,
   "metadata": {},
   "outputs": [],
   "source": [
    "class Stack_6_2:\n",
    "    def __init__(self):\n",
    "        \"\"\"\n",
    "        Create stack\n",
    "        \"\"\"\n",
    "        self.items = UnorderedList()\n",
    "\n",
    "    def isEmpty(self):\n",
    "        \"\"\"\n",
    "        Check if stack is empty\n",
    "\n",
    "        Returns:\n",
    "            (bool): True if stack is empty, otherwise False\n",
    "        \"\"\"\n",
    "        return self.items.isEmpty()\n",
    "\n",
    "    def push(self, item):\n",
    "        \"\"\"\n",
    "        Add item to the end\n",
    "\n",
    "        Args:\n",
    "            item: item to add\n",
    "        \"\"\"\n",
    "        self.items.append(item)\n",
    "\n",
    "    def pop(self):\n",
    "        \"\"\"\n",
    "        Delate last item\n",
    "\n",
    "        Returns:\n",
    "            Delated item\n",
    "        \"\"\"\n",
    "        return self.items.pop()\n",
    "\n",
    "    def size(self):\n",
    "        \"\"\"\n",
    "        Check size of stack\n",
    "        \n",
    "        Returns:\n",
    "            (int): Size of stack\n",
    "        \"\"\"\n",
    "        return self.items.size()\n",
    "\n",
    "    def peek(self):\n",
    "        \"\"\"\n",
    "        Return last item\n",
    "        \n",
    "        Returns:\n",
    "            Last item\n",
    "        \"\"\"\n",
    "        return self.items.peek()\n",
    "        \n",
    "    def __str__(self):\n",
    "        \"\"\"\n",
    "        Show str form of stack\n",
    "        \n",
    "        Returns:\n",
    "            (str): str from stack\n",
    "        \"\"\"\n",
    "        return str(self.items)"
   ]
  },
  {
   "cell_type": "markdown",
   "metadata": {},
   "source": [
    "Przykład działania"
   ]
  },
  {
   "cell_type": "code",
   "execution_count": 301,
   "metadata": {},
   "outputs": [],
   "source": [
    "q = Stack_6_2()"
   ]
  },
  {
   "cell_type": "code",
   "execution_count": 302,
   "metadata": {},
   "outputs": [
    {
     "data": {
      "text/plain": [
       "True"
      ]
     },
     "execution_count": 302,
     "metadata": {},
     "output_type": "execute_result"
    }
   ],
   "source": [
    "q.isEmpty()"
   ]
  },
  {
   "cell_type": "code",
   "execution_count": 303,
   "metadata": {},
   "outputs": [],
   "source": [
    "q.push(\"1\")\n",
    "q.push(\"2\")\n",
    "q.push(\"3\")\n",
    "q.push(\"4i\")\n",
    "q.push(\"58\")"
   ]
  },
  {
   "cell_type": "code",
   "execution_count": 304,
   "metadata": {},
   "outputs": [
    {
     "data": {
      "text/plain": [
       "'58'"
      ]
     },
     "execution_count": 304,
     "metadata": {},
     "output_type": "execute_result"
    }
   ],
   "source": [
    "q.peek()"
   ]
  },
  {
   "cell_type": "code",
   "execution_count": 305,
   "metadata": {},
   "outputs": [
    {
     "data": {
      "text/plain": [
       "'58'"
      ]
     },
     "execution_count": 305,
     "metadata": {},
     "output_type": "execute_result"
    }
   ],
   "source": [
    "q.pop()"
   ]
  },
  {
   "cell_type": "code",
   "execution_count": 306,
   "metadata": {},
   "outputs": [
    {
     "name": "stdout",
     "output_type": "stream",
     "text": [
      "[1, 2, 3, 4i]\n"
     ]
    }
   ],
   "source": [
    "print(q)"
   ]
  },
  {
   "cell_type": "markdown",
   "metadata": {},
   "source": [
    "### <span style=\"color:Crimson\"> Zadanie 7 </span>"
   ]
  },
  {
   "cell_type": "markdown",
   "metadata": {},
   "source": [
    "Kolejka dwustronna (bezpośrednio z wykładu)"
   ]
  },
  {
   "cell_type": "code",
   "execution_count": 307,
   "metadata": {},
   "outputs": [],
   "source": [
    "class Deque_7_1:\n",
    "    def __init__(self):\n",
    "        \"\"\"\n",
    "        Create dequeue\n",
    "        \"\"\"\n",
    "        self.items = []\n",
    "\n",
    "    def isEmpty(self):\n",
    "        \"\"\"\n",
    "        Check if deque is empty\n",
    "\n",
    "        Returns:\n",
    "            (bool): True if deque is empty, otherwise False\n",
    "        \"\"\"\n",
    "        return self.items == []\n",
    "\n",
    "    def addFront(self, item):\n",
    "        \"\"\"\n",
    "        Add item to begining\n",
    "        \"\"\"\n",
    "        self.items.append(item)\n",
    "\n",
    "    def addRear(self, item):\n",
    "        \"\"\"\n",
    "        Add item to the end\n",
    "        \"\"\"\n",
    "        self.items.insert(0,item)\n",
    "\n",
    "    def removeFront(self):\n",
    "        \"\"\"\n",
    "        Remove item from begin\n",
    "        \n",
    "        Returns:\n",
    "            Removed item\n",
    "        \"\"\"\n",
    "        return self.items.pop()\n",
    "\n",
    "    def removeRear(self):\n",
    "        \"\"\"\n",
    "        Remove item from the end\n",
    "        \n",
    "        Returns:\n",
    "            Removed item\n",
    "        \"\"\"\n",
    "        return self.items.pop(0)\n",
    "\n",
    "    def size(self):\n",
    "        \"\"\"\n",
    "        Check size of deque\n",
    "        \n",
    "        Returns:\n",
    "            (int): size\n",
    "        \"\"\"\n",
    "        return len(self.items)"
   ]
  },
  {
   "cell_type": "markdown",
   "metadata": {},
   "source": [
    "**Wersja z wykorzystaniem listy z zad 5**"
   ]
  },
  {
   "cell_type": "code",
   "execution_count": 308,
   "metadata": {},
   "outputs": [],
   "source": [
    "class Deque_7_2:\n",
    "    def __init__(self):\n",
    "        \"\"\"\n",
    "        Create dequeue\n",
    "        \"\"\"\n",
    "        self.items = UnorderedList()\n",
    "\n",
    "    def isEmpty(self):\n",
    "        \"\"\"\n",
    "        Check if deque is empty\n",
    "\n",
    "        Returns:\n",
    "            (bool): True if deque is empty, otherwise False\n",
    "        \"\"\"\n",
    "        return self.items.isEmpty()\n",
    "\n",
    "    def addFront(self, item):\n",
    "        \"\"\"\n",
    "        Add item to begining\n",
    "        \"\"\"\n",
    "        self.items.add(item)\n",
    "    \n",
    "    def addRear(self, item):\n",
    "        \"\"\"\n",
    "        Add item to the end\n",
    "        \"\"\"\n",
    "        self.items.append(item)\n",
    "        \n",
    "    def removeFront(self):\n",
    "        \"\"\"\n",
    "        Remove item from begin\n",
    "        \n",
    "        Returns:\n",
    "            Removed item\n",
    "        \"\"\"\n",
    "        return self.items.pop(0)\n",
    "\n",
    "    def removeRear(self):\n",
    "        \"\"\"\n",
    "        Remove item from the end\n",
    "        \n",
    "        Returns:\n",
    "            Removed item\n",
    "        \"\"\"\n",
    "        return self.items.pop()\n",
    "        \n",
    "    def size(self):\n",
    "        \"\"\"\n",
    "        Check size of deque\n",
    "        \n",
    "        Returns: \n",
    "            (int): size\n",
    "        \"\"\"\n",
    "        return self.items.size()\n",
    "\n",
    "    def __str__(self):\n",
    "        \"\"\"\n",
    "        Str form of deque\n",
    "        \n",
    "        Returns: \n",
    "            (str): str form\n",
    "        \"\"\"\n",
    "        return str(self.items)"
   ]
  },
  {
   "cell_type": "markdown",
   "metadata": {},
   "source": [
    "Przykład działania:"
   ]
  },
  {
   "cell_type": "code",
   "execution_count": 309,
   "metadata": {},
   "outputs": [
    {
     "data": {
      "text/plain": [
       "True"
      ]
     },
     "execution_count": 309,
     "metadata": {},
     "output_type": "execute_result"
    }
   ],
   "source": [
    "d = Deque_7_2()\n",
    "d.isEmpty()"
   ]
  },
  {
   "cell_type": "code",
   "execution_count": 310,
   "metadata": {},
   "outputs": [
    {
     "name": "stdout",
     "output_type": "stream",
     "text": [
      "[2, 1, 3]\n"
     ]
    }
   ],
   "source": [
    "d.addFront(\"1\")\n",
    "d.addFront(\"2\")\n",
    "d.addRear(\"3\")\n",
    "print(d)"
   ]
  },
  {
   "cell_type": "code",
   "execution_count": 113,
   "metadata": {},
   "outputs": [
    {
     "data": {
      "text/plain": [
       "'2'"
      ]
     },
     "execution_count": 113,
     "metadata": {},
     "output_type": "execute_result"
    }
   ],
   "source": [
    "d.removeFront()"
   ]
  },
  {
   "cell_type": "code",
   "execution_count": 114,
   "metadata": {},
   "outputs": [
    {
     "data": {
      "text/plain": [
       "'3'"
      ]
     },
     "execution_count": 114,
     "metadata": {},
     "output_type": "execute_result"
    }
   ],
   "source": [
    "d.removeRear()"
   ]
  },
  {
   "cell_type": "code",
   "execution_count": 115,
   "metadata": {},
   "outputs": [
    {
     "data": {
      "text/plain": [
       "1"
      ]
     },
     "execution_count": 115,
     "metadata": {},
     "output_type": "execute_result"
    }
   ],
   "source": [
    "d.size()"
   ]
  },
  {
   "cell_type": "markdown",
   "metadata": {},
   "source": [
    "### <span style=\"color:Crimson\"> Zadanie 8 </span>"
   ]
  },
  {
   "cell_type": "markdown",
   "metadata": {},
   "source": [
    "Spardzam wydajność dodawając i usuwając n elementów."
   ]
  },
  {
   "cell_type": "code",
   "execution_count": 311,
   "metadata": {},
   "outputs": [],
   "source": [
    "n = 100\n",
    "a = []\n",
    "b = UnorderedList()"
   ]
  },
  {
   "cell_type": "code",
   "execution_count": 312,
   "metadata": {},
   "outputs": [
    {
     "name": "stdout",
     "output_type": "stream",
     "text": [
      "11.2 ms ± 1.26 ms per loop (mean ± std. dev. of 7 runs, 100 loops each)\n"
     ]
    }
   ],
   "source": [
    "%%timeit\n",
    "for k in range(n):\n",
    "    for i in range(n):\n",
    "        a.append(random.randint(1, 1000000))\n",
    "    for i in range(n):\n",
    "        a.pop()"
   ]
  },
  {
   "cell_type": "code",
   "execution_count": 313,
   "metadata": {},
   "outputs": [
    {
     "name": "stdout",
     "output_type": "stream",
     "text": [
      "314 ms ± 20 ms per loop (mean ± std. dev. of 7 runs, 1 loop each)\n"
     ]
    }
   ],
   "source": [
    "%%timeit\n",
    "for k in range(n):\n",
    "    for i in range(n):\n",
    "        b.append(random.randint(1, 1000000))\n",
    "    for i in range(n):\n",
    "        b.pop()"
   ]
  },
  {
   "cell_type": "markdown",
   "metadata": {},
   "source": [
    "Lista pythonowa jest szybsza"
   ]
  },
  {
   "cell_type": "markdown",
   "metadata": {},
   "source": [
    "Teraz, porównajmy dane za pomocą wykresów"
   ]
  },
  {
   "cell_type": "code",
   "execution_count": 314,
   "metadata": {},
   "outputs": [
    {
     "data": {
      "image/png": "[encoded data removed]",
      "text/plain": [
       "<Figure size 864x360 with 3 Axes>"
      ]
     },
     "metadata": {
      "needs_background": "light"
     },
     "output_type": "display_data"
    }
   ],
   "source": [
    "def time_adding_list(kind, elements = 10000):\n",
    "    \"\"\"\n",
    "    Add number of element to list,\n",
    "    and count time of this action\n",
    "    \n",
    "    Args:\n",
    "        kind: kind of list, \n",
    "        it can be list or UnorderedList\n",
    "        elements(int): number of element\n",
    "        to add to list\n",
    "    \n",
    "    Returns:\n",
    "        time of adding             \n",
    "    \"\"\"\n",
    "    ourlist = kind()\n",
    "    start = time.time() \n",
    "    for i in range(elements):\n",
    "        ourlist.append(i)\n",
    "    end = time.time() \n",
    "    add_time=end - start\n",
    "    return add_time\n",
    "\n",
    "def time_delating_list(kind, elements = 10000):\n",
    "    \"\"\"\n",
    "    Delate number of element form list,\n",
    "    and count time of this action\n",
    "    \n",
    "    Args:\n",
    "        kind: kind of list,\n",
    "        it can be list or UnorderedList\n",
    "        elements(int): number of element\n",
    "        to delate from\n",
    "    \n",
    "    Returns:\n",
    "        time of delating            \n",
    "    \"\"\"\n",
    "    ourlist = kind()\n",
    "    for i in range(elements):\n",
    "        ourlist.append(i)\n",
    "    start = time.time()\n",
    "    for i in range(elements):\n",
    "        ourlist.pop()\n",
    "    end = time.time()\n",
    "    times=end - start\n",
    "    return times\n",
    "\n",
    "def time_delating_and_adding_list(kind, elements = 10000):\n",
    "    \"\"\"\n",
    "    Add and delate number of element form lisr,\n",
    "    and count time of this action\n",
    "    \n",
    "    Args:\n",
    "        kind: kind of list, \n",
    "        it can be list or UnorderedList\n",
    "        elements(int): number of element\n",
    "        to add and delate from list\n",
    "    \n",
    "    Returns:\n",
    "        time of adding and delating            \n",
    "    \"\"\"\n",
    "    start = time.time()\n",
    "    ourlist = kind()\n",
    "    for i in range(elements):\n",
    "        ourlist.append(i)\n",
    "    for i in range(elements):\n",
    "        ourlist.pop()\n",
    "    end = time.time()\n",
    "    times = end - start\n",
    "    return times\n",
    "\n",
    "numbers = [0, 1000 ,2000, 3500, 4500, 6000, 7500, 10000]\n",
    "fig  = plt.subplots(figsize=(12, 5))\n",
    "\n",
    "ax1 = plt.subplot(221)\n",
    "ax1.plot(numbers, [time_adding_list(list, n) for n in numbers], color='magenta', label = \"Python list\" , marker = '.', linestyle = '--' )\n",
    "ax1.plot(numbers, [time_adding_list(UnorderedList, n) for n in numbers], color=\"lawngreen\", label = \"UnorderedList\" , marker = '.', linestyle = '--')\n",
    "ax1.set_title(\"Adding to list\")\n",
    "ax1.legend()\n",
    "ax1.set_xlabel(\"elements\")\n",
    "ax1.set_ylabel(\"time\")\n",
    "\n",
    "ax2 = plt.subplot(223)\n",
    "ax2.plot(numbers, [time_delating_list(list, n) for n in numbers], color='magenta', label = \"Python list\" , marker = '.', linestyle = '--' )\n",
    "ax2.plot(numbers, [time_delating_list(UnorderedList, n) for n in numbers], color=\"lawngreen\", label = \"UnorderedList\" , marker = '.', linestyle = '--')\n",
    "ax2.set_title(\"Delating from list\")\n",
    "ax2.legend()\n",
    "ax2.set_xlabel(\"elements\")\n",
    "ax2.set_ylabel(\"time\")\n",
    "\n",
    "ax3 = plt.subplot(122)\n",
    "ax3.plot(numbers, [time_delating_and_adding_list(list, n) for n in numbers], color='magenta', label = \"Python list\" , marker = '.', linestyle = '--' )\n",
    "ax3.plot(numbers, [time_delating_and_adding_list(UnorderedList, n) for n in numbers], color=\"lawngreen\", label = \"UnorderedList\" , marker = '.', linestyle = '--')\n",
    "ax3.set_title(\"Adding and delating from list\")\n",
    "ax3.legend()\n",
    "ax3.set_xlabel(\"elements\")\n",
    "ax3.set_ylabel(\"time\")\n",
    "\n",
    "plt.tight_layout()\n",
    "plt.show()"
   ]
  },
  {
   "cell_type": "markdown",
   "metadata": {},
   "source": [
    "Widać wyraźnie, że lista pythonowa jest szybsza (co nie jest w sumie zaskoczeniem)."
   ]
  },
  {
   "cell_type": "code",
   "execution_count": null,
   "metadata": {},
   "outputs": [],
   "source": []
  }
 ],
 "metadata": {
  "@webio": {
   "lastCommId": null,
   "lastKernelId": null
  },
  "interpreter": {
   "hash": "ca3c50c4a9484e1f878e71253626bd5c3212d2c6c5c4ab0f22dd93c4f9132135"
  },
  "kernelspec": {
   "display_name": "Python 3",
   "language": "python",
   "name": "python3"
  },
  "language_info": {
   "codemirror_mode": {
    "name": "ipython",
    "version": 3
   },
   "file_extension": ".py",
   "mimetype": "text/x-python",
   "name": "python",
   "nbconvert_exporter": "python",
   "pygments_lexer": "ipython3",
   "version": "3.8.5"
  }
 },
 "nbformat": 4,
 "nbformat_minor": 2
}
